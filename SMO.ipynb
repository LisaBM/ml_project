{
 "cells": [
  {
   "cell_type": "markdown",
   "metadata": {},
   "source": [
    "## Main routine SMO Modification 1 Keerthi et al."
   ]
  },
  {
   "cell_type": "code",
   "execution_count": null,
   "metadata": {
    "collapsed": true
   },
   "outputs": [],
   "source": [
    "import numpy as np\n",
    "import matplotlib.pyplot as plt"
   ]
  },
  {
   "cell_type": "code",
   "execution_count": null,
   "metadata": {
    "collapsed": false
   },
   "outputs": [],
   "source": [
    "import numpy as np\n",
    "import scipy\n",
    "import pandas as pd # data processing, CSV file I/O (e.g. pd.read_csv)\n",
    "from sklearn.metrics.pairwise import pairwise_kernels\n",
    "from scipy.optimize import minimize\n",
    "import matplotlib.pyplot as plt\n",
    "%matplotlib inline"
   ]
  },
  {
   "cell_type": "code",
   "execution_count": null,
   "metadata": {
    "collapsed": true
   },
   "outputs": [],
   "source": [
    "train = pd.read_csv('C:/Users/LMatt/OneDrive/Dokumente/Mathe/Machine Learning/Projekt/digits_train.csv')"
   ]
  },
  {
   "cell_type": "code",
   "execution_count": null,
   "metadata": {
    "collapsed": true
   },
   "outputs": [],
   "source": [
    "images = [\"%s%s\" %(\"pixel\",pixel_no) for pixel_no in range(0,28**2)]\n",
    "train_images = np.array(train[images], dtype=np.float)\n",
    "train_labels = np.array(train['label'])\n",
    "label0 = np.array([1 if i==0 else -1 for i in train_labels]) "
   ]
  },
  {
   "cell_type": "code",
   "execution_count": null,
   "metadata": {
    "collapsed": false
   },
   "outputs": [],
   "source": [
    "# \"label\" is an 1 x l array containing the labels\n",
    "# \"data\" is an d x l array containing the data points\n",
    "\n",
    "#data = np.transpose(np.array([[-1,1],[-2,-3],[1,5],[0.5,-7]]))\n",
    "#label = np.array([-1,-1,-1,1])\n",
    "number_samples = 100\n",
    "data = np.transpose(train_images[:number_samples])/100\n",
    "label = label0[:number_samples]\n",
    "#d = 784\n",
    "#l = 42000\n",
    "#data = np.random.rand(d,l)\n",
    "#label = np.random.rand(l)\n",
    "#label = 2*(label>0.5)-1\n",
    "l = data.shape[1]\n",
    "print(np.shape(data))\n",
    "C = 1\n",
    "tol = 1e-6\n",
    "eps = 1e-9"
   ]
  },
  {
   "cell_type": "code",
   "execution_count": null,
   "metadata": {
    "collapsed": true
   },
   "outputs": [],
   "source": [
    "#data = np.genfromtxt('data.csv',delimiter=',')\n",
    "#label = np.genfromtxt('label.csv',delimiter=',')\n",
    "#l = data.shape[1]"
   ]
  },
  {
   "cell_type": "code",
   "execution_count": null,
   "metadata": {
    "collapsed": false
   },
   "outputs": [],
   "source": [
    "def takeStep(i1,i2):\n",
    "    global b_low\n",
    "    global b_up\n",
    "    global i_low\n",
    "    global i_up\n",
    "    \n",
    "    if i1 == i2: \n",
    "        return 0\n",
    "    alph1 = alpha[i1]\n",
    "    alph2 = alpha[i2]\n",
    "    y1 = label[i1]\n",
    "    y2 = label[i2]\n",
    "    \n",
    "    \n",
    "    \n",
    "    # hier liegt der Fehler!!!!!!!!!!!\n",
    "    \n",
    "    #das muss vermutlich so sein\n",
    "    #F1 = fcache[i1]\n",
    "    F1 = F(i1,alpha)\n",
    "    \n",
    "    #das sollte anders gehen \n",
    "    F2 = fcache[i2]\n",
    "    #F2 = F(i2,alpha)\n",
    "    #print(F2,F3)\n",
    "    s = y1*y2\n",
    "    \n",
    "    \n",
    "    \n",
    "    if s == -1:\n",
    "        L = max(0,alph2-alph1)\n",
    "        H = min(C,C+alph2-alph1)\n",
    "    else:\n",
    "        L = max(0,alph2+alph1-C)\n",
    "        H = min(C,alph2+alph1)\n",
    "    \n",
    "    if L == H: return 0\n",
    "    \n",
    "    k11 = kernel(data[:,i1],data[:,i1])\n",
    "    k12 = kernel(data[:,i1],data[:,i2])\n",
    "    k22 = kernel(data[:,i2],data[:,i2])\n",
    "    \n",
    "    eta = 2*k12 - k11 - k22\n",
    "    if eta < 0:\n",
    "        a2 = alph2 - y2*(F1-F2)/eta\n",
    "        if a2 < L:\n",
    "            a2 = L\n",
    "        elif a2 > H:\n",
    "            a2 = H\n",
    "    else:\n",
    "        raise ValueError('Error: eta == 0')\n",
    "    \n",
    "    if abs(a2-alph2) < eps*(a2+alph2+eps):\n",
    "        return 0\n",
    "    \n",
    "    a1 = alph1 + s*(alph2-a2)\n",
    "    # maybe update weight vector here on the fly\n",
    "    \n",
    "    # update alpha\n",
    "    alpha[i1] = a1\n",
    "    alpha[i2] = a2\n",
    "    \n",
    "    # update I\n",
    "    I[:,i1] =  I_membership(a1,y1)\n",
    "    I[:,i2] =  I_membership(a2,y2)\n",
    "    \n",
    "    # update fcache[i] here for i in I_0:\n",
    "    ind_0 = (np.nonzero(I[0,:]))[0]\n",
    "    for i in ind_0:\n",
    "        #fcache[i] = fcache[i] + y1*(a1-alph1)*kernel(data[:,i],data[:,i1]) + y2*(a2-alph2)*kernel(data[:,i],data[:,i2])\n",
    "        fcache[i] = F(i,alpha)\n",
    "    \n",
    "    # update fcache for indices i1 and i2\n",
    "    #fcache[i1] = fcache[i1] + y1*(a1-alph1)*k11 + y2*(a2-alph2)*k12\n",
    "    #fcache[i2] = fcache[i2] + y1*(a1-alph1)*k12 + y2*(a2-alph2)*k22\n",
    "    fcache[i1] = F1 + y1*(a1-alph1)*k11 + y2*(a2-alph2)*k12\n",
    "    fcache[i2] = F2 + y1*(a1-alph1)*k12 + y2*(a2-alph2)*k22\n",
    "    #fcache[i1] = F(i1,alpha)\n",
    "    #fcache[i2] = F(i2,alpha)\n",
    "    \n",
    "    b_low = -float('inf')\n",
    "    b_up = - b_low\n",
    "    \n",
    "    \n",
    "    \n",
    "    \n",
    "    # hier liegt auch der Fehler!!!!!!!!!!!!!!!!!!!!!11\n",
    "    \n",
    "    if np.size(ind_0) > 0:\n",
    "        for i in ind_0:\n",
    "            if fcache[i] > b_low:\n",
    "                b_low = fcache[i]\n",
    "                #b_low = F(i,alpha)\n",
    "                i_low = i\n",
    "            if fcache[i] < b_up:\n",
    "                b_up = fcache[i]\n",
    "                #b_up = F(i,alpha)\n",
    "                i_up = i\n",
    "\n",
    "                \n",
    "                \n",
    "\n",
    "       \n",
    "    memb1 = I_membership_no(a1,y1)\n",
    "    memb2 = I_membership_no(a2,y2)\n",
    "    if memb1 in (1,2) and fcache[i1] < b_up:\n",
    "        b_up = fcache[i1]\n",
    "        #b_up = F(i1,alpha)\n",
    "        i_up = i1\n",
    "    if memb1 in (3,4) and fcache[i1] > b_low:\n",
    "        b_low = fcache[i1]\n",
    "        #b_low = F(i1,alpha)\n",
    "        i_low = i1\n",
    "    if memb2 in (1,2) and fcache[i2] < b_up:\n",
    "        b_up = fcache[i2]\n",
    "        #b_up = F(i2,alpha)\n",
    "        i_up = i2\n",
    "    if memb2 in (3,4) and fcache[i2] > b_low:\n",
    "        b_low = fcache[i2]\n",
    "        #b_low = F(i2,alpha)\n",
    "        i_low = i2\n",
    "\n",
    "    return 1"
   ]
  },
  {
   "cell_type": "code",
   "execution_count": null,
   "metadata": {
    "collapsed": false
   },
   "outputs": [],
   "source": [
    "def examineExample(i2):\n",
    "    global b_low\n",
    "    global b_up\n",
    "    global i_low\n",
    "    global i_up\n",
    "\n",
    "    \n",
    "    y2 = label[i2]\n",
    "    alph2 = alpha[i2]\n",
    "    memb_i2 = I_membership_no(alph2,y2);\n",
    "    \n",
    "    # look up or compute F2:= F_i2\n",
    "    if memb_i2 == 0:\n",
    "        #F2 = F(i2,alpha)\n",
    "        F2 = fcache[i2]\n",
    "    else:\n",
    "        #F2 = F(i2,alpha)\n",
    "        #fcache[i2] = F2\n",
    "        fcache[i2] = F(i2,alpha)\n",
    "        F2 = fcache[i2]\n",
    "        # in case i2 not in I_0, see if F2 changes or estimate of b_low or b_up\n",
    "        if memb_i2 in (1,2) and F2 < b_up:\n",
    "            b_up = F2\n",
    "            i_up = i2\n",
    "        elif memb_i2 in (3,4) and F2 > b_low:\n",
    "            b_low = F2\n",
    "            i_low = i2\n",
    "    \n",
    "    optimality = 1\n",
    "    if memb_i2 in (0,1,2):\n",
    "        if b_low - F2 > 2*tol:\n",
    "            optimality = 0\n",
    "            i1 = i_low\n",
    "    if memb_i2 in (0,3,4):\n",
    "        if F2 - b_up > 2*tol:\n",
    "            optimality = 0\n",
    "            i1 = i_up\n",
    "    if optimality == 1:\n",
    "        return 0\n",
    "    \n",
    "    if memb_i2 == 0:\n",
    "        if b_low - F2 > F2 - b_up:\n",
    "            i1 = i_low\n",
    "        else:\n",
    "            i1 = i_up\n",
    "            \n",
    "    if takeStep(i1,i2):\n",
    "        return 1\n",
    "    else:\n",
    "        return 0"
   ]
  },
  {
   "cell_type": "code",
   "execution_count": null,
   "metadata": {
    "collapsed": true
   },
   "outputs": [],
   "source": [
    "def I_membership(a,y):\n",
    "    if 0 < a and a < C:\n",
    "        return np.array([1,0,0,0,0])\n",
    "    elif a == 0 and y == 1:\n",
    "        return np.array([0,1,0,0,0])\n",
    "    elif a == C and y == -1:\n",
    "        return np.array([0,0,1,0,0])\n",
    "    elif a == C and y == 1:\n",
    "        return np.array([0,0,0,1,0])\n",
    "    else:\n",
    "        return np.array([0,0,0,0,1])\n",
    "    \n",
    "\n",
    "def I_membership_no(a,y):\n",
    "    if 0 < a < C:\n",
    "        return 0\n",
    "    elif a == 0 and y == 1:\n",
    "        return 1\n",
    "    elif a == C and y == -1:\n",
    "        return 2\n",
    "    elif a == C and y == 1:\n",
    "        return 3\n",
    "    else:\n",
    "        return 4"
   ]
  },
  {
   "cell_type": "code",
   "execution_count": null,
   "metadata": {
    "collapsed": false
   },
   "outputs": [],
   "source": [
    "'''def kernel(v1,v2):\n",
    "    return np.dot(v1,v2)'''"
   ]
  },
  {
   "cell_type": "code",
   "execution_count": null,
   "metadata": {
    "collapsed": false
   },
   "outputs": [],
   "source": [
    "def gaussian_kernel(x1, x2, sigma):\n",
    "    return np.exp(-sigma*np.linalg.norm(x1-x2)**2)\n",
    "\n",
    "def kernel(x1,x2):\n",
    "    sigma = float(100)\n",
    "    return gaussian_kernel(x1, x2, sigma)"
   ]
  },
  {
   "cell_type": "code",
   "execution_count": null,
   "metadata": {
    "collapsed": true
   },
   "outputs": [],
   "source": [
    "def F(i,alpha):\n",
    "    out = - label[i]\n",
    "    for j in range(l):\n",
    "        out = out + alpha[j]*label[j]*kernel(data[:,i],data[:,j])\n",
    "    return out\n"
   ]
  },
  {
   "cell_type": "markdown",
   "metadata": {},
   "source": [
    "Main routine"
   ]
  },
  {
   "cell_type": "code",
   "execution_count": null,
   "metadata": {
    "collapsed": false
   },
   "outputs": [],
   "source": [
    "alpha = np.zeros(l)\n",
    "fcache = np.array(-label, dtype=np.float)\n",
    "b_up = -1\n",
    "b_low = 1\n",
    "\n",
    "I = np.zeros((5,l), dtype=np.int)\n",
    "I[1,:] = (label == 1).astype(int)\n",
    "I[4,:] = (label == -1).astype(int)\n",
    "\n",
    "\n",
    "i_up = min(np.nonzero(I[1,:])[0])\n",
    "i_low = min(np.nonzero(I[4,:])[0])\n",
    "\n",
    "\n",
    "numChanged = 0\n",
    "examineAll = 1\n",
    "\n",
    "iter = 0\n",
    "\n",
    "while numChanged > 0 or examineAll:\n",
    "    numChanged = 0\n",
    "    if examineAll:\n",
    "        for i in range(l):\n",
    "            numChanged = numChanged + examineExample(i)\n",
    "    else:\n",
    "        for i in (np.nonzero(I[0,:]))[0]:\n",
    "            numChanged = numChanged + examineExample(i)\n",
    "            if b_up > b_low - 2*tol:\n",
    "                numChanged = 0\n",
    "                break\n",
    "    if examineAll == 1:\n",
    "        examineAll = 0\n",
    "    elif numChanged == 0:\n",
    "        examineAll = 1\n",
    "    \n",
    "    iter = iter + 1\n",
    "    \n",
    "# compute the weight vector    \n",
    "w = 0\n",
    "for i in range(l):\n",
    "    w = w + alpha[i]*label[i]*data[:,i]\n",
    "\n",
    "# compute b\n",
    "ind = 0\n",
    "while(alpha[ind] <= 0):\n",
    "    ind = ind + 1\n",
    "b = kernel(w,data[:,ind]) - label[ind]\n",
    "print(alpha)\n",
    "#print(w,b)\n",
    "#print(iter)\n",
    "\n",
    "\n",
    "        "
   ]
  },
  {
   "cell_type": "code",
   "execution_count": null,
   "metadata": {
    "collapsed": false,
    "scrolled": true
   },
   "outputs": [],
   "source": [
    "no = 100\n",
    "y = np.zeros(no)\n",
    "for i in range(100):\n",
    "    x = train_images[i]\n",
    "    k = np.array([label[j]*kernel(x, data[:,j]) for j in range(number_samples)])\n",
    "    y[i] = np.sign(np.dot(alpha, k))\n",
    "y==label0[:100]"
   ]
  },
  {
   "cell_type": "code",
   "execution_count": null,
   "metadata": {
    "collapsed": false
   },
   "outputs": [],
   "source": [
    "number_samples"
   ]
  },
  {
   "cell_type": "code",
   "execution_count": null,
   "metadata": {
    "collapsed": false
   },
   "outputs": [],
   "source": [
    "#test, check for violations:\n",
    "memb = [I_membership_no(alpha[i],label[i]) for i in range(l)]\n",
    "I_up = [memb[i] in (0,1,2) for i in range(l)]\n",
    "I_low = [memb[i] in (0,3,4) for i in range(l)]\n",
    "b = [F(i,alpha) for i in range(l)]\n",
    "\n",
    "b_up = float('inf')\n",
    "b_low = -b_up\n",
    "for i in range(l):\n",
    "    if I_up[i] == 1 and b[i] < b_up:\n",
    "        b_up = b[i]\n",
    "    if I_low[i] == 1 and b[i] > b_low:\n",
    "        b_low = b[i]\n",
    "\n",
    "if b_low - tol <= b_up:\n",
    "    print(b_low,b_up)\n",
    "    print('no tol-violation')\n",
    "else:\n",
    "    print(b_low,b_up)\n",
    "    print('tol-violations!!!')"
   ]
  },
  {
   "cell_type": "code",
   "execution_count": null,
   "metadata": {
    "collapsed": false
   },
   "outputs": [],
   "source": [
    "plt.plot(data[0,:], data[1,:], 'ro')\n",
    "#plt.plot([0,1],[-b/w[1],(b-w[0]*1)/w[1]])\n",
    "\n",
    "plt.show()"
   ]
  },
  {
   "cell_type": "markdown",
   "metadata": {},
   "source": [
    "## Herumprobieren"
   ]
  },
  {
   "cell_type": "code",
   "execution_count": null,
   "metadata": {
    "collapsed": true
   },
   "outputs": [],
   "source": []
  }
 ],
 "metadata": {
  "anaconda-cloud": {},
  "kernelspec": {
   "display_name": "Python 3",
   "language": "python",
   "name": "python3"
  },
  "language_info": {
   "codemirror_mode": {
    "name": "ipython",
    "version": 3
   },
   "file_extension": ".py",
   "mimetype": "text/x-python",
   "name": "python",
   "nbconvert_exporter": "python",
   "pygments_lexer": "ipython3",
   "version": "3.6.0"
  }
 },
 "nbformat": 4,
 "nbformat_minor": 2
}
