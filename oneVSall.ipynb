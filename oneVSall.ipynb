{
 "cells": [
  {
   "cell_type": "markdown",
   "metadata": {},
   "source": [
    "## Classify with One VS All"
   ]
  },
  {
   "cell_type": "code",
   "execution_count": 81,
   "metadata": {
    "collapsed": true
   },
   "outputs": [],
   "source": [
    "import numpy as np\n",
    "import scipy\n",
    "\n",
    "# to save data\n",
    "import pickle\n",
    "\n",
    "import pandas as pd # data processing, CSV file I/O (e.g. pd.read_csv)\n",
    "from sklearn.metrics.pairwise import pairwise_kernels\n",
    "from scipy.optimize import minimize\n",
    "from scipy.spatial.distance import hamming\n",
    "\n",
    "import matplotlib.pyplot as plt\n",
    "%matplotlib inline\n",
    "\n",
    "from mySVM_class import *\n"
   ]
  },
  {
   "cell_type": "code",
   "execution_count": 82,
   "metadata": {
    "collapsed": false
   },
   "outputs": [],
   "source": []
  },
  {
   "cell_type": "code",
   "execution_count": 86,
   "metadata": {
    "collapsed": false
   },
   "outputs": [],
   "source": [
    "train = pd.read_csv('Data/train.csv')"
   ]
  },
  {
   "cell_type": "code",
   "execution_count": 87,
   "metadata": {
    "collapsed": false
   },
   "outputs": [
    {
     "data": {
      "text/plain": [
       "42000"
      ]
     },
     "execution_count": 87,
     "metadata": {},
     "output_type": "execute_result"
    }
   ],
   "source": [
    "images = [\"%s%s\" %(\"pixel\",pixel_no) for pixel_no in range(0,28**2)]\n",
    "train_images = np.array(train[images], dtype=np.float)/100\n",
    "#dimensionserhoehung, damit am ende b = 0\n",
    "train_images = np.concatenate((train_images, np.ones((len(train_images),1))), axis = 1)\n",
    "\n",
    "train_labels = np.array(train['label'])\n",
    "label0 = np.array([1 if i==0 else -1 for i in train_labels])\n",
    "len(train_images)"
   ]
  },
  {
   "cell_type": "code",
   "execution_count": 123,
   "metadata": {
    "collapsed": false
   },
   "outputs": [],
   "source": [
    "def oneVSall(labeled_data, labels, kernel=scalar_product, penalty=0.1, list_sigma=[0.1]*15):\n",
    "    # \n",
    "    labels=labels.astype(int);\n",
    "    l=np.shape(labeled_data)[0];\n",
    "    n=np.shape(labeled_data)[1];\n",
    "    num_classifiers=10;\n",
    "    oneVSall_labels=np.zeros((l,num_classifiers));\n",
    "    \n",
    "    # define code_word matrix, the ith row corresponds to the number i\n",
    "    # each column corresponds to a classifier that will have to be trained\n",
    "    code_words=2*np.identity(num_classifiers)-1;\n",
    "    \n",
    "    # up until now training data has labels from 0 to 9\n",
    "    # now these are replaced by the 15 digit string given by code_words\n",
    "    for j in range(l):\n",
    "        oneVSall_labels[j]=code_words[labels[j]];\n",
    "    \n",
    "    list_supp_ind = [];\n",
    "    list_alpha =[];\n",
    "    list_b =[];\n",
    "    list_kernel=[];\n",
    "    \n",
    "    # class an svm object for each classifier\n",
    "    # here would be the possibility to parallelize\n",
    "    for classifier in range(num_classifiers):\n",
    "        svm=mySVM(kernel=kernel, penalty=penalty, sigma=list_sigma[classifier]);\n",
    "        svm.fit(labeled_data, oneVSall_labels[:,classifier]);\n",
    "        list_supp_ind.append(svm.supp_indices);\n",
    "        list_alpha.append(svm.alpha);\n",
    "        list_b.append(svm.b);\n",
    "        list_kernel.append(svm.kernel);\n",
    "        \n",
    "    # compute barycenters of the points of each label\n",
    "    barycenters = np.zeros((10,n));\n",
    "    \n",
    "    for i in range(10):\n",
    "        ind = labels == i\n",
    "        barycenters[i] = np.mean(labeled_data[ind], axis=0)\n",
    "        \n",
    "    # pickle dump to save and call saved objects    \n",
    "    pickle.dump((oneVSall_labels, list_supp_ind, list_alpha, list_b, list_kernel, code_words, barycenters), open( \"trained_oneVSall_\"+str(number_of_im)+\".dat\", \"wb\" ))\n",
    "    \n",
    "    # now I need to call a binary classifier for each column of ecoc_labels\n",
    "    # from decision functions we get seperating hyperplanes, margin, ... \n",
    "    # return those\n",
    "    \n",
    "    \n",
    "    return oneVSall_labels, list_supp_ind, list_alpha, list_b, list_kernel, code_words, barycenters;"
   ]
  },
  {
   "cell_type": "code",
   "execution_count": 124,
   "metadata": {
    "collapsed": false
   },
   "outputs": [
    {
     "data": {
      "text/plain": [
       "150"
      ]
     },
     "execution_count": 124,
     "metadata": {},
     "output_type": "execute_result"
    }
   ],
   "source": [
    "number_of_im = 150;\n",
    "train_images_test = train_images[:number_of_im]\n",
    "train_labels_test = train_labels[:number_of_im]\n",
    "np.shape(train_images_test)[0]"
   ]
  },
  {
   "cell_type": "code",
   "execution_count": 125,
   "metadata": {
    "collapsed": false
   },
   "outputs": [],
   "source": [
    "# call classifier with pickle.load\n",
    "oneVSall_labels, list_supp_ind, list_alpha, list_b, list_kernel, code_words, barycenters=oneVSall(train_images_test, train_labels_test)\n",
    "oneVSall_labels, list_supp_ind, list_alpha, list_b, list_kernel, code_words, barycenters=pickle.load(open (\"trained_oneVSall_\"+str(number_of_im)+\".dat\", \"rb\"))\n"
   ]
  },
  {
   "cell_type": "code",
   "execution_count": 126,
   "metadata": {
    "collapsed": false
   },
   "outputs": [],
   "source": [
    "# suppose we have an unlabeled data point\n",
    "def predict_oneVSall(unlabeled_data, labeled_data, oneVSall_labels, list_supp_ind, \n",
    "                     list_alpha, list_b, list_kernel, code_words, barycenters):\n",
    "    # every row is one data point\n",
    "    # number of rows = # of data points\n",
    "    \n",
    "    l=np.shape(unlabeled_data)[0];\n",
    "    new_labels=np.zeros((l,10));\n",
    "    \n",
    "    temp_label_ind=[];\n",
    "    final_labels = np.array(['inf']*l);\n",
    "    \n",
    "\n",
    "    \n",
    "    for classifier in range(10):\n",
    "        a_supp = list_alpha[classifier][list_supp_ind[classifier]];\n",
    "        oneVSall_labels_supp = oneVSall_labels[list_supp_ind[classifier],classifier]\n",
    "        a_times_labels=np.multiply(a_supp, oneVSall_labels_supp)\n",
    "        \n",
    "        for i in range(l):\n",
    "            # i_th row of kernel matrix k\n",
    "            k=np.array([list_kernel[classifier](unlabeled_data[i],y) for y in labeled_data[list_supp_ind[classifier]]])\n",
    "            \n",
    "            # list of lists with 15 entries, one per classifier\n",
    "            new_labels[i][classifier]=np.sign(np.dot(a_times_labels,k)+list_b[classifier]);\n",
    "    \n",
    "    for i in range(l):\n",
    "        ham_dist = [hamming(new_labels[i], code_words[j]) for j in range(10)]\n",
    "        temp_label_ind = [j for j in range(len(ham_dist)) if ham_dist[j] == min(ham_dist)]\n",
    "        # print(type(temp_label_ind[0]))\n",
    "        if len(temp_label_ind)!=1:\n",
    "            print(\"Attention, data point could not be uniquely classified, index \" \n",
    "                  + str(i) + \" possible classification \" + str(temp_label_ind));\n",
    "            \n",
    "            # ask which barycenter is closest out of temp_label_ind\n",
    "            final_labels[i] = np.min(np.argmin([np.linalg.norm(unlabeled_data[i]-barycenters[k]) for k in temp_label_ind]))\n",
    "            \n",
    "        else:\n",
    "            final_labels[i] = ham_dist.index(min(ham_dist));\n",
    "        \n",
    "   \n",
    "    return final_labels;\n",
    "    "
   ]
  },
  {
   "cell_type": "code",
   "execution_count": 127,
   "metadata": {
    "collapsed": false
   },
   "outputs": [
    {
     "name": "stdout",
     "output_type": "stream",
     "text": [
      "Attention, data point could not be uniquely classified, index 0 possible classification [0, 1, 2, 3, 4, 5, 6, 7, 8, 9]\n",
      "Attention, data point could not be uniquely classified, index 4 possible classification [0, 1, 2, 3, 4, 5, 6, 7, 8, 9]\n",
      "Attention, data point could not be uniquely classified, index 5 possible classification [3, 5]\n",
      "Attention, data point could not be uniquely classified, index 13 possible classification [4, 9]\n",
      "Attention, data point could not be uniquely classified, index 14 possible classification [0, 1, 2, 3, 4, 5, 6, 7, 8, 9]\n",
      "Attention, data point could not be uniquely classified, index 15 possible classification [0, 1, 2, 3, 4, 5, 6, 7, 8, 9]\n",
      "Attention, data point could not be uniquely classified, index 16 possible classification [0, 1, 2, 3, 4, 5, 6, 7, 8, 9]\n",
      "Attention, data point could not be uniquely classified, index 21 possible classification [0, 1, 2, 3, 4, 5, 6, 7, 8, 9]\n",
      "Attention, data point could not be uniquely classified, index 23 possible classification [0, 1, 2, 3, 4, 5, 6, 7, 8, 9]\n",
      "Attention, data point could not be uniquely classified, index 24 possible classification [0, 1, 2, 3, 4, 5, 6, 7, 8, 9]\n",
      "Attention, data point could not be uniquely classified, index 25 possible classification [0, 1, 2, 3, 4, 5, 6, 7, 8, 9]\n",
      "Attention, data point could not be uniquely classified, index 26 possible classification [0, 1, 2, 3, 4, 5, 6, 7, 8, 9]\n",
      "Attention, data point could not be uniquely classified, index 27 possible classification [0, 1, 2, 3, 4, 5, 6, 7, 8, 9]\n",
      "Attention, data point could not be uniquely classified, index 29 possible classification [0, 1, 2, 3, 4, 5, 6, 7, 8, 9]\n",
      "Attention, data point could not be uniquely classified, index 37 possible classification [4, 9]\n",
      "Attention, data point could not be uniquely classified, index 44 possible classification [0, 1, 2, 3, 4, 5, 6, 7, 8, 9]\n",
      "Attention, data point could not be uniquely classified, index 47 possible classification [0, 1, 2, 3, 4, 5, 6, 7, 8, 9]\n",
      "Attention, data point could not be uniquely classified, index 49 possible classification [0, 1, 2, 3, 4, 5, 6, 7, 8, 9]\n",
      "Attention, data point could not be uniquely classified, index 51 possible classification [0, 1, 2, 3, 4, 5, 6, 7, 8, 9]\n",
      "Attention, data point could not be uniquely classified, index 53 possible classification [0, 5]\n",
      "Attention, data point could not be uniquely classified, index 56 possible classification [7, 9]\n",
      "Attention, data point could not be uniquely classified, index 57 possible classification [0, 1, 2, 3, 4, 5, 6, 7, 8, 9]\n",
      "Attention, data point could not be uniquely classified, index 58 possible classification [7, 9]\n",
      "Attention, data point could not be uniquely classified, index 62 possible classification [3, 5]\n",
      "Attention, data point could not be uniquely classified, index 65 possible classification [0, 1, 2, 3, 4, 5, 6, 7, 8, 9]\n",
      "Attention, data point could not be uniquely classified, index 67 possible classification [0, 1, 2, 3, 4, 5, 6, 7, 8, 9]\n",
      "Attention, data point could not be uniquely classified, index 69 possible classification [0, 1, 2, 3, 4, 5, 6, 7, 8, 9]\n",
      "Attention, data point could not be uniquely classified, index 75 possible classification [3, 5]\n",
      "Attention, data point could not be uniquely classified, index 79 possible classification [0, 1, 2, 3, 4, 5, 6, 7, 8, 9]\n",
      "Attention, data point could not be uniquely classified, index 81 possible classification [0, 1, 2, 3, 4, 5, 6, 7, 8, 9]\n",
      "Attention, data point could not be uniquely classified, index 85 possible classification [0, 1, 2, 3, 4, 5, 6, 7, 8, 9]\n",
      "Attention, data point could not be uniquely classified, index 90 possible classification [0, 2]\n",
      "Attention, data point could not be uniquely classified, index 93 possible classification [0, 1, 2, 3, 4, 5, 6, 7, 8, 9]\n",
      "Attention, data point could not be uniquely classified, index 94 possible classification [0, 1, 2, 3, 4, 5, 6, 7, 8, 9]\n",
      "Attention, data point could not be uniquely classified, index 96 possible classification [0, 1, 2, 3, 4, 5, 6, 7, 8, 9]\n",
      "Attention, data point could not be uniquely classified, index 97 possible classification [1, 2]\n",
      "number of correctly classified labels:  66  out of  100\n"
     ]
    }
   ],
   "source": [
    "# \"unknown\" data to be classified\n",
    "number_of_test_data = 100\n",
    "test_data = train_images[number_of_im:number_of_im+number_of_test_data]\n",
    "\n",
    "# call predict function\n",
    "predicted_labels_test=predict_oneVSall(train_images[number_of_im:number_of_im+number_of_test_data], \n",
    "                                       train_images[:number_of_im], oneVSall_labels, list_supp_ind, list_alpha, \n",
    "                                       list_b, list_kernel, code_words, barycenters)\n",
    "predicted_labels_test = predicted_labels_test.astype(float)\n",
    "# print(\"predicted labels: \", predicted_labels_test)\n",
    "\n",
    "# get actual labels\n",
    "train_labels_test=train_labels[number_of_im:number_of_im+number_of_test_data]\n",
    "train_labels_test = train_labels_test.astype(float)\n",
    "# print(\"actual labels: \", train_labels_test)\n",
    "\n",
    "print(\"number of correctly classified labels: \", sum(predicted_labels_test.astype(int)==train_labels_test.astype(int)), \n",
    "      \" out of \", number_of_test_data);\n",
    "\n",
    "# check if there is are a couple of classifiers who make more mistakes than others\n",
    "# then we could possibly change some of the parameters"
   ]
  },
  {
   "cell_type": "code",
   "execution_count": 106,
   "metadata": {
    "collapsed": false
   },
   "outputs": [
    {
     "data": {
      "text/plain": [
       "4"
      ]
     },
     "execution_count": 106,
     "metadata": {},
     "output_type": "execute_result"
    }
   ],
   "source": [
    "min([5,4])"
   ]
  },
  {
   "cell_type": "code",
   "execution_count": null,
   "metadata": {
    "collapsed": true
   },
   "outputs": [],
   "source": []
  }
 ],
 "metadata": {
  "kernelspec": {
   "display_name": "Python 3",
   "language": "python",
   "name": "python3"
  },
  "language_info": {
   "codemirror_mode": {
    "name": "ipython",
    "version": 3
   },
   "file_extension": ".py",
   "mimetype": "text/x-python",
   "name": "python",
   "nbconvert_exporter": "python",
   "pygments_lexer": "ipython3",
   "version": "3.6.0"
  }
 },
 "nbformat": 4,
 "nbformat_minor": 2
}
