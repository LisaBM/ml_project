{
 "cells": [
  {
   "cell_type": "markdown",
   "metadata": {},
   "source": [
    "## Classify with One VS All"
   ]
  },
  {
   "cell_type": "code",
   "execution_count": 7,
   "metadata": {
    "collapsed": false
   },
   "outputs": [],
   "source": [
    "import numpy as np\n",
    "import scipy\n",
    "\n",
    "# to save data\n",
    "import pickle\n",
    "\n",
    "import pandas as pd # data processing, CSV file I/O (e.g. pd.read_csv)\n",
    "from sklearn.metrics.pairwise import pairwise_kernels\n",
    "from scipy.optimize import minimize\n",
    "from scipy.spatial.distance import hamming\n",
    "\n",
    "import matplotlib.pyplot as plt\n",
    "%matplotlib inline\n",
    "\n",
    "from mySVM_class import *\n",
    "from oneVSall import *\n"
   ]
  },
  {
   "cell_type": "code",
   "execution_count": 20,
   "metadata": {
    "collapsed": false
   },
   "outputs": [],
   "source": [
    "def m_classes(l,n,m):\n",
    "    \n",
    "    #l: samples per class\n",
    "    #n: dimension\n",
    "    #m: number of classes\n",
    "    \n",
    "    centers = 20*np.random.rand(m,n)-10 #create the centers of the classes\n",
    "    data = np.zeros((1, n))\n",
    "    labels = np.zeros(l*m)\n",
    "    for i in range(m):\n",
    "        center = centers[i]\n",
    "        # print(np.shape(data), np.shape(np.random.normal(loc=center, scale=1.0, size=(l, n))))\n",
    "        \n",
    "        data = np.concatenate((data,np.random.normal(loc=center, scale=1.0, size=(l, n))), axis = 0)\n",
    "        \n",
    "    for i in range(m):\n",
    "        labels[(i*l):((i+1)*l)]=i \n",
    "    \n",
    "    return data[1:], labels, centers"
   ]
  },
  {
   "cell_type": "markdown",
   "metadata": {},
   "source": [
    "Generate image for presentation"
   ]
  },
  {
   "cell_type": "code",
   "execution_count": 71,
   "metadata": {
    "collapsed": false
   },
   "outputs": [],
   "source": [
    "perclass = 15\n",
    "image_data, image_labels, image_centers = m_classes(perclass, 2, 3)\n",
    "label0 = image_data[:perclass]\n",
    "label1 = image_data[perclass:2*perclass]\n",
    "label2 = image_data[2*perclass:3*perclass]\n",
    "\n",
    "\n",
    "svm0vsall = mySVM(kernel = scalar_product)\n",
    "svm0vsall.fit(image_data, np.concatenate((np.ones(perclass), -np.ones(2*perclass))))\n",
    "w0 = svm0vsall.w\n",
    "b0 = svm0vsall.b\n",
    "m0 = -w0[0] / w0[1]\n",
    "\n",
    "svm1vsall = mySVM(kernel = scalar_product)\n",
    "svm1vsall.fit(image_data, np.concatenate((-np.ones(perclass), np.ones(perclass), -np.ones(perclass))))\n",
    "w1 = svm1vsall.w\n",
    "b1 = svm1vsall.b\n",
    "m1 = -w1[0] / w1[1]\n",
    "              \n",
    "svm2vsall = mySVM(kernel = scalar_product)\n",
    "svm2vsall.fit(image_data, np.concatenate((-np.ones(2*perclass), np.ones(perclass))))\n",
    "w2 = svm2vsall.w\n",
    "b2 = svm2vsall.b\n",
    "m2 = -w2[0] / w2[1]\n",
    "\n",
    "#baycenters\n",
    "barycenter0 = np.mean(label0, axis=0)\n",
    "barycenter1 = np.mean(label1, axis=0)\n",
    "barycenter2 = np.mean(label2, axis=0)\n"
   ]
  },
  {
   "cell_type": "code",
   "execution_count": 77,
   "metadata": {
    "collapsed": false
   },
   "outputs": [
    {
     "data": {
      "image/png": "[encoded data removed]",
      "text/plain": [
       "<matplotlib.figure.Figure at 0x20d9475d390>"
      ]
     },
     "metadata": {},
     "output_type": "display_data"
    }
   ],
   "source": [
    "onevsall_fig = plt.figure()\n",
    "plt.scatter([barycenter0[0], barycenter1[0], barycenter2[0]], [barycenter0[1], barycenter1[1], barycenter2[1]], s = 100, facecolors = 'none')\n",
    "plt.scatter(label0[:, 0], label0[:, 1], facecolors = 'red')\n",
    "plt.scatter(label1[:, 0], label1[:, 1], facecolors = 'green')\n",
    "plt.scatter(label2[:, 0], label2[:, 1], facecolors = 'blue')\n",
    "plt.xlim([-5, 10])\n",
    "plt.ylim([-10, 10])\n",
    "\n",
    "x = np.linspace(-15, 10, 100)\n",
    "y0 = m0 * x - b0 / w0[1]\n",
    "y1 = m1 * x - b1 / w1[1]\n",
    "y2 = m2 * x - b2 / w2[1]\n",
    "\n",
    "plt.plot(x, y0, 'r', x, y1, 'g', x, y2,'b')\n",
    "onevsall_fig.savefig('onevsall_examplegraphic.png')"
   ]
  },
  {
   "cell_type": "code",
   "execution_count": 26,
   "metadata": {
    "collapsed": false
   },
   "outputs": [
    {
     "data": {
      "text/plain": [
       "array([ 0.,  0.,  0.,  0.,  0.,  0.,  0.,  0.,  0.,  0.,  1.,  1.,  1.,\n",
       "        1.,  1.,  1.,  1.,  1.,  1.,  1.,  2.,  2.,  2.,  2.,  2.,  2.,\n",
       "        2.,  2.,  2.,  2.])"
      ]
     },
     "execution_count": 26,
     "metadata": {},
     "output_type": "execute_result"
    }
   ],
   "source": [
    "image_labels"
   ]
  },
  {
   "cell_type": "code",
   "execution_count": 9,
   "metadata": {
    "collapsed": true
   },
   "outputs": [],
   "source": [
    "l=400;\n",
    "n=10;\n",
    "m=10;\n",
    "toy_data, toy_labels, toy_centers = m_classes(l, n, m)\n",
    "# toy_data_set"
   ]
  },
  {
   "cell_type": "code",
   "execution_count": 28,
   "metadata": {
    "collapsed": false
   },
   "outputs": [
    {
     "ename": "ValueError",
     "evalue": "not enough values to unpack (expected 8, got 7)",
     "output_type": "error",
     "traceback": [
      "\u001b[0;31m----------------------------------------------------------\u001b[0m",
      "\u001b[0;31mValueError\u001b[0m               Traceback (most recent call last)",
      "\u001b[0;32m<ipython-input-28-700fc2dc8a9f>\u001b[0m in \u001b[0;36m<module>\u001b[0;34m()\u001b[0m\n\u001b[0;32m----> 1\u001b[0;31m \u001b[0mecoc_labels\u001b[0m\u001b[1;33m,\u001b[0m \u001b[0mlist_supp_ind\u001b[0m\u001b[1;33m,\u001b[0m \u001b[0mlist_alpha\u001b[0m\u001b[1;33m,\u001b[0m \u001b[0mlist_b\u001b[0m\u001b[1;33m,\u001b[0m \u001b[0mlist_w\u001b[0m\u001b[1;33m,\u001b[0m \u001b[0mlist_kernel\u001b[0m\u001b[1;33m,\u001b[0m \u001b[0mcode_words\u001b[0m\u001b[1;33m,\u001b[0m \u001b[0mbarycenters\u001b[0m \u001b[1;33m=\u001b[0m\u001b[0moneVSall\u001b[0m\u001b[1;33m(\u001b[0m\u001b[0mtoy_data\u001b[0m\u001b[1;33m[\u001b[0m\u001b[1;33m:\u001b[0m\u001b[1;33m:\u001b[0m\u001b[1;36m2\u001b[0m\u001b[1;33m]\u001b[0m\u001b[1;33m,\u001b[0m \u001b[0mtoy_labels\u001b[0m\u001b[1;33m[\u001b[0m\u001b[1;33m:\u001b[0m\u001b[1;33m:\u001b[0m\u001b[1;36m2\u001b[0m\u001b[1;33m]\u001b[0m\u001b[1;33m,\u001b[0m \u001b[0mnum_classifiers\u001b[0m\u001b[1;33m=\u001b[0m\u001b[0mm\u001b[0m\u001b[1;33m)\u001b[0m\u001b[1;33m\u001b[0m\u001b[0m\n\u001b[0m",
      "\u001b[0;31mValueError\u001b[0m: not enough values to unpack (expected 8, got 7)"
     ]
    }
   ],
   "source": [
    "ecoc_labels, list_supp_ind, list_alpha, list_b, list_w, list_kernel, code_words, barycenters =oneVSall(toy_data[::2], toy_labels[::2], num_classifiers=m)"
   ]
  },
  {
   "cell_type": "code",
   "execution_count": 11,
   "metadata": {
    "collapsed": false
   },
   "outputs": [
    {
     "ename": "NameError",
     "evalue": "name 'list_w' is not defined",
     "output_type": "error",
     "traceback": [
      "\u001b[0;31m----------------------------------------------------------\u001b[0m",
      "\u001b[0;31mNameError\u001b[0m                Traceback (most recent call last)",
      "\u001b[0;32m<ipython-input-11-62981d0fbf49>\u001b[0m in \u001b[0;36m<module>\u001b[0;34m()\u001b[0m\n\u001b[1;32m      9\u001b[0m \u001b[1;33m\u001b[0m\u001b[0m\n\u001b[1;32m     10\u001b[0m \u001b[1;32mfor\u001b[0m \u001b[0mi\u001b[0m \u001b[1;32min\u001b[0m \u001b[0mrange\u001b[0m\u001b[1;33m(\u001b[0m\u001b[0mm\u001b[0m\u001b[1;33m)\u001b[0m\u001b[1;33m:\u001b[0m\u001b[1;33m\u001b[0m\u001b[0m\n\u001b[0;32m---> 11\u001b[0;31m     \u001b[0mnp\u001b[0m\u001b[1;33m.\u001b[0m\u001b[0mdot\u001b[0m\u001b[1;33m(\u001b[0m\u001b[0mlist_w\u001b[0m\u001b[1;33m[\u001b[0m\u001b[0mi\u001b[0m\u001b[1;33m]\u001b[0m\u001b[1;33m,\u001b[0m\u001b[1;33m[\u001b[0m\u001b[1;36m1\u001b[0m\u001b[1;33m,\u001b[0m\u001b[1;36m1\u001b[0m\u001b[1;33m]\u001b[0m\u001b[1;33m)\u001b[0m\u001b[1;33m\u001b[0m\u001b[0m\n\u001b[0m\u001b[1;32m     12\u001b[0m     \u001b[0mprint\u001b[0m\u001b[1;33m(\u001b[0m\u001b[0mlist_w\u001b[0m\u001b[1;33m[\u001b[0m\u001b[0mi\u001b[0m\u001b[1;33m]\u001b[0m\u001b[1;33m,\u001b[0m \u001b[0mlist_b\u001b[0m\u001b[1;33m[\u001b[0m\u001b[0mi\u001b[0m\u001b[1;33m]\u001b[0m\u001b[1;33m)\u001b[0m\u001b[1;33m\u001b[0m\u001b[0m\n\u001b[1;32m     13\u001b[0m     \u001b[0mZ\u001b[0m \u001b[1;33m=\u001b[0m \u001b[0mnp\u001b[0m\u001b[1;33m.\u001b[0m\u001b[0marray\u001b[0m\u001b[1;33m(\u001b[0m\u001b[1;33m[\u001b[0m\u001b[1;33m[\u001b[0m \u001b[0mnp\u001b[0m\u001b[1;33m.\u001b[0m\u001b[0mdot\u001b[0m\u001b[1;33m(\u001b[0m\u001b[0mlist_w\u001b[0m\u001b[1;33m[\u001b[0m\u001b[0mi\u001b[0m\u001b[1;33m]\u001b[0m\u001b[1;33m,\u001b[0m\u001b[0mnp\u001b[0m\u001b[1;33m.\u001b[0m\u001b[0marray\u001b[0m\u001b[1;33m(\u001b[0m\u001b[1;33m[\u001b[0m\u001b[0mx\u001b[0m\u001b[1;33m,\u001b[0m\u001b[0my\u001b[0m\u001b[1;33m]\u001b[0m\u001b[1;33m)\u001b[0m\u001b[1;33m)\u001b[0m\u001b[1;33m+\u001b[0m\u001b[0mlist_b\u001b[0m\u001b[1;33m[\u001b[0m\u001b[0mi\u001b[0m\u001b[1;33m]\u001b[0m \u001b[1;32mfor\u001b[0m \u001b[0mx\u001b[0m \u001b[1;32min\u001b[0m \u001b[0mxs\u001b[0m\u001b[1;33m]\u001b[0m \u001b[1;32mfor\u001b[0m \u001b[0my\u001b[0m \u001b[1;32min\u001b[0m \u001b[0mys\u001b[0m\u001b[1;33m]\u001b[0m\u001b[1;33m)\u001b[0m\u001b[1;33m\u001b[0m\u001b[0m\n",
      "\u001b[0;31mNameError\u001b[0m: name 'list_w' is not defined"
     ]
    },
    {
     "data": {
      "image/png": "[encoded data removed]",
      "text/plain": [
       "<matplotlib.figure.Figure at 0x20d93b323c8>"
      ]
     },
     "metadata": {},
     "output_type": "display_data"
    }
   ],
   "source": [
    "plt.scatter(toy_centers[:,0],  toy_centers[:,1], s=100, facecolors = 'none')\n",
    "plt.scatter(toy_data[:l, 0], toy_data[:l, 1])\n",
    "plt.scatter(toy_data[l:2*l, 0], toy_data[l:2*l, 1], facecolors='red')\n",
    "plt.scatter(toy_data[2*l:3*l, 0], toy_data[2*l:3*l, 1], facecolors='green')\n",
    "\n",
    "xs = np.linspace(-10, 10, 100)\n",
    "ys = np.linspace(-10, 10, 100)\n",
    "X, Y = np.meshgrid(xs, ys)\n",
    "\n",
    "for i in range(m):\n",
    "    np.dot(list_w[i],[1,1])\n",
    "    print(list_w[i], list_b[i])\n",
    "    Z = np.array([[ np.dot(list_w[i],np.array([x,y]))+list_b[i] for x in xs] for y in ys])\n",
    "    Z = np.reshape(Z, (np.shape(Z)[0], np.shape(Z)[1]))\n",
    "    #plt.plot([0, list_b[2]], [[1,1], np.dot(list_w[2],[1,1])+list_b[0]], 'k-', color = 'r\n",
    "    CS = plt.contour(X, Y, Z, levels = [0])\n",
    "    plt.clabel(CS, colors = 'k', fontsize=14)\n"
   ]
  },
  {
   "cell_type": "code",
   "execution_count": 12,
   "metadata": {
    "collapsed": false
   },
   "outputs": [
    {
     "data": {
      "text/plain": [
       "array([ 0.,  0.,  0., ...,  9.,  9.,  9.])"
      ]
     },
     "execution_count": 12,
     "metadata": {},
     "output_type": "execute_result"
    }
   ],
   "source": [
    "toy_labels"
   ]
  },
  {
   "cell_type": "code",
   "execution_count": 13,
   "metadata": {
    "collapsed": false
   },
   "outputs": [
    {
     "ename": "NameError",
     "evalue": "name 'ecoc_labels' is not defined",
     "output_type": "error",
     "traceback": [
      "\u001b[0;31m----------------------------------------------------------\u001b[0m",
      "\u001b[0;31mNameError\u001b[0m                Traceback (most recent call last)",
      "\u001b[0;32m<ipython-input-13-c92ba4351fa5>\u001b[0m in \u001b[0;36m<module>\u001b[0;34m()\u001b[0m\n\u001b[0;32m----> 1\u001b[0;31m \u001b[0mpredicted_labels\u001b[0m \u001b[1;33m=\u001b[0m \u001b[0mpredict_oneVSall\u001b[0m\u001b[1;33m(\u001b[0m\u001b[0mtoy_data\u001b[0m\u001b[1;33m[\u001b[0m\u001b[1;36m1\u001b[0m\u001b[1;33m:\u001b[0m\u001b[1;33m:\u001b[0m\u001b[1;36m2\u001b[0m\u001b[1;33m]\u001b[0m\u001b[1;33m,\u001b[0m \u001b[0mtoy_data\u001b[0m\u001b[1;33m[\u001b[0m\u001b[1;33m:\u001b[0m\u001b[1;33m:\u001b[0m\u001b[1;36m2\u001b[0m\u001b[1;33m]\u001b[0m\u001b[1;33m,\u001b[0m \u001b[0mecoc_labels\u001b[0m\u001b[1;33m,\u001b[0m \u001b[0mlist_supp_ind\u001b[0m\u001b[1;33m,\u001b[0m \u001b[0mlist_alpha\u001b[0m\u001b[1;33m,\u001b[0m \u001b[0mlist_b\u001b[0m\u001b[1;33m,\u001b[0m \u001b[0mlist_kernel\u001b[0m\u001b[1;33m,\u001b[0m \u001b[0mcode_words\u001b[0m\u001b[1;33m,\u001b[0m \u001b[0mbarycenters\u001b[0m\u001b[1;33m,\u001b[0m \u001b[0mnum_classifiers\u001b[0m\u001b[1;33m=\u001b[0m\u001b[0mm\u001b[0m\u001b[1;33m)\u001b[0m\u001b[1;33m\u001b[0m\u001b[0m\n\u001b[0m\u001b[1;32m      2\u001b[0m print(\"number of correctly classified labels: \", sum(predicted_labels.astype(int)==toy_labels[1::2].astype(int)), \n\u001b[1;32m      3\u001b[0m       \" out of \", np.shape(toy_data[1::2])[0]);\n\u001b[1;32m      4\u001b[0m \u001b[0mpredicted_labels\u001b[0m\u001b[1;33m\u001b[0m\u001b[0m\n",
      "\u001b[0;31mNameError\u001b[0m: name 'ecoc_labels' is not defined"
     ]
    }
   ],
   "source": [
    "predicted_labels = predict_oneVSall(toy_data[1::2], toy_data[::2], ecoc_labels, list_supp_ind, list_alpha, list_b, list_kernel, code_words, barycenters, num_classifiers=m)\n",
    "print(\"number of correctly classified labels: \", sum(predicted_labels.astype(int)==toy_labels[1::2].astype(int)), \n",
    "      \" out of \", np.shape(toy_data[1::2])[0]);\n",
    "predicted_labels"
   ]
  },
  {
   "cell_type": "markdown",
   "metadata": {},
   "source": [
    "### Hier gehts los."
   ]
  },
  {
   "cell_type": "code",
   "execution_count": 14,
   "metadata": {
    "collapsed": false
   },
   "outputs": [],
   "source": [
    "train = pd.read_csv('Data/train.csv')"
   ]
  },
  {
   "cell_type": "code",
   "execution_count": 15,
   "metadata": {
    "collapsed": false
   },
   "outputs": [
    {
     "data": {
      "text/plain": [
       "42000"
      ]
     },
     "execution_count": 15,
     "metadata": {},
     "output_type": "execute_result"
    }
   ],
   "source": [
    "images = [\"%s%s\" %(\"pixel\",pixel_no) for pixel_no in range(0,28**2)]\n",
    "train_images = np.array(train[images], dtype=np.float)/100\n",
    "\n",
    "train_labels = np.array(train['label'])\n",
    "#label0 = np.array([1 if i==0 else -1 for i in train_labels])\n",
    "len(train_images)"
   ]
  },
  {
   "cell_type": "code",
   "execution_count": 4,
   "metadata": {
    "collapsed": false
   },
   "outputs": [
    {
     "name": "stdout",
     "output_type": "stream",
     "text": [
      "counter one Vs all classified  687\n",
      "counter barycenter classified  313\n",
      "number of correctly classified labels:  675  out of  1000\n",
      "number of correctly classified labels by one vs all:  646  out of  1000\n"
     ]
    }
   ],
   "source": [
    "kernel = scalar_product\n",
    "number_of_im = 10000;\n",
    "number_of_test_data = 1000\n",
    "train_images_test = train_images[:number_of_im]\n",
    "train_labels_test = train_labels[:number_of_im]\n",
    "np.shape(train_images_test)[1]\n",
    "\n",
    "lamb=0.00014;\n",
    "penalty = 1./(2*lamb*number_of_im);\n",
    "oneVSall_labels, list_supp_ind, list_alpha, list_b, list_kernel, code_words, barycenters = oneVSall(\n",
    "    train_images_test,\n",
    "    train_labels_test,\n",
    "    kernel = kernel,\n",
    "    penalty=penalty\n",
    ")\n",
    "# oneVSall_labels, list_supp_ind, list_alpha, list_b, list_kernel, code_words, barycenters=pickle.load(open (\"trained_oneVSall_\"+str(number_of_im)+\".dat\", \"rb\"))\n",
    "\n",
    "# \"unknown\" data to be classified\n",
    "test_data = train_images[number_of_im:number_of_im+number_of_test_data]\n",
    "\n",
    "# call predict function\n",
    "predicted_labels_test, list_oneVsall_unique_index, counter_onevsall, counter_barycenter = predict_oneVSall(\n",
    "    train_images[number_of_im:number_of_im+number_of_test_data], \n",
    "    train_images[:number_of_im], \n",
    "    oneVSall_labels, list_supp_ind, \n",
    "    list_alpha, \n",
    "    list_b, list_kernel, \n",
    "    code_words, \n",
    "    barycenters\n",
    ")\n",
    "predicted_labels_test = predicted_labels_test.astype(float)\n",
    "# print(\"predicted labels: \", predicted_labels_test)\n",
    "\n",
    "# get actual labels\n",
    "train_labels_test=train_labels[number_of_im:number_of_im+number_of_test_data]\n",
    "train_labels_test = train_labels_test.astype(float)\n",
    "# print(\"actual labels: \", train_labels_test)\n",
    "\n",
    "print(\"number of correctly classified labels: \", sum(predicted_labels_test.astype(int)==train_labels_test.astype(int)), \n",
    "      \" out of \", number_of_test_data);\n",
    "print(\"number of correctly classified labels by one vs all: \", sum((predicted_labels_test.astype(int))[list_oneVsall_unique_index]==train_labels_test.astype(int)[list_oneVsall_unique_index]), \n",
    "      \" out of \", number_of_test_data);\n",
    "# check if there is are a couple of classifiers who make more mistakes than others\n",
    "# then we could possibly change some of the parameters"
   ]
  },
  {
   "cell_type": "code",
   "execution_count": 5,
   "metadata": {
    "collapsed": false
   },
   "outputs": [],
   "source": [
    "#Ergebnisse in text-Datei schreiben\n",
    "\n",
    "file = open('oneVsall_results.txt','a') \n",
    " \n",
    "file.write('kernel: ' + str(kernel.__name__) + '\\n') \n",
    "file.write('number of training points: ' + str(number_of_im)+ '\\n') \n",
    "file.write('number of test points: ' + str(number_of_test_data) + '\\n') \n",
    "file.write(\"counter one Vs all classified \" + str(counter_onevsall) + '\\n')\n",
    "file.write(\"counter barycenter classified \" + str(counter_barycenter) + '\\n')\n",
    "file.write(\"number of correctly classified labels: \" + str(sum(predicted_labels_test.astype(int)==train_labels_test.astype(int))) + \n",
    "      \" out of \" + str(number_of_test_data) + '\\n')\n",
    "file.write(\"number of correctly classified labels by one vs all: \" + str(sum((predicted_labels_test.astype(int))[list_oneVsall_unique_index]==train_labels_test.astype(int)[list_oneVsall_unique_index])) + \n",
    "      \" out of \" + str(number_of_test_data) + '\\n \\n \\n')\n",
    "\n",
    "file.close() "
   ]
  },
  {
   "cell_type": "code",
   "execution_count": null,
   "metadata": {
    "collapsed": true
   },
   "outputs": [],
   "source": []
  }
 ],
 "metadata": {
  "anaconda-cloud": {},
  "kernelspec": {
   "display_name": "Python [default]",
   "language": "python",
   "name": "python3"
  },
  "language_info": {
   "codemirror_mode": {
    "name": "ipython",
    "version": 3
   },
   "file_extension": ".py",
   "mimetype": "text/x-python",
   "name": "python",
   "nbconvert_exporter": "python",
   "pygments_lexer": "ipython3",
   "version": "3.5.2"
  }
 },
 "nbformat": 4,
 "nbformat_minor": 2
}
