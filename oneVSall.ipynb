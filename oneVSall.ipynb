{
 "cells": [
  {
   "cell_type": "markdown",
   "metadata": {},
   "source": [
    "## Classify with One VS All"
   ]
  },
  {
   "cell_type": "code",
   "execution_count": 148,
   "metadata": {
    "collapsed": true
   },
   "outputs": [],
   "source": [
    "import numpy as np\n",
    "import scipy\n",
    "\n",
    "# to save data\n",
    "import pickle\n",
    "\n",
    "import pandas as pd # data processing, CSV file I/O (e.g. pd.read_csv)\n",
    "from sklearn.metrics.pairwise import pairwise_kernels\n",
    "from scipy.optimize import minimize\n",
    "from scipy.spatial.distance import hamming\n",
    "\n",
    "import matplotlib.pyplot as plt\n",
    "%matplotlib inline\n",
    "\n",
    "from mySVM_class import *\n"
   ]
  },
  {
   "cell_type": "code",
   "execution_count": 151,
   "metadata": {
    "collapsed": false
   },
   "outputs": [],
   "source": [
    "def m_classes(l,n,m):\n",
    "    \n",
    "    #l: samples per class\n",
    "    #n: dimension\n",
    "    #m: number of classes\n",
    "    \n",
    "    centers = 20*np.random.rand(m,n)-10 #create the centers of the classes\n",
    "    data = np.zeros((1, n))\n",
    "    labels = np.zeros(l*m)\n",
    "    for i in range(m):\n",
    "        center = centers[i]\n",
    "        # print(np.shape(data), np.shape(np.random.normal(loc=center, scale=1.0, size=(l, n))))\n",
    "        \n",
    "        data = np.concatenate((data,np.random.normal(loc=center, scale=1.0, size=(l, n))), axis = 0)\n",
    "        \n",
    "    for i in range(m):\n",
    "        labels[(i*l):((i+1)*l)]=i \n",
    "    \n",
    "    return data[1:], labels, centers"
   ]
  },
  {
   "cell_type": "code",
   "execution_count": 266,
   "metadata": {
    "collapsed": true
   },
   "outputs": [],
   "source": [
    "l=400;\n",
    "n=10;\n",
    "m=10;\n",
    "toy_data, toy_labels, toy_centers = m_classes(l, n, m)\n",
    "# toy_data_set"
   ]
  },
  {
   "cell_type": "code",
   "execution_count": 271,
   "metadata": {
    "collapsed": false
   },
   "outputs": [],
   "source": [
    "ecoc_labels, list_supp_ind, list_alpha, list_b, list_w, list_kernel, code_words, barycenters =oneVSall(toy_data[::2], toy_labels[::2], num_classifiers=m)"
   ]
  },
  {
   "cell_type": "code",
   "execution_count": 246,
   "metadata": {
    "collapsed": false
   },
   "outputs": [
    {
     "name": "stdout",
     "output_type": "stream",
     "text": [
      "[ 1.08195634  1.08389043] -8.12832395877\n",
      "[-1.80498942 -0.68112318] 7.81758592176\n",
      "[ 0.12871504 -0.17214924] -0.275648321438\n"
     ]
    },
    {
     "data": {
      "image/png": "[encoded data removed]",
      "text/plain": [
       "<matplotlib.figure.Figure at 0xb45e940>"
      ]
     },
     "metadata": {},
     "output_type": "display_data"
    }
   ],
   "source": [
    "plt.scatter(toy_centers[:,0],  toy_centers[:,1], s=100, facecolors = 'none')\n",
    "plt.scatter(toy_data[:l, 0], toy_data[:l, 1])\n",
    "plt.scatter(toy_data[l:2*l, 0], toy_data[l:2*l, 1], facecolors='red')\n",
    "plt.scatter(toy_data[2*l:3*l, 0], toy_data[2*l:3*l, 1], facecolors='green')\n",
    "\n",
    "xs = np.linspace(-10, 10, 100)\n",
    "ys = np.linspace(-10, 10, 100)\n",
    "X, Y = np.meshgrid(xs, ys)\n",
    "\n",
    "for i in range(m):\n",
    "    np.dot(list_w[i],[1,1])\n",
    "    print(list_w[i], list_b[i])\n",
    "    Z = np.array([[ np.dot(list_w[i],np.array([x,y]))+list_b[i] for x in xs] for y in ys])\n",
    "    Z = np.reshape(Z, (np.shape(Z)[0], np.shape(Z)[1]))\n",
    "    #plt.plot([0, list_b[2]], [[1,1], np.dot(list_w[2],[1,1])+list_b[0]], 'k-', color = 'r\n",
    "    CS = plt.contour(X, Y, Z, levels = [0])\n",
    "    plt.clabel(CS, colors = 'k', fontsize=14)\n"
   ]
  },
  {
   "cell_type": "code",
   "execution_count": 247,
   "metadata": {
    "collapsed": false
   },
   "outputs": [
    {
     "data": {
      "text/plain": [
       "array([ 0.,  0.,  0.,  0.,  0.,  0.,  0.,  0.,  0.,  0.,  0.,  0.,  0.,\n",
       "        0.,  0.,  0.,  0.,  0.,  0.,  0.,  0.,  0.,  0.,  0.,  0.,  0.,\n",
       "        0.,  0.,  0.,  0.,  0.,  0.,  0.,  0.,  0.,  0.,  0.,  0.,  0.,\n",
       "        0.,  1.,  1.,  1.,  1.,  1.,  1.,  1.,  1.,  1.,  1.,  1.,  1.,\n",
       "        1.,  1.,  1.,  1.,  1.,  1.,  1.,  1.,  1.,  1.,  1.,  1.,  1.,\n",
       "        1.,  1.,  1.,  1.,  1.,  1.,  1.,  1.,  1.,  1.,  1.,  1.,  1.,\n",
       "        1.,  1.,  2.,  2.,  2.,  2.,  2.,  2.,  2.,  2.,  2.,  2.,  2.,\n",
       "        2.,  2.,  2.,  2.,  2.,  2.,  2.,  2.,  2.,  2.,  2.,  2.,  2.,\n",
       "        2.,  2.,  2.,  2.,  2.,  2.,  2.,  2.,  2.,  2.,  2.,  2.,  2.,\n",
       "        2.,  2.,  2.])"
      ]
     },
     "execution_count": 247,
     "metadata": {},
     "output_type": "execute_result"
    }
   ],
   "source": [
    "toy_labels"
   ]
  },
  {
   "cell_type": "code",
   "execution_count": 270,
   "metadata": {
    "collapsed": false
   },
   "outputs": [
    {
     "name": "stdout",
     "output_type": "stream",
     "text": [
      "number of correctly classified labels:  2000  out of  2000\n"
     ]
    },
    {
     "data": {
      "text/plain": [
       "array([ 0.,  0.,  0., ...,  9.,  9.,  9.])"
      ]
     },
     "execution_count": 270,
     "metadata": {},
     "output_type": "execute_result"
    }
   ],
   "source": [
    "predicted_labels = predict_oneVSall(toy_data[1::2], toy_data[::2], ecoc_labels, list_supp_ind, list_alpha, list_b, list_kernel, code_words, barycenters, num_classifiers=m)\n",
    "print(\"number of correctly classified labels: \", sum(predicted_labels.astype(int)==toy_labels[1::2].astype(int)), \n",
    "      \" out of \", np.shape(toy_data[1::2])[0]);\n",
    "predicted_labels"
   ]
  },
  {
   "cell_type": "code",
   "execution_count": 86,
   "metadata": {
    "collapsed": false
   },
   "outputs": [],
   "source": [
    "train = pd.read_csv('Data/train.csv')"
   ]
  },
  {
   "cell_type": "code",
   "execution_count": 292,
   "metadata": {
    "collapsed": false
   },
   "outputs": [
    {
     "data": {
      "text/plain": [
       "42000"
      ]
     },
     "execution_count": 292,
     "metadata": {},
     "output_type": "execute_result"
    }
   ],
   "source": [
    "images = [\"%s%s\" %(\"pixel\",pixel_no) for pixel_no in range(0,28**2)]\n",
    "train_images = np.array(train[images], dtype=np.float)/100\n",
    "\n",
    "train_labels = np.array(train['label'])\n",
    "#label0 = np.array([1 if i==0 else -1 for i in train_labels])\n",
    "len(train_images)"
   ]
  },
  {
   "cell_type": "code",
   "execution_count": 303,
   "metadata": {
    "collapsed": false
   },
   "outputs": [],
   "source": [
    "def oneVSall(labeled_data, labels, num_classifiers=10, kernel=scalar_product, penalty=10, list_sigma=[0.005]*15):\n",
    "    # \n",
    "    labels=labels.astype(int);\n",
    "    l=np.shape(labeled_data)[0];\n",
    "    n=np.shape(labeled_data)[1];\n",
    "    #num_classifiers=3;\n",
    "    oneVSall_labels=np.zeros((l,num_classifiers));\n",
    "    \n",
    "    # define code_word matrix, the ith row corresponds to the number i\n",
    "    # each column corresponds to a classifier that will have to be trained\n",
    "    code_words=2*np.identity(num_classifiers)-1;\n",
    "    \n",
    "    # up until now training data has labels from 0 to 9\n",
    "    # now these are replaced by the 15 digit string given by code_words\n",
    "    for j in range(l):\n",
    "        oneVSall_labels[j]=code_words[labels[j]];\n",
    "    \n",
    "    list_supp_ind = [];\n",
    "    list_alpha =[];\n",
    "    list_b =[];\n",
    "    list_kernel=[];\n",
    "    list_w=[];\n",
    "    \n",
    "    # print(oneVSall_labels)\n",
    "    \n",
    "    # class an svm object for each classifier\n",
    "    # here would be the possibility to parallelize\n",
    "    for classifier in range(num_classifiers):\n",
    "        svm=mySVM(kernel=kernel, penalty=penalty, sigma=list_sigma[classifier]);\n",
    "        svm.fit(labeled_data, oneVSall_labels[:,classifier]);\n",
    "        list_supp_ind.append(svm.supp_indices);\n",
    "        list_alpha.append(svm.alpha);\n",
    "        list_b.append(svm.b);\n",
    "        list_kernel.append(svm.kernel);\n",
    "        # list_w.append(svm.w)\n",
    "        \n",
    "    # compute barycenters of the points of each label\n",
    "    barycenters = np.zeros((num_classifiers,n));\n",
    "    \n",
    "    for i in range(num_classifiers):\n",
    "        ind = labels == i\n",
    "        barycenters[i] = np.mean(labeled_data[ind], axis=0)\n",
    "        \n",
    "    # pickle dump to save and call saved objects    \n",
    "    # pickle.dump((oneVSall_labels, list_supp_ind, list_alpha, list_b, list_kernel, code_words, barycenters), open( \"trained_oneVSall_\"+str(number_of_im)+\".dat\", \"wb\" ))\n",
    "    \n",
    "    # now I need to call a binary classifier for each column of ecoc_labels\n",
    "    # from decision functions we get seperating hyperplanes, margin, ... \n",
    "    # return those\n",
    "    \n",
    "    \n",
    "    return oneVSall_labels, list_supp_ind, list_alpha, list_b, list_kernel, code_words, barycenters;"
   ]
  },
  {
   "cell_type": "code",
   "execution_count": 304,
   "metadata": {
    "collapsed": false
   },
   "outputs": [
    {
     "data": {
      "text/plain": [
       "784"
      ]
     },
     "execution_count": 304,
     "metadata": {},
     "output_type": "execute_result"
    }
   ],
   "source": [
    "number_of_im = 100;\n",
    "train_images_test = train_images[:number_of_im]\n",
    "train_labels_test = train_labels[:number_of_im]\n",
    "np.shape(train_images_test)[1]"
   ]
  },
  {
   "cell_type": "code",
   "execution_count": 305,
   "metadata": {
    "collapsed": false
   },
   "outputs": [],
   "source": [
    "# call classifier with pickle.load\n",
    "oneVSall_labels, list_supp_ind, list_alpha, list_b, list_kernel, code_words, barycenters=oneVSall(train_images_test, train_labels_test, kernel = gaussian_kernel)\n",
    "# oneVSall_labels, list_supp_ind, list_alpha, list_b, list_kernel, code_words, barycenters=pickle.load(open (\"trained_oneVSall_\"+str(number_of_im)+\".dat\", \"rb\"))\n"
   ]
  },
  {
   "cell_type": "code",
   "execution_count": 306,
   "metadata": {
    "collapsed": false
   },
   "outputs": [],
   "source": [
    "# suppose we have an unlabeled data point\n",
    "def predict_oneVSall(unlabeled_data, labeled_data, oneVSall_labels, list_supp_ind, \n",
    "                     list_alpha, list_b, list_kernel, code_words, barycenters, num_classifiers=10):\n",
    "    # every row is one data point\n",
    "    # number of rows = # of data points\n",
    "    #num_classifiers=3;\n",
    "    \n",
    "    l=np.shape(unlabeled_data)[0];\n",
    "    new_labels=np.zeros((l,num_classifiers));\n",
    "    \n",
    "    temp_label_ind=[];\n",
    "    final_labels = np.array(['inf']*l).astype(float);\n",
    "    \n",
    "\n",
    "    \n",
    "    for classifier in range(num_classifiers):\n",
    "        a_supp = list_alpha[classifier][list_supp_ind[classifier]];\n",
    "        oneVSall_labels_supp = oneVSall_labels[list_supp_ind[classifier],classifier]\n",
    "        a_times_labels=np.multiply(a_supp, oneVSall_labels_supp)\n",
    "        \n",
    "        for i in range(l):\n",
    "            # i_th row of kernel matrix k\n",
    "            k=np.array([list_kernel[classifier](unlabeled_data[i],y) for y in labeled_data[list_supp_ind[classifier]]])\n",
    "            \n",
    "            # list of lists with 15 entries, one per classifier\n",
    "            new_labels[i][classifier]=np.sign(np.dot(a_times_labels,k)+list_b[classifier]);\n",
    "    \n",
    "    for i in range(l):\n",
    "        ham_dist = [hamming(new_labels[i], code_words[j]) for j in range(num_classifiers)]\n",
    "        temp_label_ind = [j for j in range(len(ham_dist)) if ham_dist[j] == min(ham_dist)]\n",
    "        # print(type(temp_label_ind[0]))\n",
    "        if len(temp_label_ind)!=1:\n",
    "            print(\"Attention, data point could not be uniquely classified, index \" \n",
    "                  + str(i) + \" possible classification \" + str(temp_label_ind));\n",
    "            \n",
    "            # ask which barycenter is closest out of temp_label_ind\n",
    "            final_labels[i] = np.min(np.argmin([np.linalg.norm(unlabeled_data[i]-barycenters[k]) for k in temp_label_ind]))\n",
    "            \n",
    "        else:\n",
    "            final_labels[i] = ham_dist.index(min(ham_dist));\n",
    "        \n",
    "   \n",
    "    return final_labels;\n",
    "    "
   ]
  },
  {
   "cell_type": "code",
   "execution_count": 307,
   "metadata": {
    "collapsed": false
   },
   "outputs": [
    {
     "name": "stdout",
     "output_type": "stream",
     "text": [
      "Attention, data point could not be uniquely classified, index 0 possible classification [0, 1, 2, 3, 4, 5, 6, 7, 8, 9]\n",
      "Attention, data point could not be uniquely classified, index 1 possible classification [0, 1, 2, 3, 4, 5, 6, 7, 8, 9]\n",
      "Attention, data point could not be uniquely classified, index 2 possible classification [0, 1, 2, 3, 4, 5, 6, 7, 8, 9]\n",
      "Attention, data point could not be uniquely classified, index 4 possible classification [0, 1, 2, 3, 4, 5, 6, 7, 8, 9]\n",
      "Attention, data point could not be uniquely classified, index 6 possible classification [0, 1, 2, 3, 4, 5, 6, 7, 8, 9]\n",
      "Attention, data point could not be uniquely classified, index 7 possible classification [0, 1, 2, 3, 4, 5, 6, 7, 8, 9]\n",
      "Attention, data point could not be uniquely classified, index 8 possible classification [0, 1, 2, 3, 4, 5, 6, 7, 8, 9]\n",
      "Attention, data point could not be uniquely classified, index 11 possible classification [0, 1, 2, 3, 4, 5, 6, 7, 8, 9]\n",
      "Attention, data point could not be uniquely classified, index 12 possible classification [0, 1, 2, 3, 4, 5, 6, 7, 8, 9]\n",
      "Attention, data point could not be uniquely classified, index 13 possible classification [0, 1, 2, 3, 4, 5, 6, 7, 8, 9]\n",
      "Attention, data point could not be uniquely classified, index 14 possible classification [0, 1, 2, 3, 4, 5, 6, 7, 8, 9]\n",
      "Attention, data point could not be uniquely classified, index 15 possible classification [0, 1, 2, 3, 4, 5, 6, 7, 8, 9]\n",
      "Attention, data point could not be uniquely classified, index 16 possible classification [0, 1, 2, 3, 4, 5, 6, 7, 8, 9]\n",
      "Attention, data point could not be uniquely classified, index 17 possible classification [0, 1, 2, 3, 4, 5, 6, 7, 8, 9]\n",
      "Attention, data point could not be uniquely classified, index 19 possible classification [0, 1, 2, 3, 4, 5, 6, 7, 8, 9]\n",
      "Attention, data point could not be uniquely classified, index 20 possible classification [0, 1, 2, 3, 4, 5, 6, 7, 8, 9]\n",
      "Attention, data point could not be uniquely classified, index 21 possible classification [0, 1, 2, 3, 4, 5, 6, 7, 8, 9]\n",
      "Attention, data point could not be uniquely classified, index 22 possible classification [0, 1, 2, 3, 4, 5, 6, 7, 8, 9]\n",
      "Attention, data point could not be uniquely classified, index 23 possible classification [0, 1, 2, 3, 4, 5, 6, 7, 8, 9]\n",
      "Attention, data point could not be uniquely classified, index 25 possible classification [0, 1, 2, 3, 4, 5, 6, 7, 8, 9]\n",
      "Attention, data point could not be uniquely classified, index 26 possible classification [0, 1, 2, 3, 4, 5, 6, 7, 8, 9]\n",
      "Attention, data point could not be uniquely classified, index 27 possible classification [0, 1, 2, 3, 4, 5, 6, 7, 8, 9]\n",
      "Attention, data point could not be uniquely classified, index 28 possible classification [0, 1, 2, 3, 4, 5, 6, 7, 8, 9]\n",
      "Attention, data point could not be uniquely classified, index 29 possible classification [0, 1, 2, 3, 4, 5, 6, 7, 8, 9]\n",
      "Attention, data point could not be uniquely classified, index 30 possible classification [0, 1, 2, 3, 4, 5, 6, 7, 8, 9]\n",
      "Attention, data point could not be uniquely classified, index 31 possible classification [0, 1, 2, 3, 4, 5, 6, 7, 8, 9]\n",
      "Attention, data point could not be uniquely classified, index 32 possible classification [0, 1, 2, 3, 4, 5, 6, 7, 8, 9]\n",
      "Attention, data point could not be uniquely classified, index 33 possible classification [0, 1, 2, 3, 4, 5, 6, 7, 8, 9]\n",
      "Attention, data point could not be uniquely classified, index 37 possible classification [0, 1, 2, 3, 4, 5, 6, 7, 8, 9]\n",
      "Attention, data point could not be uniquely classified, index 39 possible classification [0, 1, 2, 3, 4, 5, 6, 7, 8, 9]\n",
      "Attention, data point could not be uniquely classified, index 41 possible classification [0, 1, 2, 3, 4, 5, 6, 7, 8, 9]\n",
      "Attention, data point could not be uniquely classified, index 43 possible classification [0, 1, 2, 3, 4, 5, 6, 7, 8, 9]\n",
      "Attention, data point could not be uniquely classified, index 44 possible classification [0, 1, 2, 3, 4, 5, 6, 7, 8, 9]\n",
      "Attention, data point could not be uniquely classified, index 46 possible classification [0, 1, 2, 3, 4, 5, 6, 7, 8, 9]\n",
      "Attention, data point could not be uniquely classified, index 47 possible classification [0, 1, 2, 3, 4, 5, 6, 7, 8, 9]\n",
      "Attention, data point could not be uniquely classified, index 48 possible classification [0, 1, 2, 3, 4, 5, 6, 7, 8, 9]\n",
      "Attention, data point could not be uniquely classified, index 49 possible classification [0, 1, 2, 3, 4, 5, 6, 7, 8, 9]\n",
      "Attention, data point could not be uniquely classified, index 50 possible classification [0, 1, 2, 3, 4, 5, 6, 7, 8, 9]\n",
      "Attention, data point could not be uniquely classified, index 51 possible classification [0, 1, 2, 3, 4, 5, 6, 7, 8, 9]\n",
      "Attention, data point could not be uniquely classified, index 53 possible classification [0, 1, 2, 3, 4, 5, 6, 7, 8, 9]\n",
      "Attention, data point could not be uniquely classified, index 54 possible classification [0, 1, 2, 3, 4, 5, 6, 7, 8, 9]\n",
      "Attention, data point could not be uniquely classified, index 55 possible classification [0, 1, 2, 3, 4, 5, 6, 7, 8, 9]\n",
      "Attention, data point could not be uniquely classified, index 56 possible classification [0, 1, 2, 3, 4, 5, 6, 7, 8, 9]\n",
      "Attention, data point could not be uniquely classified, index 58 possible classification [0, 1, 2, 3, 4, 5, 6, 7, 8, 9]\n",
      "Attention, data point could not be uniquely classified, index 59 possible classification [0, 1, 2, 3, 4, 5, 6, 7, 8, 9]\n",
      "Attention, data point could not be uniquely classified, index 62 possible classification [0, 1, 2, 3, 4, 5, 6, 7, 8, 9]\n",
      "Attention, data point could not be uniquely classified, index 64 possible classification [0, 1, 2, 3, 4, 5, 6, 7, 8, 9]\n",
      "Attention, data point could not be uniquely classified, index 65 possible classification [0, 1, 2, 3, 4, 5, 6, 7, 8, 9]\n",
      "Attention, data point could not be uniquely classified, index 66 possible classification [0, 1, 2, 3, 4, 5, 6, 7, 8, 9]\n",
      "Attention, data point could not be uniquely classified, index 67 possible classification [0, 1, 2, 3, 4, 5, 6, 7, 8, 9]\n",
      "Attention, data point could not be uniquely classified, index 68 possible classification [0, 1, 2, 3, 4, 5, 6, 7, 8, 9]\n",
      "Attention, data point could not be uniquely classified, index 69 possible classification [0, 1, 2, 3, 4, 5, 6, 7, 8, 9]\n",
      "Attention, data point could not be uniquely classified, index 70 possible classification [0, 1, 2, 3, 4, 5, 6, 7, 8, 9]\n",
      "Attention, data point could not be uniquely classified, index 71 possible classification [0, 1, 2, 3, 4, 5, 6, 7, 8, 9]\n",
      "Attention, data point could not be uniquely classified, index 72 possible classification [0, 1, 2, 3, 4, 5, 6, 7, 8, 9]\n",
      "Attention, data point could not be uniquely classified, index 73 possible classification [0, 1, 2, 3, 4, 5, 6, 7, 8, 9]\n",
      "Attention, data point could not be uniquely classified, index 74 possible classification [0, 1, 2, 3, 4, 5, 6, 7, 8, 9]\n",
      "Attention, data point could not be uniquely classified, index 75 possible classification [0, 1, 2, 3, 4, 5, 6, 7, 8, 9]\n",
      "Attention, data point could not be uniquely classified, index 76 possible classification [0, 1, 2, 3, 4, 5, 6, 7, 8, 9]\n",
      "Attention, data point could not be uniquely classified, index 77 possible classification [0, 1, 2, 3, 4, 5, 6, 7, 8, 9]\n",
      "Attention, data point could not be uniquely classified, index 78 possible classification [0, 1, 2, 3, 4, 5, 6, 7, 8, 9]\n",
      "Attention, data point could not be uniquely classified, index 79 possible classification [0, 1, 2, 3, 4, 5, 6, 7, 8, 9]\n",
      "Attention, data point could not be uniquely classified, index 80 possible classification [0, 1, 2, 3, 4, 5, 6, 7, 8, 9]\n",
      "Attention, data point could not be uniquely classified, index 81 possible classification [0, 1, 2, 3, 4, 5, 6, 7, 8, 9]\n",
      "Attention, data point could not be uniquely classified, index 83 possible classification [0, 1, 2, 3, 4, 5, 6, 7, 8, 9]\n",
      "Attention, data point could not be uniquely classified, index 84 possible classification [0, 1, 2, 3, 4, 5, 6, 7, 8, 9]\n",
      "Attention, data point could not be uniquely classified, index 86 possible classification [0, 1, 2, 3, 4, 5, 6, 7, 8, 9]\n",
      "Attention, data point could not be uniquely classified, index 87 possible classification [0, 1, 2, 3, 4, 5, 6, 7, 8, 9]\n",
      "Attention, data point could not be uniquely classified, index 89 possible classification [0, 1, 2, 3, 4, 5, 6, 7, 8, 9]\n",
      "Attention, data point could not be uniquely classified, index 90 possible classification [0, 1, 2, 3, 4, 5, 6, 7, 8, 9]\n",
      "Attention, data point could not be uniquely classified, index 91 possible classification [0, 1, 2, 3, 4, 5, 6, 7, 8, 9]\n",
      "Attention, data point could not be uniquely classified, index 92 possible classification [0, 1, 2, 3, 4, 5, 6, 7, 8, 9]\n",
      "Attention, data point could not be uniquely classified, index 93 possible classification [0, 1, 2, 3, 4, 5, 6, 7, 8, 9]\n",
      "Attention, data point could not be uniquely classified, index 94 possible classification [0, 1, 2, 3, 4, 5, 6, 7, 8, 9]\n",
      "Attention, data point could not be uniquely classified, index 95 possible classification [0, 1, 2, 3, 4, 5, 6, 7, 8, 9]\n",
      "Attention, data point could not be uniquely classified, index 96 possible classification [0, 1, 2, 3, 4, 5, 6, 7, 8, 9]\n",
      "Attention, data point could not be uniquely classified, index 97 possible classification [0, 1, 2, 3, 4, 5, 6, 7, 8, 9]\n",
      "Attention, data point could not be uniquely classified, index 98 possible classification [0, 1, 2, 3, 4, 5, 6, 7, 8, 9]\n",
      "Attention, data point could not be uniquely classified, index 99 possible classification [0, 1, 2, 3, 4, 5, 6, 7, 8, 9]\n",
      "number of correctly classified labels:  58  out of  100\n"
     ]
    }
   ],
   "source": [
    "# \"unknown\" data to be classified\n",
    "number_of_test_data = 100\n",
    "test_data = train_images[number_of_im:number_of_im+number_of_test_data]\n",
    "\n",
    "# call predict function\n",
    "predicted_labels_test=predict_oneVSall(train_images[number_of_im:number_of_im+number_of_test_data], \n",
    "                                       train_images[:number_of_im], oneVSall_labels, list_supp_ind, list_alpha, \n",
    "                                       list_b, list_kernel, code_words, barycenters)\n",
    "predicted_labels_test = predicted_labels_test.astype(float)\n",
    "# print(\"predicted labels: \", predicted_labels_test)\n",
    "\n",
    "# get actual labels\n",
    "train_labels_test=train_labels[number_of_im:number_of_im+number_of_test_data]\n",
    "train_labels_test = train_labels_test.astype(float)\n",
    "# print(\"actual labels: \", train_labels_test)\n",
    "\n",
    "print(\"number of correctly classified labels: \", sum(predicted_labels_test.astype(int)==train_labels_test.astype(int)), \n",
    "      \" out of \", number_of_test_data);\n",
    "\n",
    "# check if there is are a couple of classifiers who make more mistakes than others\n",
    "# then we could possibly change some of the parameters"
   ]
  },
  {
   "cell_type": "code",
   "execution_count": 106,
   "metadata": {
    "collapsed": false
   },
   "outputs": [
    {
     "data": {
      "text/plain": [
       "4"
      ]
     },
     "execution_count": 106,
     "metadata": {},
     "output_type": "execute_result"
    }
   ],
   "source": []
  },
  {
   "cell_type": "code",
   "execution_count": null,
   "metadata": {
    "collapsed": true
   },
   "outputs": [],
   "source": []
  }
 ],
 "metadata": {
  "kernelspec": {
   "display_name": "Python 3",
   "language": "python",
   "name": "python3"
  },
  "language_info": {
   "codemirror_mode": {
    "name": "ipython",
    "version": 3
   },
   "file_extension": ".py",
   "mimetype": "text/x-python",
   "name": "python",
   "nbconvert_exporter": "python",
   "pygments_lexer": "ipython3",
   "version": "3.6.0"
  }
 },
 "nbformat": 4,
 "nbformat_minor": 2
}
