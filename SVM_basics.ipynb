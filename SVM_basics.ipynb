{
 "cells": [
  {
   "cell_type": "code",
   "execution_count": 150,
   "metadata": {
    "collapsed": false
   },
   "outputs": [],
   "source": [
    "import numpy as np\n",
    "import scipy\n",
    "import pandas as pd # data processing, CSV file I/O (e.g. pd.read_csv)\n",
    "from sklearn.metrics.pairwise import pairwise_kernels\n",
    "from sklearn.metrics.pairwise import pairwise_kernels\n",
    "from scipy.optimize import minimize\n",
    "import cvxopt\n",
    "from cvxopt import matrix, solvers\n",
    "import matplotlib.pyplot\n",
    "%matplotlib inline"
   ]
  },
  {
   "cell_type": "code",
   "execution_count": 134,
   "metadata": {
    "collapsed": true
   },
   "outputs": [],
   "source": [
    "def gaussian_kernel(x1, x2, sigma):\n",
    "    return np.exp(-sigma*np.linalg.norm(x1-x2)**2)\n",
    "\n",
    "def gk(x1,x2):\n",
    "    sigma = 0.0001\n",
    "    return gaussian_kernel(x1, x2, sigma)"
   ]
  },
  {
   "cell_type": "code",
   "execution_count": 125,
   "metadata": {
    "collapsed": true
   },
   "outputs": [],
   "source": [
    "train = pd.read_csv('C:/Users/LMatt/OneDrive/Dokumente/Mathe/Machine Learning/Projekt/digits_train.csv')"
   ]
  },
  {
   "cell_type": "code",
   "execution_count": 228,
   "metadata": {
    "collapsed": false
   },
   "outputs": [
    {
     "data": {
      "text/plain": [
       "array([-1,  1, -1, ..., -1, -1, -1])"
      ]
     },
     "execution_count": 228,
     "metadata": {},
     "output_type": "execute_result"
    }
   ],
   "source": [
    "no_samples = 100\n",
    "C = 0.5\n",
    "images = [\"%s%s\" %(\"pixel\",pixel_no) for pixel_no in range(0,28**2)]\n",
    "train_images = np.array(train[images], dtype=np.float)\n",
    "train_labels = np.array(train['label'])\n",
    "label0 = np.array([1 if i==0 else -1 for i in train_labels])   \n",
    "T= train_images[:no_samples]/float(100)\n",
    "t = np.diag(label0[:no_samples])\n",
    "tm = -t\n",
    "label0"
   ]
  },
  {
   "cell_type": "code",
   "execution_count": 198,
   "metadata": {
    "collapsed": false
   },
   "outputs": [
    {
     "data": {
      "text/plain": [
       "0.9115069318593646"
      ]
     },
     "execution_count": 198,
     "metadata": {},
     "output_type": "execute_result"
    }
   ],
   "source": [
    "K = matrix(pairwise_kernels(T, metric = gk))"
   ]
  },
  {
   "cell_type": "code",
   "execution_count": 268,
   "metadata": {
    "collapsed": false
   },
   "outputs": [
    {
     "name": "stdout",
     "output_type": "stream",
     "text": [
      "     pcost       dcost       gap    pres   dres\n",
      " 0: -7.9643e-01 -6.2079e+01  4e+02  3e+00  2e-15\n",
      " 1: -4.7055e-01 -3.5677e+01  4e+01  5e-02  3e-15\n",
      " 2: -4.5220e-01 -1.4754e+00  1e+00  6e-04  1e-15\n",
      " 3: -5.2918e-01 -9.2683e-01  4e-01  2e-04  4e-16\n",
      "Terminated (singular KKT matrix).\n"
     ]
    }
   ],
   "source": [
    "K = matrix(K)\n",
    "q = matrix(1., ( no_samples,1),tc='d')\n",
    "A = matrix(1., ( 1,no_samples),tc='d')\n",
    "b = matrix(0.,(1,1),tc='d')\n",
    "G = matrix(np.concatenate((tm,t)),tc='d')\n",
    "h = matrix(np.concatenate((matrix(0.,(no_samples,1 )), matrix(float(C),(no_samples,1)))),tc='d')\n",
    "sol=solvers.qp(-1/2*K, q, G, h, A, b)\n",
    "\n",
    "#y=np.array(sol['x'])\n",
    "#print(type(sol['x']))\n",
    "#l = np.array([[float(i)] for i in label0[:no_samples]])\n",
    "#np.sign(y)==l"
   ]
  },
  {
   "cell_type": "code",
   "execution_count": 269,
   "metadata": {
    "collapsed": false
   },
   "outputs": [
    {
     "data": {
      "text/plain": [
       "\"\\ndef Lagrangian(x):\\n    return 0.5*np.dot(np.dot(np.transpose(x),K),x) - np.dot(np.transpose(q),x)\\n\\nK = np.array(K)\\nq = np.array(q)\\nA = np.array(A)\\nb = np.array(b)\\nG = np.array(G)\\nh = np.array(h)\\nx0 = np.zeros((no_samples, 1))\\nconstraint1 = {'type': 'ineq',\\n              'fun': lambda x: -G*x-h,\\n              'jac': lambda x: -G}\\nconstraint2 ={'type': 'eq',\\n             'fun': lambda x: A*x+b,\\n             'jac': lambda x: A}\\nx=scipy.optimize.minimize(Lagrangian, x0, constraints=[constraint1, constraint2], method = 'Nelder-Mead')\\nnp.shape(A)\\nx\\n\""
      ]
     },
     "execution_count": 269,
     "metadata": {},
     "output_type": "execute_result"
    }
   ],
   "source": [
    "'''\n",
    "def Lagrangian(x):\n",
    "    return 0.5*np.dot(np.dot(np.transpose(x),K),x) - np.dot(np.transpose(q),x)\n",
    "\n",
    "K = np.array(K)\n",
    "q = np.array(q)\n",
    "A = np.array(A)\n",
    "b = np.array(b)\n",
    "G = np.array(G)\n",
    "h = np.array(h)\n",
    "x0 = np.zeros((no_samples, 1))\n",
    "constraint1 = {'type': 'ineq',\n",
    "              'fun': lambda x: -G*x-h,\n",
    "              'jac': lambda x: -G}\n",
    "constraint2 ={'type': 'eq',\n",
    "             'fun': lambda x: A*x+b,\n",
    "             'jac': lambda x: A}\n",
    "x=scipy.optimize.minimize(Lagrangian, x0, constraints=[constraint1, constraint2], method = 'Nelder-Mead')\n",
    "np.shape(A)\n",
    "x\n",
    "'''"
   ]
  }
 ],
 "metadata": {
  "anaconda-cloud": {},
  "kernelspec": {
   "display_name": "Python [conda env:py27]",
   "language": "python",
   "name": "conda-env-py27-py"
  },
  "language_info": {
   "codemirror_mode": {
    "name": "ipython",
    "version": 2
   },
   "file_extension": ".py",
   "mimetype": "text/x-python",
   "name": "python",
   "nbconvert_exporter": "python",
   "pygments_lexer": "ipython2",
   "version": "2.7.12"
  }
 },
 "nbformat": 4,
 "nbformat_minor": 1
}
