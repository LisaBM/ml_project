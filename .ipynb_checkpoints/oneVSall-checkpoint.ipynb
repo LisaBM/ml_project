{
 "cells": [
  {
   "cell_type": "markdown",
   "metadata": {},
   "source": [
    "## Classify with One VS All"
   ]
  },
  {
   "cell_type": "code",
   "execution_count": 7,
   "metadata": {
    "collapsed": false
   },
   "outputs": [],
   "source": [
    "import numpy as np\n",
    "import scipy\n",
    "\n",
    "# to save data\n",
    "import pickle\n",
    "\n",
    "import pandas as pd # data processing, CSV file I/O (e.g. pd.read_csv)\n",
    "from sklearn.metrics.pairwise import pairwise_kernels\n",
    "from scipy.optimize import minimize\n",
    "from scipy.spatial.distance import hamming\n",
    "\n",
    "import matplotlib.pyplot as plt\n",
    "%matplotlib inline\n",
    "\n",
    "from mySVM_class_new import *\n",
    "\n"
   ]
  },
  {
   "cell_type": "code",
   "execution_count": null,
   "metadata": {
    "collapsed": false
   },
   "outputs": [],
   "source": [
    "def m_classes(l,n,m):\n",
    "    \n",
    "    #l: samples per class\n",
    "    #n: dimension\n",
    "    #m: number of classes\n",
    "    \n",
    "    centers = 20*np.random.rand(m,n)-10 #create the centers of the classes\n",
    "    data = np.zeros((1, n))\n",
    "    labels = np.zeros(l*m)\n",
    "    for i in range(m):\n",
    "        center = centers[i]\n",
    "        # print(np.shape(data), np.shape(np.random.normal(loc=center, scale=1.0, size=(l, n))))\n",
    "        \n",
    "        data = np.concatenate((data,np.random.normal(loc=center, scale=1.0, size=(l, n))), axis = 0)\n",
    "        \n",
    "    for i in range(m):\n",
    "        labels[(i*l):((i+1)*l)]=i \n",
    "    \n",
    "    return data[1:], labels, centers"
   ]
  },
  {
   "cell_type": "code",
   "execution_count": null,
   "metadata": {
    "collapsed": true
   },
   "outputs": [],
   "source": [
    "l=400;\n",
    "n=10;\n",
    "m=10;\n",
    "toy_data, toy_labels, toy_centers = m_classes(l, n, m)\n",
    "# toy_data_set"
   ]
  },
  {
   "cell_type": "code",
   "execution_count": null,
   "metadata": {
    "collapsed": false
   },
   "outputs": [],
   "source": [
    "#ecoc_labels, list_supp_ind, list_alpha, list_b, list_w, list_kernel, code_words, barycenters =oneVSall(toy_data[::2], toy_labels[::2], num_classifiers=m)"
   ]
  },
  {
   "cell_type": "code",
   "execution_count": null,
   "metadata": {
    "collapsed": false
   },
   "outputs": [],
   "source": [
    "plt.scatter(toy_centers[:,0],  toy_centers[:,1], s=100, facecolors = 'none')\n",
    "plt.scatter(toy_data[:l, 0], toy_data[:l, 1])\n",
    "plt.scatter(toy_data[l:2*l, 0], toy_data[l:2*l, 1], facecolors='red')\n",
    "plt.scatter(toy_data[2*l:3*l, 0], toy_data[2*l:3*l, 1], facecolors='green')\n",
    "\n",
    "xs = np.linspace(-10, 10, 100)\n",
    "ys = np.linspace(-10, 10, 100)\n",
    "X, Y = np.meshgrid(xs, ys)\n",
    "\n",
    "for i in range(m):\n",
    "    np.dot(list_w[i],[1,1])\n",
    "    print(list_w[i], list_b[i])\n",
    "    Z = np.array([[ np.dot(list_w[i],np.array([x,y]))+list_b[i] for x in xs] for y in ys])\n",
    "    Z = np.reshape(Z, (np.shape(Z)[0], np.shape(Z)[1]))\n",
    "    #plt.plot([0, list_b[2]], [[1,1], np.dot(list_w[2],[1,1])+list_b[0]], 'k-', color = 'r\n",
    "    CS = plt.contour(X, Y, Z, levels = [0])\n",
    "    plt.clabel(CS, colors = 'k', fontsize=14)\n"
   ]
  },
  {
   "cell_type": "code",
   "execution_count": null,
   "metadata": {
    "collapsed": false
   },
   "outputs": [],
   "source": [
    "toy_labels"
   ]
  },
  {
   "cell_type": "code",
   "execution_count": null,
   "metadata": {
    "collapsed": false
   },
   "outputs": [],
   "source": [
    "predicted_labels = predict_oneVSall(toy_data[1::2], toy_data[::2], ecoc_labels, list_supp_ind, list_alpha, list_b, list_kernel, code_words, barycenters, num_classifiers=m)\n",
    "print(\"number of correctly classified labels: \", sum(predicted_labels.astype(int)==toy_labels[1::2].astype(int)), \n",
    "      \" out of \", np.shape(toy_data[1::2])[0]);\n",
    "predicted_labels"
   ]
  },
  {
   "cell_type": "code",
   "execution_count": 8,
   "metadata": {
    "collapsed": false
   },
   "outputs": [],
   "source": [
    "train = pd.read_csv('Data/train.csv')"
   ]
  },
  {
   "cell_type": "code",
   "execution_count": 9,
   "metadata": {
    "collapsed": false
   },
   "outputs": [
    {
     "data": {
      "text/plain": [
       "42000"
      ]
     },
     "execution_count": 9,
     "metadata": {},
     "output_type": "execute_result"
    }
   ],
   "source": [
    "images = [\"%s%s\" %(\"pixel\",pixel_no) for pixel_no in range(0,28**2)]\n",
    "train_images = np.array(train[images], dtype=np.float)/100\n",
    "\n",
    "train_labels = np.array(train['label'])\n",
    "#label0 = np.array([1 if i==0 else -1 for i in train_labels])\n",
    "len(train_images)"
   ]
  },
  {
   "cell_type": "code",
   "execution_count": 10,
   "metadata": {
    "collapsed": false
   },
   "outputs": [],
   "source": [
    "def oneVSall(labeled_data, labels, num_classifiers=10, kernel=scalar_product, penalty=10, list_sigma=[0.003]*10):\n",
    "    # \n",
    "    labels=labels.astype(int);\n",
    "    l=np.shape(labeled_data)[0];\n",
    "    n=np.shape(labeled_data)[1];\n",
    "    #num_classifiers=3;\n",
    "    oneVSall_labels=np.zeros((l,num_classifiers));\n",
    "    \n",
    "    # define code_word matrix, the ith row corresponds to the number i\n",
    "    # each column corresponds to a classifier that will have to be trained\n",
    "    code_words=2*np.identity(num_classifiers)-1;\n",
    "    \n",
    "    # up until now training data has labels from 0 to 9\n",
    "    # now these are replaced by the 15 digit string given by code_words\n",
    "    for j in range(l):\n",
    "        oneVSall_labels[j]=code_words[labels[j]];\n",
    "    \n",
    "    list_supp_ind = [];\n",
    "    list_alpha =[];\n",
    "    list_b =[];\n",
    "    list_kernel=[];\n",
    "    list_w=[];\n",
    "    \n",
    "    # print(oneVSall_labels)\n",
    "    \n",
    "    # class an svm object for each classifier\n",
    "    # here would be the possibility to parallelize\n",
    "    for classifier in range(num_classifiers):\n",
    "        svm=mySVM(kernel=kernel, penalty=penalty, sigma=list_sigma[classifier]);\n",
    "        svm.fit(labeled_data, oneVSall_labels[:,classifier]);\n",
    "        list_supp_ind.append(svm.supp_indices);\n",
    "        list_alpha.append(svm.alpha);\n",
    "        list_b.append(svm.b);\n",
    "        list_kernel.append(svm.kernel);\n",
    "        # list_w.append(svm.w)\n",
    "        \n",
    "    # compute barycenters of the points of each label\n",
    "    barycenters = np.zeros((num_classifiers,n));\n",
    "    # barycenters2 = np.zeros((num_classifiers,n));\n",
    "    for i in range(num_classifiers):\n",
    "        # calculations of the barycenters yield same results\n",
    "        # so probably both are correct... \n",
    "        ind = [j for j,k in enumerate(labels) if k == i]\n",
    "        barycenters[i] = np.mean(labeled_data[ind], axis=0)\n",
    "        # ind2 = labels == i\n",
    "        # barycenters2[i] = np.mean(labeled_data[ind], axis=0)\n",
    "        # print(np.linalg.norm(barycenters - barycenters2))\n",
    "    # pickle dump to save and call saved objects    \n",
    "    # pickle.dump((oneVSall_labels, list_supp_ind, list_alpha, list_b, list_kernel, code_words, barycenters), open( \"trained_oneVSall_\"+str(number_of_im)+\".dat\", \"wb\" ))\n",
    "    \n",
    "    # now I need to call a binary classifier for each column of ecoc_labels\n",
    "    # from decision functions we get seperating hyperplanes, margin, ... \n",
    "    # return those\n",
    "    \n",
    "    \n",
    "    return oneVSall_labels, list_supp_ind, list_alpha, list_b, list_kernel, code_words, barycenters;"
   ]
  },
  {
   "cell_type": "code",
   "execution_count": null,
   "metadata": {
    "collapsed": false
   },
   "outputs": [
    {
     "data": {
      "text/plain": [
       "784"
      ]
     },
     "execution_count": 11,
     "metadata": {},
     "output_type": "execute_result"
    }
   ],
   "source": [
    "number_of_im = 10000;\n",
    "train_images_test = train_images[:number_of_im]\n",
    "train_labels_test = train_labels[:number_of_im]\n",
    "np.shape(train_images_test)[1]"
   ]
  },
  {
   "cell_type": "code",
   "execution_count": null,
   "metadata": {
    "collapsed": false
   },
   "outputs": [],
   "source": [
    "%%time\n",
    "# call classifier with pickle.load\n",
    "lamb=0.00014;\n",
    "penalty = 1./(2*lamb*number_of_im);\n",
    "oneVSall_labels, list_supp_ind, list_alpha, list_b, list_kernel, code_words, barycenters=oneVSall(train_images_test, train_labels_test, kernel = gaussian_kernel, penalty=penalty)\n",
    "# oneVSall_labels, list_supp_ind, list_alpha, list_b, list_kernel, code_words, barycenters=pickle.load(open (\"trained_oneVSall_\"+str(number_of_im)+\".dat\", \"rb\"))"
   ]
  },
  {
   "cell_type": "code",
   "execution_count": null,
   "metadata": {
    "collapsed": false
   },
   "outputs": [],
   "source": [
    "# suppose we have an unlabeled data point\n",
    "def predict_oneVSall(unlabeled_data, labeled_data, oneVSall_labels, list_supp_ind, \n",
    "                     list_alpha, list_b, list_kernel, code_words, barycenters, num_classifiers=10):\n",
    "    # every row is one data point\n",
    "    # number of rows = # of data points\n",
    "    #num_classifiers=3;\n",
    "    \n",
    "    l=np.shape(unlabeled_data)[0];\n",
    "    new_labels=np.zeros((l,num_classifiers));\n",
    "    \n",
    "    temp_label_ind=[];\n",
    "    final_labels = np.array(['inf']*l).astype(float);\n",
    "    \n",
    "    counter_onevsall = 0;\n",
    "    counter_barycenter=0;\n",
    "    list_oneVsall_unique_index=[];\n",
    "    \n",
    "    for classifier in range(num_classifiers):\n",
    "        a_supp = list_alpha[classifier][list_supp_ind[classifier]];\n",
    "        oneVSall_labels_supp = oneVSall_labels[list_supp_ind[classifier],classifier]\n",
    "        a_times_labels=np.multiply(a_supp, oneVSall_labels_supp)\n",
    "        \n",
    "        for i in range(l):\n",
    "            # i_th row of kernel matrix k\n",
    "            k=np.array([list_kernel[classifier](unlabeled_data[i],y) for y in labeled_data[list_supp_ind[classifier]]])\n",
    "            \n",
    "            # list of lists with 15 entries, one per classifier\n",
    "            new_labels[i][classifier]=np.sign(np.dot(a_times_labels,k)+list_b[classifier]);\n",
    "    \n",
    "    for i in range(l):\n",
    "        ham_dist = [hamming(new_labels[i], code_words[j]) for j in range(num_classifiers)]\n",
    "        temp_label_ind = [j for j in range(len(ham_dist)) if ham_dist[j] == min(ham_dist)]\n",
    "        # print(type(temp_label_ind[0]))\n",
    "        if len(temp_label_ind)!=1:\n",
    "            # print(\"Attention, data point could not be uniquely classified, index \" \n",
    "              #    + str(i) + \" possible classification \" + str(temp_label_ind));\n",
    "            \n",
    "            # ask which barycenter is closest out of temp_label_ind\n",
    "            final_labels[i] = np.min(np.argmin([np.linalg.norm(unlabeled_data[i]-barycenters[k]) for k in temp_label_ind]))\n",
    "            # final_labels[i]=20;\n",
    "            counter_barycenter+=1;\n",
    "        else:\n",
    "            counter_onevsall += 1;\n",
    "            final_labels[i] = ham_dist.index(min(ham_dist));\n",
    "            list_oneVsall_unique_index.append(i); \n",
    "            \n",
    "        \n",
    "    print(\"counter one Vs all classified \", counter_onevsall)\n",
    "    print(\"counter barycenter classified \", counter_barycenter)\n",
    "    return final_labels, list_oneVsall_unique_index;\n",
    "    "
   ]
  },
  {
   "cell_type": "code",
   "execution_count": null,
   "metadata": {
    "collapsed": false
   },
   "outputs": [],
   "source": [
    "# \"unknown\" data to be classified\n",
    "number_of_test_data = 1000\n",
    "test_data = train_images[number_of_im:number_of_im+number_of_test_data]\n",
    "\n",
    "# call predict function\n",
    "predicted_labels_test, list_oneVsall_unique_index=predict_oneVSall(train_images[number_of_im:number_of_im+number_of_test_data], \n",
    "                                       train_images[:number_of_im], oneVSall_labels, list_supp_ind, list_alpha, \n",
    "                                       list_b, list_kernel, code_words, barycenters)\n",
    "predicted_labels_test = predicted_labels_test.astype(float)\n",
    "# print(\"predicted labels: \", predicted_labels_test)\n",
    "\n",
    "# get actual labels\n",
    "train_labels_test=train_labels[number_of_im:number_of_im+number_of_test_data]\n",
    "train_labels_test = train_labels_test.astype(float)\n",
    "# print(\"actual labels: \", train_labels_test)\n",
    "\n",
    "print(\"number of correctly classified labels: \", sum(predicted_labels_test.astype(int)==train_labels_test.astype(int)), \n",
    "      \" out of \", number_of_test_data);\n",
    "print(\"number of correctly classified labels by one vs all: \", sum((predicted_labels_test.astype(int))[list_oneVsall_unique_index]==train_labels_test.astype(int)[list_oneVsall_unique_index]), \n",
    "      \" out of \", number_of_test_data);\n",
    "# check if there is are a couple of classifiers who make more mistakes than others\n",
    "# then we could possibly change some of the parameters"
   ]
  },
  {
   "cell_type": "code",
   "execution_count": null,
   "metadata": {
    "collapsed": true
   },
   "outputs": [],
   "source": []
  }
 ],
 "metadata": {
  "kernelspec": {
   "display_name": "Python 3",
   "language": "python",
   "name": "python3"
  },
  "language_info": {
   "codemirror_mode": {
    "name": "ipython",
    "version": 3
   },
   "file_extension": ".py",
   "mimetype": "text/x-python",
   "name": "python",
   "nbconvert_exporter": "python",
   "pygments_lexer": "ipython3",
   "version": "3.6.0"
  }
 },
 "nbformat": 4,
 "nbformat_minor": 2
}
