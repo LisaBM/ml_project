{
 "cells": [
  {
   "cell_type": "markdown",
   "metadata": {},
   "source": [
    "#### Was man hier noch tun sollte: \n",
    "1.) Vielleicht etwas tun, um zu verhindern, dass Paare direkt hintereinander zweimal violating sind. Das sollte theoretisch zumindest nicht so sein.\n",
    "  "
   ]
  },
  {
   "cell_type": "code",
   "execution_count": 239,
   "metadata": {
    "collapsed": true
   },
   "outputs": [],
   "source": [
    "import numpy as np"
   ]
  },
  {
   "cell_type": "code",
   "execution_count": 240,
   "metadata": {
    "collapsed": false
   },
   "outputs": [],
   "source": [
    "#random test problem\n",
    "\n",
    "d = 20\n",
    "l = 100\n",
    "data1x = np.random.randint(255, size=(d-1,l))\n",
    "data1y = np.random.randint(255, size=(1,l))\n",
    "data2x = np.random.randint(255, size =(d-1,l))\n",
    "data2y = -np.random.randint(-20,255, size=(1,l))\n",
    "data1 = np.concatenate((data1x,data1y))\n",
    "data2 = np.concatenate((data2x,data2y))\n",
    "data = np.concatenate((data1,data2), axis = 1)\n",
    "data = np.transpose(data)\n",
    "\n",
    "label1 = np.ones(l).astype(int)\n",
    "label2 = - label1;\n",
    "label = np.concatenate((label1,label2))\n",
    "\n",
    "l = 2*l\n",
    "\n"
   ]
  },
  {
   "cell_type": "markdown",
   "metadata": {},
   "source": [
    "### Maximal violating pair SMO"
   ]
  },
  {
   "cell_type": "code",
   "execution_count": 247,
   "metadata": {
    "collapsed": false
   },
   "outputs": [],
   "source": [
    "def smo_new(data, label, C, kernel, tol, violationcheckyesorno,nrowsK,kernel_identifier = None):\n",
    "\n",
    "    def I_up_low_membership(alpha_i, label_i):\n",
    "        # very important!\n",
    "        null = 1e-16\n",
    "        v = np.array([False, False])\n",
    "        if (alpha_i < C - null and label_i == 1) or (alpha_i > null and label_i == -1):\n",
    "            v[0] = True\n",
    "        if (alpha_i < C - null and label_i == -1) or (alpha_i > null and label_i == 1):\n",
    "            v[1] = True\n",
    "        return v\n",
    "\n",
    "    # data: images are rows of array, so the number of columns is 28**2 and the number of rows is the number of training data\n",
    "    l = label.shape[0]\n",
    "    alpha = np.zeros(l)\n",
    "\n",
    "    I = np.zeros((2, l), dtype=bool)\n",
    "\n",
    "    # initialize I, now logical vector! I[0] = I_up, I[1] = I_low\n",
    "    I[0] = label == 1\n",
    "    I[1] = label == -1\n",
    "\n",
    "    b_up = -1\n",
    "    b_low = 1\n",
    "\n",
    "    v = np.array(range(l))\n",
    "    i_up_array = v[I[0]]\n",
    "    i_low_array = v[I[1]]\n",
    "\n",
    "    i_0 = i_up_array[0]\n",
    "    j_0 = i_low_array[0]\n",
    "\n",
    "    fcache = -label.astype(float)\n",
    "\n",
    "    iter = 0\n",
    "    latest = -1\n",
    "    # cycle = 0\n",
    "\n",
    "    # kostenintensiv bei SMO mit maximal violating pairs ist das ständige Neuberechnen der kompletten Kernel-Matrix;\n",
    "    # initialisiere daher lxl - Nullmatrix und speichere alle bisher berechneten kernel-Berechnung ab\n",
    "    # die Idee ist, dass das funktionieren sollte, da die meisten alpha_i auf Null bleiben; also sollte auch unsere Gram-Matrix\n",
    "    # sparse bleiben\n",
    "\n",
    "    \n",
    "    K = np.empty([nrowsK, l])\n",
    "\n",
    "    #rows_calc = []\n",
    "    rows_calc = list(np.full(nrowsK,np.nan))\n",
    "    \n",
    "\n",
    "    while (b_up < b_low - tol):\n",
    "\n",
    "\n",
    "        alph1 = alpha[i_0]\n",
    "        alph2 = alpha[j_0]\n",
    "\n",
    "        y1 = label[i_0]\n",
    "        y2 = label[j_0]\n",
    "\n",
    "        F1 = fcache[i_0]\n",
    "        F2 = fcache[j_0]\n",
    "\n",
    "        s = y1 * y2\n",
    "\n",
    "        if s == -1:\n",
    "            L = max(0, alph2 - alph1)\n",
    "            H = min(C, C + alph2 - alph1)\n",
    "        else:\n",
    "            L = max(0, alph2 + alph1 - C)\n",
    "            H = min(C, alph2 + alph1)\n",
    "\n",
    "\n",
    "        \n",
    "\n",
    "        if i_0 not in rows_calc:\n",
    "            #latest + 1 == oldest\n",
    "            latest = (latest+1)%nrowsK\n",
    "            posi0 = latest\n",
    "            rows_calc[posi0] = i_0\n",
    "            \n",
    "            if kernel_identifier == 'standard scalar product':\n",
    "                K[posi0] = np.dot(data, data[i_0])\n",
    "                Ki0 = K[posi0]\n",
    "            else:\n",
    "                K[posi0] = [kernel(data[i], data[i_0]) for i in range(l)]\n",
    "                Ki0 = K[posi0]\n",
    "        else:\n",
    "            posi0 = rows_calc.index(i_0)\n",
    "            Ki0 = np.empty(l)\n",
    "            np.copyto(Ki0, K[posi0]) \n",
    "            #alternative\n",
    "            #Ki0 = K[posi0]\n",
    "            #if posi0 == (latest +1)%nrowsK:\n",
    "                #latest = (latest +1)%nrowsK\n",
    "            \n",
    "            \n",
    "\n",
    "        if j_0 not in rows_calc:\n",
    "            latest = (latest+1)%nrowsK\n",
    "            posj0 = latest\n",
    "            rows_calc[posj0] = j_0\n",
    "            \n",
    "            if kernel_identifier == 'standard scalar product':\n",
    "                K[posj0] = np.dot(data, data[j_0])\n",
    "                Kj0 = K[posj0]\n",
    "            else:\n",
    "                K[posj0] = [kernel(data[i], data[j_0]) for i in range(l)]\n",
    "                Kj0 = K[posj0]\n",
    "        else:\n",
    "            posj0 = rows_calc.index(j_0)\n",
    "            Kj0 = np.empty(l)\n",
    "            np.copyto(Kj0, K[posj0])\n",
    "            #alternative\n",
    "            #Kj0 = K[posj0]\n",
    "            #if posi0 == (latest +1)%nrowsK:\n",
    "                #latest = (latest +1)%nrowsK\n",
    "        \n",
    "        \n",
    "        \n",
    "\n",
    "        k11 = Ki0[i_0]\n",
    "        k12 = Ki0[j_0]\n",
    "        k22 = Kj0[j_0]\n",
    "        \n",
    "\n",
    "        eta = 2 * k12 - k11 - k22\n",
    "        \n",
    "        \n",
    "        if eta < 0:\n",
    "            a2 = alph2 - y2 * (F1 - F2) / eta\n",
    "            if a2 < L:\n",
    "                a2 = L\n",
    "            elif a2 > H:\n",
    "                a2 = H\n",
    "        else:\n",
    "            # print('Error: eta == 0')\n",
    "            raise ValueError('Error: eta == 0')\n",
    "\n",
    "        a1 = alph1 + s * (alph2 - a2)\n",
    "\n",
    "        # zum Vergleich, siehe unten, wo untersucht wird, wie oft es vorkommt, dass\n",
    "        # ein Paar nach einem Schritt sofort wieder violating ist\n",
    "        # alpha_old = np.empty(alpha.shape)\n",
    "        # np.copyto(alpha_old, alpha)\n",
    "\n",
    "        fac_i_0 = y1 * (a1 - alph1)\n",
    "        fac_j_0 = y2 * (a2 - alph2)\n",
    "        fcache = fcache + fac_i_0 * Ki0 + fac_j_0 * Kj0\n",
    "\n",
    "        # update alpha, I_up, I_low\n",
    "        alpha[i_0] = a1\n",
    "        alpha[j_0] = a2\n",
    "\n",
    "        I[:, i_0] = I_up_low_membership(a1, y1)\n",
    "        I[:, j_0] = I_up_low_membership(a2, y2)\n",
    "\n",
    "        # 4.) berechne neues i_0 und j_0  für maximally violating pair und dazu b_up, b_low\n",
    "\n",
    "\n",
    "        # now choose i_0,j_0 for next iteration and compute b_up, b_low for these i_0,j_0\n",
    "\n",
    "\n",
    "        I_up = I[0]\n",
    "        I_low = I[1]\n",
    "\n",
    "        i_0_old = i_0\n",
    "        j_0_old = j_0\n",
    "        b_up = float('inf')\n",
    "        b_low = -b_up\n",
    "\n",
    "        for i in range(l):\n",
    "            if I_up[i] == 1 and fcache[i] < b_up:\n",
    "                b_up = fcache[i]\n",
    "                i_0 = i\n",
    "            if I_low[i] == 1 and fcache[i] > b_low:\n",
    "                b_low = fcache[i]\n",
    "                j_0 = i\n",
    "\n",
    "\n",
    "                # if i_0_old == i_0 and j_0_old == j_0:\n",
    "                # cycle += 1\n",
    "                # print('Achtung, Paar zweimal hintereinander violating:')\n",
    "                # print('i_0 =',i_0,'j_0 =',j_0)\n",
    "                # print('alpha[i_0] =',alpha[i_0], 'alpha[j_0] =',alpha[j_0])\n",
    "                # print('alpha[i_0]_old =',alph1, 'alpha[j_0]_old =',alph2)\n",
    "                # print('fcache[i_0] =',fcache[i_0], 'fcache[j_0] =', fcache[j_0])\n",
    "                # print('fcache[i_0]_old =',F(i_0,alpha_old), 'fcache[j_0]_old =', F(j_0,alpha_old))\n",
    "                # print('b_up - b_low =', b_up - b_low)\n",
    "\n",
    "        iter += 1\n",
    "\n",
    "    if violationcheckyesorno == 'yes':\n",
    "\n",
    "        b_up = float('inf')\n",
    "        b_low = -b_up\n",
    "        for i in range(l):\n",
    "            if I[0][i] == 1 and fcache[i] < b_up:\n",
    "                b_up = fcache[i]\n",
    "            if I[1][i] == 1 and fcache[i] > b_low:\n",
    "                b_low = fcache[i]\n",
    "\n",
    "        if b_low - tol <= b_up:\n",
    "            violationstring = 'no tol-violation'\n",
    "        else:\n",
    "            violationstring = 'tol-violations!!'\n",
    "    else:\n",
    "        violationstring = 'no violation requested'\n",
    "\n",
    "        # print('Anzahl wiederholt dasselbe Paar =', cycle)\n",
    "    # print('iter =', iter)\n",
    "\n",
    "    return {'solution': alpha, 'violationcheck': violationstring}\n"
   ]
  },
  {
   "cell_type": "code",
   "execution_count": 248,
   "metadata": {
    "collapsed": true
   },
   "outputs": [],
   "source": [
    "def kernel(v1,v2):\n",
    "    \"\"\"standard scalar product\"\"\"\n",
    "    return np.dot(v1,v2)\n",
    "\n",
    "kernel_identifier = kernel.__doc__"
   ]
  },
  {
   "cell_type": "code",
   "execution_count": 249,
   "metadata": {
    "collapsed": false
   },
   "outputs": [
    {
     "name": "stdout",
     "output_type": "stream",
     "text": [
      "no tol-violation\n",
      "Wall time: 1.99 s\n"
     ]
    }
   ],
   "source": [
    "%%time\n",
    "result = smo_new(data,label,1,kernel,1e-3,'yes',2)\n",
    "print(result['violationcheck'])"
   ]
  },
  {
   "cell_type": "code",
   "execution_count": 250,
   "metadata": {
    "collapsed": false
   },
   "outputs": [
    {
     "name": "stdout",
     "output_type": "stream",
     "text": [
      "no tol-violation\n",
      "Wall time: 1.61 s\n"
     ]
    }
   ],
   "source": [
    "%%time\n",
    "result = smo_new(data,label,1,kernel,1e-3,'yes',10)\n",
    "print(result['violationcheck'])"
   ]
  },
  {
   "cell_type": "code",
   "execution_count": 251,
   "metadata": {
    "collapsed": false
   },
   "outputs": [
    {
     "name": "stdout",
     "output_type": "stream",
     "text": [
      "no tol-violation\n",
      "Wall time: 1.03 s\n"
     ]
    }
   ],
   "source": [
    "%%time\n",
    "result = smo_new(data,label,1,kernel,1e-3,'yes',20)\n",
    "print(result['violationcheck'])"
   ]
  },
  {
   "cell_type": "code",
   "execution_count": 252,
   "metadata": {
    "collapsed": false
   },
   "outputs": [
    {
     "name": "stdout",
     "output_type": "stream",
     "text": [
      "no tol-violation\n",
      "Wall time: 964 ms\n"
     ]
    }
   ],
   "source": [
    "%%time\n",
    "result = smo_new(data,label,1,kernel,1e-3,'yes',200)\n",
    "print(result['violationcheck'])"
   ]
  },
  {
   "cell_type": "code",
   "execution_count": null,
   "metadata": {
    "collapsed": true
   },
   "outputs": [],
   "source": []
  },
  {
   "cell_type": "code",
   "execution_count": null,
   "metadata": {
    "collapsed": true
   },
   "outputs": [],
   "source": []
  }
 ],
 "metadata": {
  "kernelspec": {
   "display_name": "Python 3",
   "language": "python",
   "name": "python3"
  },
  "language_info": {
   "codemirror_mode": {
    "name": "ipython",
    "version": 3
   },
   "file_extension": ".py",
   "mimetype": "text/x-python",
   "name": "python",
   "nbconvert_exporter": "python",
   "pygments_lexer": "ipython3",
   "version": "3.6.0"
  }
 },
 "nbformat": 4,
 "nbformat_minor": 2
}
