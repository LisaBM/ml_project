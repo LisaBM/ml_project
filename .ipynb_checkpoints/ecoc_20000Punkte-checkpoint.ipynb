{
 "cells": [
  {
   "cell_type": "code",
   "execution_count": 1,
   "metadata": {
    "collapsed": false
   },
   "outputs": [],
   "source": [
    "import numpy as np\n",
    "import scipy\n",
    "import pickle # to save data\n",
    "import pandas as pd # data processing, CSV file I/O (e.g. pd.read_csv)\n",
    "from sklearn.metrics.pairwise import pairwise_kernels\n",
    "from scipy.optimize import minimize\n",
    "from scipy.spatial.distance import hamming\n",
    "#from mySVM_class import *\n",
    "from mySVM_class_new import *\n",
    "import matplotlib.pyplot as plt\n",
    "%matplotlib inline"
   ]
  },
  {
   "cell_type": "code",
   "execution_count": 2,
   "metadata": {
    "collapsed": false
   },
   "outputs": [],
   "source": [
    "train = pd.read_csv('Data/train.csv')"
   ]
  },
  {
   "cell_type": "code",
   "execution_count": null,
   "metadata": {
    "collapsed": false
   },
   "outputs": [
    {
     "name": "stdout",
     "output_type": "stream",
     "text": [
      "Wall time: 2.61 s\n"
     ]
    }
   ],
   "source": [
    "%%time\n",
    "train = pd.read_csv('Data/train.csv', nrows = 42000)\n",
    "images = [\"%s%s\" %(\"pixel\",pixel_no) for pixel_no in range(0,28**2)]\n",
    "train_images = np.array(train[images], dtype=np.float)/100\n",
    "train_labels = np.array(train['label'])"
   ]
  },
  {
   "cell_type": "markdown",
   "metadata": {},
   "source": [
    "Test the ecoc algorithm:"
   ]
  },
  {
   "cell_type": "code",
   "execution_count": null,
   "metadata": {
    "collapsed": false,
    "scrolled": true
   },
   "outputs": [],
   "source": [
    "%%time\n",
    "no_train = 20000\n",
    "train = train_images[:no_train]\n",
    "train_l = train_labels[:no_train]\n",
    "test = train_images[no_train:no_train+400]\n",
    "test_l = train_labels[no_train:no_train+400]\n",
    "lambda_opt = 1./(400*np.array([18,18,18,18,17,18,16,16,16,18,18,20,20,18,18])) #optimal lambdas found via cross validation\n",
    "C_list = 1./(2*len(train)*lambda_opt)  #compute optimal C from optimal lambda\n",
    "sigma_list = [0.005, 0.005, 0.005, 0.005, 0.005, 0.005, 0.005, 0.005, 0.005, 0.0025, 0.005, 0.005, 0.005, 0.0025, 0.005] #optimal sigmas found via cross validation\n",
    "ecoc_labels, list_supp_ind, list_alpha, list_b, list_kernel, code_words, barycenters = ecoc(\n",
    "    train, train_l,kernel=gaussian_kernel, penalty_list=C_list, \n",
    "     list_sigma=sigma_list)"
   ]
  },
  {
   "cell_type": "code",
   "execution_count": null,
   "metadata": {
    "collapsed": false,
    "scrolled": false
   },
   "outputs": [],
   "source": [
    "final_labels = predict_ecoc(test, train, ecoc_labels, list_supp_ind, \n",
    "                 list_alpha, list_b, list_kernel, code_words, barycenters)\n",
    "final_labels = final_labels.astype(np.int64)\n",
    "score = sum([test_l[i] == final_labels[i] for i in range(len(final_labels))])/float(len(test_l))\n",
    "score\n"
   ]
  },
  {
   "cell_type": "code",
   "execution_count": null,
   "metadata": {
    "collapsed": false
   },
   "outputs": [],
   "source": [
    "ecoc_labels, list_supp_ind, list_alpha, list_b, list_kernel, code_words, barycenters = pickle.load(open (\"trained_ecoc_\"+str(10000)+\".dat\", \"rb\"))"
   ]
  },
  {
   "cell_type": "markdown",
   "metadata": {
    "collapsed": true
   },
   "source": [
    "Observations: More training points result in less points that cannot be uniquely classified. More training points improve the performance (400 training points $\\rightarrow$ 83%, 800 training points $\\rightarrow$ 89%, 5000 training points $\\rightarrow$ 95%)"
   ]
  },
  {
   "cell_type": "markdown",
   "metadata": {},
   "source": [
    "### Train ECOC classifier"
   ]
  },
  {
   "cell_type": "code",
   "execution_count": 7,
   "metadata": {
    "collapsed": false
   },
   "outputs": [
    {
     "data": {
      "text/plain": [
       "500"
      ]
     },
     "execution_count": 7,
     "metadata": {},
     "output_type": "execute_result"
    }
   ],
   "source": [
    "number_of_im = 500;\n",
    "train_images_test = train_images[:number_of_im]\n",
    "train_labels_test = train_labels[:number_of_im]\n",
    "np.shape(train_images_test)[0]"
   ]
  },
  {
   "cell_type": "code",
   "execution_count": 8,
   "metadata": {
    "collapsed": false
   },
   "outputs": [
    {
     "name": "stdout",
     "output_type": "stream",
     "text": [
      "Wall time: 0 ns\n"
     ]
    }
   ],
   "source": [
    "%%time\n",
    "# call classifier with pickle.load\n",
    "# ecoc_labels, list_supp_ind, list_alpha, list_b, list_kernel, list_sigma, code_words, barycenters=ecoc(train_images_test, train_labels_test)\n",
    "# ecoc_labels, list_supp_ind, list_alpha, list_b, list_kernel, list_sigma, code_words, barycenters=pickle.load(open (\"trained_ecoc_\"+str(number_of_im)+\".dat\", \"rb\"))\n",
    "\n"
   ]
  },
  {
   "cell_type": "markdown",
   "metadata": {},
   "source": [
    "### Checking the Output of ECOC predict"
   ]
  },
  {
   "cell_type": "code",
   "execution_count": 9,
   "metadata": {
    "collapsed": false
   },
   "outputs": [
    {
     "name": "stdout",
     "output_type": "stream",
     "text": [
      "Attention, data point could not be uniquely classified, index: 3, possible classification: [0, 3, 9]\n",
      "decided to take label:  3.0\n",
      "Attention, data point could not be uniquely classified, index: 6, possible classification: [2, 8]\n",
      "decided to take label:  8.0\n",
      "Attention, data point could not be uniquely classified, index: 11, possible classification: [2, 8]\n",
      "decided to take label:  8.0\n",
      "Attention, data point could not be uniquely classified, index: 19, possible classification: [3, 6]\n",
      "decided to take label:  3.0\n",
      "Attention, data point could not be uniquely classified, index: 26, possible classification: [0, 3, 5, 9]\n",
      "decided to take label:  5.0\n",
      "Attention, data point could not be uniquely classified, index: 46, possible classification: [0, 9]\n",
      "decided to take label:  9.0\n",
      "Attention, data point could not be uniquely classified, index: 56, possible classification: [0, 5, 6, 9]\n",
      "decided to take label:  6.0\n",
      "Attention, data point could not be uniquely classified, index: 57, possible classification: [3, 5]\n",
      "decided to take label:  5.0\n",
      "Attention, data point could not be uniquely classified, index: 87, possible classification: [7, 8]\n",
      "decided to take label:  7.0\n",
      "Attention, data point could not be uniquely classified, index: 126, possible classification: [1, 4]\n",
      "decided to take label:  1.0\n",
      "Attention, data point could not be uniquely classified, index: 141, possible classification: [0, 9]\n",
      "decided to take label:  9.0\n",
      "Attention, data point could not be uniquely classified, index: 165, possible classification: [3, 5, 9]\n",
      "decided to take label:  5.0\n",
      "Attention, data point could not be uniquely classified, index: 174, possible classification: [2, 8]\n",
      "decided to take label:  8.0\n",
      "Attention, data point could not be uniquely classified, index: 178, possible classification: [2, 7]\n",
      "decided to take label:  2.0\n",
      "Attention, data point could not be uniquely classified, index: 181, possible classification: [2, 8]\n",
      "decided to take label:  8.0\n",
      "Attention, data point could not be uniquely classified, index: 185, possible classification: [5, 9]\n",
      "decided to take label:  5.0\n",
      "Attention, data point could not be uniquely classified, index: 215, possible classification: [2, 8]\n",
      "decided to take label:  8.0\n",
      "Attention, data point could not be uniquely classified, index: 237, possible classification: [3, 5, 9]\n",
      "decided to take label:  5.0\n",
      "Attention, data point could not be uniquely classified, index: 243, possible classification: [0, 3]\n",
      "decided to take label:  0.0\n",
      "Attention, data point could not be uniquely classified, index: 276, possible classification: [6, 9]\n",
      "decided to take label:  6.0\n",
      "Attention, data point could not be uniquely classified, index: 278, possible classification: [0, 9]\n",
      "decided to take label:  9.0\n",
      "Attention, data point could not be uniquely classified, index: 279, possible classification: [2, 4]\n",
      "decided to take label:  4.0\n",
      "Attention, data point could not be uniquely classified, index: 280, possible classification: [3, 5]\n",
      "decided to take label:  3.0\n",
      "number of correctly classified labels:  209  out of  300\n"
     ]
    }
   ],
   "source": [
    "# \"unknown\" data to be classified\n",
    "number_of_test_data = 300\n",
    "test_data = train_images[number_of_im:number_of_im+number_of_test_data]\n",
    "\n",
    "# call predict function\n",
    "predicted_labels_test=predict_ecoc(train_images[number_of_im:number_of_im+number_of_test_data], \n",
    "                                   train_images[:number_of_im], ecoc_labels, list_supp_ind, list_alpha, \n",
    "                                   list_b, list_kernel, code_words, barycenters)\n",
    "predicted_labels_test = predicted_labels_test.astype(float)\n",
    "# print(\"predicted labels: \", predicted_labels_test)\n",
    "\n",
    "# get actual labels\n",
    "train_labels_test=train_labels[number_of_im:number_of_im+number_of_test_data]\n",
    "train_labels_test = train_labels_test.astype(float)\n",
    "# print(\"actual labels: \", train_labels_test)\n",
    "\n",
    "print(\"number of correctly classified labels: \", sum(predicted_labels_test.astype(int)==train_labels_test.astype(int)), \n",
    "      \" out of \", number_of_test_data);\n",
    "\n",
    "# check if there is are a couple of classifiers who make more mistakes than others\n",
    "# then we could possibly change some of the parameters\n"
   ]
  },
  {
   "cell_type": "code",
   "execution_count": null,
   "metadata": {
    "collapsed": false
   },
   "outputs": [],
   "source": []
  },
  {
   "cell_type": "code",
   "execution_count": null,
   "metadata": {
    "collapsed": true
   },
   "outputs": [],
   "source": []
  }
 ],
 "metadata": {
  "anaconda-cloud": {},
  "kernelspec": {
   "display_name": "Python 3",
   "language": "python",
   "name": "python3"
  },
  "language_info": {
   "codemirror_mode": {
    "name": "ipython",
    "version": 3
   },
   "file_extension": ".py",
   "mimetype": "text/x-python",
   "name": "python",
   "nbconvert_exporter": "python",
   "pygments_lexer": "ipython3",
   "version": "3.6.0"
  }
 },
 "nbformat": 4,
 "nbformat_minor": 2
}
