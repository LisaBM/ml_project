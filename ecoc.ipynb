{
 "cells": [
  {
   "cell_type": "code",
   "execution_count": 19,
   "metadata": {
    "collapsed": false
   },
   "outputs": [],
   "source": [
    "import numpy as np\n",
    "import scipy\n",
    "import pickle # to save data\n",
    "import pandas as pd # data processing, CSV file I/O (e.g. pd.read_csv)\n",
    "from sklearn.metrics.pairwise import pairwise_kernels\n",
    "from scipy.optimize import minimize\n",
    "from scipy.spatial.distance import hamming\n",
    "from mySVM_class import *\n",
    "import matplotlib.pyplot as plt\n",
    "%matplotlib inline"
   ]
  },
  {
   "cell_type": "code",
   "execution_count": 20,
   "metadata": {
    "collapsed": false
   },
   "outputs": [
    {
     "name": "stdout",
     "output_type": "stream",
     "text": [
      "Wall time: 964 ms\n"
     ]
    }
   ],
   "source": [
    "%%time\n",
    "train = pd.read_csv('Data/train.csv', nrows = 10000)\n",
    "images = [\"%s%s\" %(\"pixel\",pixel_no) for pixel_no in range(0,28**2)]\n",
    "train_images = np.array(train[images], dtype=np.float)/100\n",
    "train_labels = np.array(train['label'])"
   ]
  },
  {
   "cell_type": "markdown",
   "metadata": {},
   "source": [
    "Test the ecoc algorithm:"
   ]
  },
  {
   "cell_type": "code",
   "execution_count": 30,
   "metadata": {
    "collapsed": false,
    "scrolled": true
   },
   "outputs": [
    {
     "name": "stdout",
     "output_type": "stream",
     "text": [
      "Wall time: 0 ns\n"
     ]
    }
   ],
   "source": [
    "%%time\n",
    "no_train = 800\n",
    "train = train_images[:no_train]\n",
    "train_l = train_labels[:no_train]\n",
    "test = train_images[no_train:no_train+400]\n",
    "test_l = train_labels[no_train:no_train+400]\n",
    "lambda_opt = 1./(400*np.array([18,18,18,18,17,18,16,16,16,18,18,20,20,18,18])) #optimal lambdas found via cross validation\n",
    "C_list = 1./(2*len(train)*lambda_opt)  #compute optimal C from optimal lambda\n",
    "sigma_list = [0.005, 0.005, 0.005, 0.005, 0.005, 0.005, 0.005, 0.005, 0.005, 0.0025, 0.005, 0.005, 0.005, 0.0025, 0.005] #optimal sigmas found via cross validation\n",
    "ecoc_labels, list_supp_ind, list_alpha, list_b, list_kernel, code_words, barycenters = ecoc(\n",
    "    train, train_l, penalty_list=C_list, \n",
    "    kernel=gaussian_kernel, list_sigma=sigma_list)"
   ]
  },
  {
   "cell_type": "code",
   "execution_count": 11,
   "metadata": {
    "collapsed": false,
    "scrolled": false
   },
   "outputs": [
    {
     "name": "stdout",
     "output_type": "stream",
     "text": [
      "Attention, data point could not be uniquely classified, index: 47, possible classification: [2, 8]\n",
      "Attention, data point could not be uniquely classified, index: 219, possible classification: [2, 7]\n",
      "Attention, data point could not be uniquely classified, index: 307, possible classification: [5, 9]\n",
      "Attention, data point could not be uniquely classified, index: 348, possible classification: [4, 8]\n"
     ]
    },
    {
     "data": {
      "text/plain": [
       "0.89000000000000001"
      ]
     },
     "execution_count": 11,
     "metadata": {},
     "output_type": "execute_result"
    }
   ],
   "source": [
    "final_labels = predict_ecoc(test, train, ecoc_labels, list_supp_ind, \n",
    "                 list_alpha, list_b, list_kernel, code_words, barycenters)\n",
    "final_labels = final_labels.astype(np.int64)\n",
    "score = sum([test_l[i] == final_labels[i] for i in range(len(final_labels))])/float(len(test_l))\n",
    "score\n"
   ]
  },
  {
   "cell_type": "markdown",
   "metadata": {},
   "source": [
    "Observations: More training points result in less points that cannot be uniquely classified. More training points improve the performance (400 training points $\\rightarrow$ 83%, 800 training points $\\rightarrow$ 89%,)"
   ]
  },
  {
   "cell_type": "markdown",
   "metadata": {},
   "source": [
    "### Train ECOC classifier"
   ]
  },
  {
   "cell_type": "code",
   "execution_count": 61,
   "metadata": {
    "collapsed": false
   },
   "outputs": [
    {
     "data": {
      "text/plain": [
       "200"
      ]
     },
     "execution_count": 61,
     "metadata": {},
     "output_type": "execute_result"
    }
   ],
   "source": [
    "number_of_im = 200;\n",
    "train_images_test = train_images[:number_of_im]\n",
    "train_labels_test = train_labels[:number_of_im]\n",
    "np.shape(train_images_test)[0]"
   ]
  },
  {
   "cell_type": "code",
   "execution_count": 51,
   "metadata": {
    "collapsed": false
   },
   "outputs": [
    {
     "ename": "NameError",
     "evalue": "name 'train_images_test' is not defined",
     "output_type": "error",
     "traceback": [
      "\u001b[0;31m---------------------------------------------------------------------------\u001b[0m",
      "\u001b[0;31mNameError\u001b[0m                                 Traceback (most recent call last)",
      "\u001b[0;32m<ipython-input-51-3ddeabd76e2a>\u001b[0m in \u001b[0;36m<module>\u001b[0;34m()\u001b[0m\n\u001b[1;32m      1\u001b[0m \u001b[1;31m# call classifier with pickle.load\u001b[0m\u001b[1;33m\u001b[0m\u001b[1;33m\u001b[0m\u001b[0m\n\u001b[0;32m----> 2\u001b[0;31m \u001b[0mecoc_labels\u001b[0m\u001b[1;33m,\u001b[0m \u001b[0mlist_supp_ind\u001b[0m\u001b[1;33m,\u001b[0m \u001b[0mlist_alpha\u001b[0m\u001b[1;33m,\u001b[0m \u001b[0mlist_b\u001b[0m\u001b[1;33m,\u001b[0m \u001b[0mlist_kernel\u001b[0m\u001b[1;33m,\u001b[0m \u001b[0mlist_sigma\u001b[0m\u001b[1;33m,\u001b[0m \u001b[0mcode_words\u001b[0m\u001b[1;33m,\u001b[0m \u001b[0mbarycenters\u001b[0m\u001b[1;33m=\u001b[0m\u001b[0mecoc\u001b[0m\u001b[1;33m(\u001b[0m\u001b[0mtrain_images_test\u001b[0m\u001b[1;33m,\u001b[0m \u001b[0mtrain_labels_test\u001b[0m\u001b[1;33m)\u001b[0m\u001b[1;33m\u001b[0m\u001b[0m\n\u001b[0m\u001b[1;32m      3\u001b[0m \u001b[0mecoc_labels\u001b[0m\u001b[1;33m,\u001b[0m \u001b[0mlist_supp_ind\u001b[0m\u001b[1;33m,\u001b[0m \u001b[0mlist_alpha\u001b[0m\u001b[1;33m,\u001b[0m \u001b[0mlist_b\u001b[0m\u001b[1;33m,\u001b[0m \u001b[0mlist_kernel\u001b[0m\u001b[1;33m,\u001b[0m \u001b[0mlist_sigma\u001b[0m\u001b[1;33m,\u001b[0m \u001b[0mcode_words\u001b[0m\u001b[1;33m,\u001b[0m \u001b[0mbarycenters\u001b[0m\u001b[1;33m=\u001b[0m\u001b[0mpickle\u001b[0m\u001b[1;33m.\u001b[0m\u001b[0mload\u001b[0m\u001b[1;33m(\u001b[0m\u001b[0mopen\u001b[0m \u001b[1;33m(\u001b[0m\u001b[1;34m\"trained_ecoc_\"\u001b[0m\u001b[1;33m+\u001b[0m\u001b[0mstr\u001b[0m\u001b[1;33m(\u001b[0m\u001b[0mnumber_of_im\u001b[0m\u001b[1;33m)\u001b[0m\u001b[1;33m+\u001b[0m\u001b[1;34m\".dat\"\u001b[0m\u001b[1;33m,\u001b[0m \u001b[1;34m\"rb\"\u001b[0m\u001b[1;33m)\u001b[0m\u001b[1;33m)\u001b[0m\u001b[1;33m\u001b[0m\u001b[0m\n\u001b[1;32m      4\u001b[0m \u001b[1;33m\u001b[0m\u001b[0m\n",
      "\u001b[0;31mNameError\u001b[0m: name 'train_images_test' is not defined"
     ]
    }
   ],
   "source": [
    "# call classifier with pickle.load\n",
    "ecoc_labels, list_supp_ind, list_alpha, list_b, list_kernel, list_sigma, code_words, barycenters=ecoc(train_images_test, train_labels_test)\n",
    "ecoc_labels, list_supp_ind, list_alpha, list_b, list_kernel, list_sigma, code_words, barycenters=pickle.load(open (\"trained_ecoc_\"+str(number_of_im)+\".dat\", \"rb\"))\n",
    "\n"
   ]
  },
  {
   "cell_type": "markdown",
   "metadata": {},
   "source": [
    "### Checking the Output of ECOC predict"
   ]
  },
  {
   "cell_type": "code",
   "execution_count": 63,
   "metadata": {
    "collapsed": false
   },
   "outputs": [
    {
     "name": "stdout",
     "output_type": "stream",
     "text": [
      "300\n",
      "Attention, data point could not be uniquely classified, index 45 possible classification [2, 8]\n",
      "Attention, data point could not be uniquely classified, index 53 possible classification [0, 3, 6]\n",
      "Attention, data point could not be uniquely classified, index 82 possible classification [1, 2]\n",
      "Attention, data point could not be uniquely classified, index 93 possible classification [2, 7]\n",
      "Attention, data point could not be uniquely classified, index 113 possible classification [1, 7]\n",
      "Attention, data point could not be uniquely classified, index 120 possible classification [3, 9]\n",
      "Attention, data point could not be uniquely classified, index 147 possible classification [0, 5]\n",
      "Attention, data point could not be uniquely classified, index 153 possible classification [0, 3, 5, 6]\n",
      "Attention, data point could not be uniquely classified, index 156 possible classification [5, 9]\n",
      "Attention, data point could not be uniquely classified, index 169 possible classification [0, 5, 6]\n",
      "Attention, data point could not be uniquely classified, index 174 possible classification [0, 6]\n",
      "Attention, data point could not be uniquely classified, index 182 possible classification [1, 2]\n",
      "Attention, data point could not be uniquely classified, index 197 possible classification [1, 2]\n",
      "Attention, data point could not be uniquely classified, index 216 possible classification [4, 8]\n",
      "Attention, data point could not be uniquely classified, index 263 possible classification [1, 2]\n",
      "Attention, data point could not be uniquely classified, index 282 possible classification [1, 4]\n",
      "Attention, data point could not be uniquely classified, index 290 possible classification [4, 7]\n",
      "Attention, data point could not be uniquely classified, index 293 possible classification [1, 7]\n",
      "number of correctly classified labels:  207  out of  300\n"
     ]
    }
   ],
   "source": [
    "# \"unknown\" data to be classified\n",
    "number_of_test_data = 300\n",
    "test_data = train_images[number_of_im:number_of_im+number_of_test_data]\n",
    "\n",
    "# call predict function\n",
    "predicted_labels_test=predict_ecoc(train_images[number_of_im:number_of_im+number_of_test_data], \n",
    "                                   train_images[:number_of_im], ecoc_labels, list_supp_ind, list_alpha, \n",
    "                                   list_b, list_kernel, code_words, barycenters)\n",
    "predicted_labels_test = predicted_labels_test.astype(float)\n",
    "# print(\"predicted labels: \", predicted_labels_test)\n",
    "\n",
    "# get actual labels\n",
    "train_labels_test=train_labels[number_of_im:number_of_im+number_of_test_data]\n",
    "train_labels_test = train_labels_test.astype(float)\n",
    "# print(\"actual labels: \", train_labels_test)\n",
    "\n",
    "print(\"number of correctly classified labels: \", sum(predicted_labels_test.astype(int)==train_labels_test.astype(int)), \n",
    "      \" out of \", number_of_test_data);\n",
    "\n",
    "# check if there is are a couple of classifiers who make more mistakes than others\n",
    "# then we could possibly change some of the parameters\n"
   ]
  },
  {
   "cell_type": "code",
   "execution_count": null,
   "metadata": {
    "collapsed": false
   },
   "outputs": [],
   "source": []
  },
  {
   "cell_type": "code",
   "execution_count": null,
   "metadata": {
    "collapsed": true
   },
   "outputs": [],
   "source": []
  }
 ],
 "metadata": {
  "anaconda-cloud": {},
  "kernelspec": {
   "display_name": "Python [default]",
   "language": "python",
   "name": "python3"
  },
  "language_info": {
   "codemirror_mode": {
    "name": "ipython",
    "version": 3
   },
   "file_extension": ".py",
   "mimetype": "text/x-python",
   "name": "python",
   "nbconvert_exporter": "python",
   "pygments_lexer": "ipython3",
   "version": "3.5.2"
  }
 },
 "nbformat": 4,
 "nbformat_minor": 2
}
