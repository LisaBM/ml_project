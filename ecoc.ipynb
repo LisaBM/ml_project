{
 "cells": [
  {
   "cell_type": "code",
   "execution_count": 1,
   "metadata": {
    "collapsed": true
   },
   "outputs": [],
   "source": [
    "import numpy as np\n",
    "import scipy\n",
    "\n",
    "# to save data\n",
    "import pickle\n",
    "\n",
    "import pandas as pd # data processing, CSV file I/O (e.g. pd.read_csv)\n",
    "from sklearn.metrics.pairwise import pairwise_kernels\n",
    "from scipy.optimize import minimize\n",
    "from scipy.spatial.distance import hamming\n",
    "\n",
    "import matplotlib.pyplot as plt\n",
    "%matplotlib inline"
   ]
  },
  {
   "cell_type": "code",
   "execution_count": 2,
   "metadata": {
    "collapsed": false
   },
   "outputs": [],
   "source": [
    "train = pd.read_csv('Data/train.csv')"
   ]
  },
  {
   "cell_type": "code",
   "execution_count": 3,
   "metadata": {
    "collapsed": false
   },
   "outputs": [
    {
     "data": {
      "text/plain": [
       "42000"
      ]
     },
     "execution_count": 3,
     "metadata": {},
     "output_type": "execute_result"
    }
   ],
   "source": [
    "images = [\"%s%s\" %(\"pixel\",pixel_no) for pixel_no in range(0,28**2)]\n",
    "train_images = np.array(train[images], dtype=np.float)/100\n",
    "#dimensionserhoehung, damit am ende b = 0\n",
    "train_images = np.concatenate((train_images, np.ones((len(train_images),1))), axis = 1)\n",
    "\n",
    "train_labels = np.array(train['label'])\n",
    "label0 = np.array([1 if i==0 else -1 for i in train_labels])\n",
    "len(train_images)"
   ]
  },
  {
   "cell_type": "code",
   "execution_count": null,
   "metadata": {
    "collapsed": false
   },
   "outputs": [],
   "source": [
    "\n"
   ]
  },
  {
   "cell_type": "code",
   "execution_count": 4,
   "metadata": {
    "collapsed": false
   },
   "outputs": [],
   "source": [
    "from mySVM_class import *\n"
   ]
  },
  {
   "cell_type": "code",
   "execution_count": 56,
   "metadata": {
    "collapsed": false
   },
   "outputs": [],
   "source": [
    "def ecoc(labeled_data, labels, kernel=scalar_product, penalty=1, list_sigma=[0.1]*15):\n",
    "\n",
    "    labels=labels.astype(int);\n",
    "    l=np.shape(labeled_data)[0];\n",
    "    n=np.shape(labeled_data)[1]\n",
    "    num_classifiers=15;\n",
    "    ecoc_labels=np.zeros((l,15));\n",
    "    \n",
    "    # compute barycenters of the points of each label\n",
    "    barycenters = np.zeros((10,n));\n",
    "        \n",
    "    for i in range(10):\n",
    "        ind = labels == i\n",
    "        barycenters[i] = np.mean(labeled_data[ind], axis=0)\n",
    "    \n",
    "    # define code_word matrix, the ith row corresponds to the number i\n",
    "    # each column corresponds to a classifier that will have to be trained\n",
    "    code_words=np.array([\n",
    "        [ 1,  1, -1, -1, -1, -1,  1, -1,  1, -1, -1,  1,  1, -1,  1],\n",
    "        [-1, -1,  1,  1,  1,  1, -1,  1, -1,  1,  1, -1, -1,  1, -1],\n",
    "        [ 1, -1, -1,  1, -1, -1, -1,  1,  1,  1,  1, -1,  1, -1,  1],\n",
    "        [-1, -1,  1,  1, -1,  1,  1,  1, -1, -1, -1, -1,  1, -1,  1],\n",
    "        [ 1,  1,  1, -1,  1, -1,  1,  1, -1, -1,  1, -1, -1, -1,  1],\n",
    "        [-1,  1, -1, -1,  1,  1, -1,  1,  1,  1, -1, -1, -1, -1,  1],\n",
    "        [ 1, -1,  1,  1,  1, -1, -1, -1, -1,  1, -1,  1, -1, -1,  1],\n",
    "        [-1, -1, -1,  1,  1,  1,  1, -1,  1, -1,  1,  1, -1, -1,  1],\n",
    "        [ 1,  1, -1,  1, -1,  1,  1, -1, -1,  1, -1, -1, -1,  1,  1],\n",
    "        [-1,  1,  1,  1, -1, -1, -1, -1,  1, -1,  1, -1, -1,  1,  1]]);\n",
    "    \n",
    "    # up until now training data has labels from 0 to 9\n",
    "    # now these are replaced by the 15 digit string given by code_words\n",
    "    for j in range(l):\n",
    "        ecoc_labels[j]=code_words[labels[j]];\n",
    "    \n",
    "    list_supp_ind = [];\n",
    "    list_alpha =[];\n",
    "    list_b =[];\n",
    "    list_kernel=[];\n",
    "    \n",
    "    # class an svm object for each classifier\n",
    "    # here would be the possibility to parallelize\n",
    "    for classifier in range(15):\n",
    "        svm=mySVM(kernel=kernel, penalty=penalty, sigma=list_sigma[classifier]);\n",
    "        svm.fit(labeled_data, ecoc_labels[:,classifier]);\n",
    "        list_supp_ind.append(svm.supp_indices);\n",
    "        list_alpha.append(svm.alpha);\n",
    "        list_b.append(svm.b);\n",
    "        list_kernel.append(svm.kernel);\n",
    "        \n",
    "    # pickle dump to save and call saved objects    \n",
    "    pickle.dump((ecoc_labels, list_supp_ind, list_alpha, list_b, list_kernel, code_words, barycenters), \n",
    "                open( \"trained_ecoc_\"+str(l)+\".dat\", \"wb\" ))\n",
    "    \n",
    "    # now I need to call a binary classifier for each column of ecoc_labels\n",
    "    # from decision functions we get seperating hyperplanes, margin, ... \n",
    "    # return those\n",
    "    \n",
    "    \n",
    "    return ecoc_labels, list_supp_ind, list_alpha, list_b, list_kernel, code_words, barycenters;"
   ]
  },
  {
   "cell_type": "code",
   "execution_count": null,
   "metadata": {
    "collapsed": false
   },
   "outputs": [],
   "source": []
  },
  {
   "cell_type": "code",
   "execution_count": 57,
   "metadata": {
    "collapsed": true
   },
   "outputs": [],
   "source": [
    "# suppose we have an unlabeled data point\n",
    "def predict_ecoc(unlabeled_data, labeled_data, ecoc_labels, list_supp_ind, \n",
    "                 list_alpha, list_b, list_kernel, code_words, barycenters):\n",
    "    # every row is one data point\n",
    "    # number of rows = # of data points\n",
    "    l=np.shape(unlabeled_data)[0];\n",
    "    print(l)\n",
    "    new_labels=np.zeros((l,15));\n",
    "    \n",
    "    temp_label_ind=[];\n",
    "    final_labels = np.array(['inf']*l);\n",
    "    \n",
    "    for classifier in range(15):\n",
    "        a_supp = list_alpha[classifier][list_supp_ind[classifier]];\n",
    "        ecoc_labels_supp = ecoc_labels[list_supp_ind[classifier],classifier]\n",
    "        a_times_labels=np.multiply(a_supp, ecoc_labels_supp)\n",
    "        \n",
    "        for i in range(l):\n",
    "            # i_th row of kernel matrix k\n",
    "            k=np.array([list_kernel[classifier](unlabeled_data[i],y) for y in labeled_data[list_supp_ind[classifier]]])\n",
    "            \n",
    "            # list of lists with 15 entries, one per classifier\n",
    "            new_labels[i][classifier]=np.sign(np.dot(a_times_labels,k)+list_b[classifier]);\n",
    "    \n",
    "        \n",
    "    for i in range(l):\n",
    "        ham_dist = [hamming(new_labels[i], code_words[j]) for j in range(10)]\n",
    "        temp_label_ind = [j for j in range(len(ham_dist)) if ham_dist[j] == min(ham_dist)]\n",
    "        if len(temp_label_ind)!=1:\n",
    "            print(\"Attention, data point could not be uniquely classified, index \" \n",
    "                  + str(i) + \" possible classification \" + str(temp_label_ind));\n",
    "            \n",
    "            # ask which barycenter is closest out of temp_label_ind\n",
    "            final_labels[i] = np.min(np.argmin([np.linalg.norm(unlabeled_data[i]-barycenters[k]) for k in temp_label_ind]))\n",
    "            \n",
    "            \n",
    "        else:\n",
    "            final_labels[i] = ham_dist.index(min(ham_dist));\n",
    "        \n",
    "   \n",
    "    return final_labels;\n",
    "    "
   ]
  },
  {
   "cell_type": "markdown",
   "metadata": {},
   "source": [
    "### Train ECOC classifier"
   ]
  },
  {
   "cell_type": "code",
   "execution_count": 61,
   "metadata": {
    "collapsed": false
   },
   "outputs": [
    {
     "data": {
      "text/plain": [
       "200"
      ]
     },
     "execution_count": 61,
     "metadata": {},
     "output_type": "execute_result"
    }
   ],
   "source": [
    "number_of_im = 200;\n",
    "train_images_test = train_images[:number_of_im]\n",
    "train_labels_test = train_labels[:number_of_im]\n",
    "np.shape(train_images_test)[0]"
   ]
  },
  {
   "cell_type": "code",
   "execution_count": null,
   "metadata": {
    "collapsed": false
   },
   "outputs": [],
   "source": [
    "# call classifier with pickle.load\n",
    "ecoc_labels, list_supp_ind, list_alpha, list_b, list_kernel, code_words, barycenters=ecoc(train_images_test, train_labels_test)\n",
    "ecoc_labels, list_supp_ind, list_alpha, list_b, list_kernel, code_words, barycenters=pickle.load(open (\"trained_ecoc_\"+str(number_of_im)+\".dat\", \"rb\"))\n",
    "\n"
   ]
  },
  {
   "cell_type": "markdown",
   "metadata": {},
   "source": [
    "### Checking the Output of ECOC predict"
   ]
  },
  {
   "cell_type": "code",
   "execution_count": null,
   "metadata": {
    "collapsed": false
   },
   "outputs": [],
   "source": [
    "# \"unknown\" data to be classified\n",
    "number_of_test_data = 300\n",
    "test_data = train_images[number_of_im:number_of_im+number_of_test_data]\n",
    "\n",
    "# call predict function\n",
    "predicted_labels_test=predict_ecoc(train_images[number_of_im:number_of_im+number_of_test_data], \n",
    "                                   train_images[:number_of_im], ecoc_labels, list_supp_ind, list_alpha, \n",
    "                                   list_b, list_kernel, code_words, barycenters)\n",
    "predicted_labels_test = predicted_labels_test.astype(float)\n",
    "# print(\"predicted labels: \", predicted_labels_test)\n",
    "\n",
    "# get actual labels\n",
    "train_labels_test=train_labels[number_of_im:number_of_im+number_of_test_data]\n",
    "train_labels_test = train_labels_test.astype(float)\n",
    "# print(\"actual labels: \", train_labels_test)\n",
    "\n",
    "print(\"number of correctly classified labels: \", sum(predicted_labels_test.astype(int)==train_labels_test.astype(int)), \n",
    "      \" out of \", number_of_test_data);\n",
    "\n",
    "# check if there is are a couple of classifiers who make more mistakes than others\n",
    "# then we could possibly change some of the parameters\n"
   ]
  },
  {
   "cell_type": "code",
   "execution_count": null,
   "metadata": {
    "collapsed": false
   },
   "outputs": [],
   "source": []
  },
  {
   "cell_type": "code",
   "execution_count": null,
   "metadata": {
    "collapsed": true
   },
   "outputs": [],
   "source": []
  }
 ],
 "metadata": {
  "kernelspec": {
   "display_name": "Python 3",
   "language": "python",
   "name": "python3"
  },
  "language_info": {
   "codemirror_mode": {
    "name": "ipython",
    "version": 3
   },
   "file_extension": ".py",
   "mimetype": "text/x-python",
   "name": "python",
   "nbconvert_exporter": "python",
   "pygments_lexer": "ipython3",
   "version": "3.6.0"
  }
 },
 "nbformat": 4,
 "nbformat_minor": 2
}
