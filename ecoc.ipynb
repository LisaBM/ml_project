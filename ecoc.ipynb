{
 "cells": [
  {
   "cell_type": "code",
   "execution_count": 46,
   "metadata": {
    "collapsed": true
   },
   "outputs": [],
   "source": [
    "import numpy as np\n",
    "import scipy\n",
    "import pandas as pd # data processing, CSV file I/O (e.g. pd.read_csv)\n",
    "from sklearn.metrics.pairwise import pairwise_kernels\n",
    "from scipy.optimize import minimize\n",
    "from scipy.spatial.distance import hamming\n",
    "\n",
    "import matplotlib.pyplot as plt\n",
    "%matplotlib inline"
   ]
  },
  {
   "cell_type": "code",
   "execution_count": 2,
   "metadata": {
    "collapsed": false
   },
   "outputs": [],
   "source": [
    "train = pd.read_csv('Data/train.csv')"
   ]
  },
  {
   "cell_type": "code",
   "execution_count": 38,
   "metadata": {
    "collapsed": false
   },
   "outputs": [
    {
     "data": {
      "text/plain": [
       "42000"
      ]
     },
     "execution_count": 38,
     "metadata": {},
     "output_type": "execute_result"
    }
   ],
   "source": [
    "images = [\"%s%s\" %(\"pixel\",pixel_no) for pixel_no in range(0,28**2)]\n",
    "train_images = np.array(train[images], dtype=np.float)/100\n",
    "#dimensionserhoehung, damit am ende b = 0\n",
    "train_images = np.concatenate((train_images, np.ones((len(train_images),1))), axis = 1)\n",
    "\n",
    "train_labels = np.array(train['label'])\n",
    "label0 = np.array([1 if i==0 else -1 for i in train_labels])\n",
    "len(train_images)"
   ]
  },
  {
   "cell_type": "code",
   "execution_count": 62,
   "metadata": {
    "collapsed": false
   },
   "outputs": [
    {
     "data": {
      "text/plain": [
       "200"
      ]
     },
     "execution_count": 62,
     "metadata": {},
     "output_type": "execute_result"
    }
   ],
   "source": [
    "number_of_im = 200;\n",
    "train_images_test = train_images[:number_of_im]\n",
    "train_labels_test = train_labels[:number_of_im]\n",
    "np.shape(train_images_test)[0]\n"
   ]
  },
  {
   "cell_type": "code",
   "execution_count": 82,
   "metadata": {
    "collapsed": false
   },
   "outputs": [
    {
     "ename": "ModuleNotFoundError",
     "evalue": "No module named 'mySVM'",
     "output_type": "error",
     "traceback": [
      "\u001b[0;31m---------------------------------------------------------------------------\u001b[0m",
      "\u001b[0;31mModuleNotFoundError\u001b[0m                       Traceback (most recent call last)",
      "\u001b[0;32m<ipython-input-82-cdbea66acdb0>\u001b[0m in \u001b[0;36m<module>\u001b[0;34m()\u001b[0m\n\u001b[0;32m----> 1\u001b[0;31m \u001b[1;32mfrom\u001b[0m \u001b[0mmySVM\u001b[0m \u001b[1;32mimport\u001b[0m \u001b[1;33m*\u001b[0m\u001b[1;33m\u001b[0m\u001b[0m\n\u001b[0m",
      "\u001b[0;31mModuleNotFoundError\u001b[0m: No module named 'mySVM'"
     ]
    }
   ],
   "source": [
    "from mySVM import *\n"
   ]
  },
  {
   "cell_type": "code",
   "execution_count": 63,
   "metadata": {
    "collapsed": false
   },
   "outputs": [],
   "source": [
    "def ecoc(labeled_data, labels, kernel=scalar_product, penalty=1, list_sigma=[0.1]*15):\n",
    "    # \n",
    "    labels=labels.astype(int);\n",
    "    l=np.shape(labeled_data)[0];\n",
    "    num_classifiers=15;\n",
    "    ecoc_labels=np.zeros((l,15));\n",
    "    code_words=np.array([\n",
    "        [ 1,  1, -1, -1, -1, -1,  1, -1,  1, -1, -1,  1,  1, -1,  1],\n",
    "        [-1, -1,  1,  1,  1,  1, -1,  1, -1,  1,  1, -1, -1,  1, -1],\n",
    "        [ 1, -1, -1,  1, -1, -1, -1,  1,  1,  1,  1, -1,  1, -1,  1],\n",
    "        [-1, -1,  1,  1, -1,  1,  1,  1, -1, -1, -1, -1,  1, -1,  1],\n",
    "        [ 1,  1,  1, -1,  1, -1,  1,  1, -1, -1,  1, -1, -1, -1,  1],\n",
    "        [-1,  1, -1, -1,  1,  1, -1,  1,  1,  1, -1, -1, -1, -1,  1],\n",
    "        [ 1, -1,  1,  1,  1, -1, -1, -1, -1,  1, -1,  1, -1, -1,  1],\n",
    "        [-1, -1, -1,  1,  1,  1,  1, -1,  1, -1,  1,  1, -1, -1,  1],\n",
    "        [ 1,  1, -1,  1, -1,  1,  1, -1, -1,  1, -1, -1, -1,  1,  1],\n",
    "        [-1,  1,  1,  1, -1, -1, -1, -1,  1, -1,  1, -1, -1,  1,  1]]);\n",
    "    for j in range(l):\n",
    "        ecoc_labels[j]=code_words[labels[j]];\n",
    "    \n",
    "    list_supp_ind = [];\n",
    "    list_alpha =[];\n",
    "    list_b =[];\n",
    "    list_kernel=[];\n",
    "    \n",
    "    for classifier in range(15):\n",
    "        svm=mySVM(kernel=kernel, penalty=penalty, sigma=list_sigma[classifier]);\n",
    "        svm.fit(labeled_data, ecoc_labels[:,classifier]);\n",
    "        list_supp_ind.append(svm.supp_indices);\n",
    "        list_alpha.append(svm.alpha);\n",
    "        list_b.append(svm.b);\n",
    "        list_kernel.append(svm.kernel);\n",
    "        \n",
    "    # pickle dump / pickle load (?) to save and call saved objects    \n",
    "    \n",
    "    # now I need to call a binary classifier for each column of ecoc_labels\n",
    "    # from decision functions we get seperating hyperplanes, margin, ... \n",
    "    # return those\n",
    "    \n",
    "    \n",
    "    return ecoc_labels, list_supp_ind, list_alpha, list_b, list_kernel, code_words;"
   ]
  },
  {
   "cell_type": "code",
   "execution_count": 64,
   "metadata": {
    "collapsed": false
   },
   "outputs": [],
   "source": [
    "ecoc_labels, list_supp_ind, list_alpha, list_b, list_kernel, code_words=ecoc(train_images_test, train_labels_test)"
   ]
  },
  {
   "cell_type": "code",
   "execution_count": 58,
   "metadata": {
    "collapsed": true
   },
   "outputs": [],
   "source": [
    "# suppose we have an unlabeled data point\n",
    "def predict_ecoc(unlabeled_data, labeled_data, ecoc_labels, list_supp_ind, list_alpha, list_b, list_kernel, code_words):\n",
    "    # every row is one data point\n",
    "    # number of rows = # of data points\n",
    "    l=np.shape(unlabeled_data)[0];\n",
    "    print(l)\n",
    "    new_labels=np.zeros((l,15));\n",
    "    \n",
    "    temp_label_ind=[];\n",
    "    final_labels = np.array(['NaN']*l);\n",
    "    \n",
    "    for classifier in range(15):\n",
    "        a_supp = list_alpha[classifier][list_supp_ind[classifier]];\n",
    "        ecoc_labels_supp = ecoc_labels[list_supp_ind[classifier],classifier]\n",
    "        a_times_labels=np.multiply(a_supp, ecoc_labels_supp)\n",
    "        \n",
    "        for i in range(l):\n",
    "            # i_th row of kernel matrix k\n",
    "            k=np.array([list_kernel[classifier](unlabeled_data[i],y) for y in labeled_data[list_supp_ind[classifier]]])\n",
    "            \n",
    "            # list of lists with 15 entries, one per classifier\n",
    "            new_labels[i][classifier]=np.sign(np.dot(a_times_labels,k)+list_b[classifier]);\n",
    "    \n",
    "        \n",
    "    for i in range(l):\n",
    "        ham_dist = [hamming(new_labels[i], code_words[j]) for j in range(10)]\n",
    "        temp_label_ind = [j for j in range(len(ham_dist)) if ham_dist[j] == min(ham_dist)]\n",
    "        if len(temp_label_ind)!=1:\n",
    "            print(\"Attention, data point could not be uniquely classified, index \" \n",
    "                  + str(i) + \"possible classification\" + str(temp_label_ind));\n",
    "        else:\n",
    "            final_labels[i] = ham_dist.index(min(ham_dist));\n",
    "        \n",
    "   \n",
    "    return final_labels;\n",
    "    "
   ]
  },
  {
   "cell_type": "code",
   "execution_count": 61,
   "metadata": {
    "collapsed": false
   },
   "outputs": [
    {
     "data": {
      "text/plain": [
       "array([5, 1, 9, 0], dtype=int64)"
      ]
     },
     "execution_count": 61,
     "metadata": {},
     "output_type": "execute_result"
    }
   ],
   "source": []
  },
  {
   "cell_type": "code",
   "execution_count": 81,
   "metadata": {
    "collapsed": false
   },
   "outputs": [
    {
     "name": "stdout",
     "output_type": "stream",
     "text": [
      "20\n",
      "predicted labels:  ['0' '0' '6' '0' '0' '4' '9' '2' '7' '1' '9' '9' '3' '9' '8' '2' '6' '4'\n",
      " '1' '3']\n",
      "<class 'numpy.int64'>\n",
      "<class 'numpy.str_'>\n"
     ]
    },
    {
     "data": {
      "text/plain": [
       "16"
      ]
     },
     "execution_count": 81,
     "metadata": {},
     "output_type": "execute_result"
    }
   ],
   "source": [
    "# for testing\n",
    "predicted_labels_test=predict_ecoc(train_images[number_of_im:number_of_im+20], train_images[:number_of_im], ecoc_labels, list_supp_ind, list_alpha, list_b, list_kernel, code_words)\n",
    "print(\"predicted labels: \", predicted_labels_test)\n",
    "train_labels_test=train_labels[number_of_im:number_of_im+20]\n",
    "print(type(train_labels_test[0]))\n",
    "print(type(predicted_labels_test[0]))\n",
    "sum(predicted_labels_test.astype(int)==train_labels_test.astype(int))"
   ]
  },
  {
   "cell_type": "code",
   "execution_count": 19,
   "metadata": {
    "collapsed": true
   },
   "outputs": [],
   "source": [
    "def gaussian_kernel(x, y, sigma):\n",
    "\treturn np.exp(-sigma*np.linalg.norm(x-y)**2)\n",
    "\n",
    "class mySVM:\n",
    "    from smo import smo\n",
    "    \n",
    "    def __init__(self, kernel = gaussian_kernel, penalty = 1, sigma = 0.01):\n",
    "        self.sigma = sigma\n",
    "        self.kernel = kernel\n",
    "        self.penalty = penalty\n",
    "        self.kernelmatrix_for_predict = None\n",
    "        self.tolerance = 1e-5\n",
    "        \n",
    "    def fit(self,training_data, training_labels):\n",
    "        kernel_identifier = None\n",
    "        if self.kernel == gaussian_kernel:\n",
    "            def kernel_sigma(x, y):\n",
    "                return gaussian_kernel(x, y, self.sigma)\n",
    "            self.kernel = kernel_sigma\n",
    "        if self.kernel == scalar_product:\n",
    "            kernel_identifier = 'standard scalar product'\n",
    "        solution = smo(np.transpose(training_data),training_labels,self.penalty,self.kernel,self.tolerance,'yes', kernel_identifier)\n",
    "        self.alpha = solution['solution']\n",
    "        self.training_data = training_data\n",
    "        self.training_labels = training_labels\n",
    "        self.supp_indices, self.supp_vectors = extract_suppvectors(self.alpha, training_data) #support vectors and indices of support vectors\n",
    "        self.b = extract_b(self.alpha[self.supp_indices], training_labels[self.supp_indices], self.supp_vectors, self.kernel, self.penalty)\n",
    "        if self.kernel == scalar_product:\n",
    "            self.w = extract_w(self.alpha, training_labels, training_data, self.supp_indices)\n",
    "\t\t\t\n",
    "def extract_suppvectors(alpha, data):\n",
    "    supp_indices = np.array([i for i in range(len(data)) if not alpha[i]==0])\n",
    "    supp_vectors = data[supp_indices]\n",
    "    return supp_indices, supp_vectors\n",
    "\n",
    "def extract_w(alpha, labels, data, supp_indices):\n",
    "    #nur für linear kernels\n",
    "    w = np.sum((np.array(alpha[i]*labels[i]*data[i]) for i in supp_indices), axis = 0)\n",
    "    return w\n",
    "\n",
    "def y_withoutb(x, alpha_supp, labels_supp, data_supp, kernel):\n",
    "    alphatimeslabels = np.multiply(alpha_supp, labels_supp)\n",
    "    k = np.array([kernel(x, y) for y in data_supp])\n",
    "    return np.dot(alphatimeslabels, k)\n",
    "\n",
    "def extract_b(alpha_supp, labels_supp, data_supp, kernel, C):\n",
    "    indicesonmargin = np.array([i for i in range(len(data_supp)) if alpha_supp[i]<C ])\n",
    "    return 1./len(indicesonmargin)*sum([labels_supp[i]-y_withoutb(data_supp[i],alpha_supp, labels_supp, data_supp, kernel) for i in indicesonmargin])\n",
    "\t\n",
    "def scalar_product(v1,v2):\n",
    "    '''standard scalar product'''\n",
    "    return np.dot(v1,v2)\n",
    "\t\n"
   ]
  },
  {
   "cell_type": "code",
   "execution_count": 13,
   "metadata": {
    "collapsed": true
   },
   "outputs": [],
   "source": [
    "import numpy as np\n",
    "\n",
    "# careful, smo expects data in the shape of a dxl array, where d is the dimension of the data points and l the number of data points!\n",
    "def smo(data,label,C,kernel,tol,violationcheckyesorno, kernel_identifier = None):\n",
    "    \n",
    "    eps = 1e-12\n",
    "    \n",
    "    l = label.shape[0]\n",
    "    alpha = np.zeros(l)\n",
    "    \n",
    "    fcache = -label.astype(float)\n",
    "    \n",
    "    b_up = [-1]\n",
    "    b_low = [1]\n",
    "    \n",
    "    I = np.zeros((5,l), dtype=np.int)\n",
    "    I[1,:] = (label == 1).astype(int)\n",
    "    I[4,:] = (label == -1).astype(int)\n",
    "\n",
    "    i_up = [min(np.nonzero(I[1,:])[0])]\n",
    "    i_low = [min(np.nonzero(I[4,:])[0])]\n",
    "    \n",
    "    \n",
    "    ##############################################################################################\n",
    "    # auxiliary functions for takeStep and examineExample\n",
    "    \n",
    "    def I_membership(a,y):\n",
    "        if 0 < a and a < C:\n",
    "            return np.array([1,0,0,0,0])\n",
    "        elif a == 0 and y == 1:\n",
    "            return np.array([0,1,0,0,0])\n",
    "        elif a == C and y == -1:\n",
    "            return np.array([0,0,1,0,0])\n",
    "        elif a == C and y == 1:\n",
    "            return np.array([0,0,0,1,0])\n",
    "        else:\n",
    "            return np.array([0,0,0,0,1])\n",
    "    \n",
    "\n",
    "    def I_membership_no(a,y):\n",
    "        if 0 < a < C:\n",
    "            return 0\n",
    "        elif a == 0 and y == 1:\n",
    "            return 1\n",
    "        elif a == C and y == -1:\n",
    "            return 2\n",
    "        elif a == C and y == 1:\n",
    "            return 3\n",
    "        else:\n",
    "            return 4\n",
    "        \n",
    "    def F(i,alpha):\n",
    "        \n",
    "        #avoid for loop in case of standard scalar product kernel\n",
    "        if kernel_identifier == 'standard scalar product':\n",
    "            k = alpha * label;\n",
    "            m = np.dot(data[:,i],data)\n",
    "            out = -label[i] + np.dot(k,m)\n",
    "        else: \n",
    "            out = - label[i]\n",
    "            for j in range(l):\n",
    "                out += alpha[j]*label[j]*kernel(data[:,i],data[:,j])\n",
    "        return out\n",
    "    \n",
    "    \n",
    "    ##############################################################################################   \n",
    "    \n",
    "    \n",
    "    \n",
    "    \n",
    "    ##############################################################################################\n",
    "    # subprocedure takeStep\n",
    "    \n",
    "    def takeStep(i1,i2):\n",
    "\n",
    "    \n",
    "        if i1 == i2: \n",
    "            return 0\n",
    "        alph1 = alpha[i1]\n",
    "        alph2 = alpha[i2]\n",
    "        y1 = label[i1]\n",
    "        y2 = label[i2]  \n",
    "   \n",
    "        F1 = fcache[i1]\n",
    "        F2 = fcache[i2]\n",
    "        s = y1*y2\n",
    "    \n",
    "        if s == -1:\n",
    "            L = max(0,alph2-alph1)\n",
    "            H = min(C,C+alph2-alph1)\n",
    "        else:\n",
    "            L = max(0,alph2+alph1-C)\n",
    "            H = min(C,alph2+alph1)\n",
    "    \n",
    "        if L == H: return 0\n",
    "    \n",
    "        k11 = kernel(data[:,i1],data[:,i1])\n",
    "        k12 = kernel(data[:,i1],data[:,i2])\n",
    "        k22 = kernel(data[:,i2],data[:,i2])\n",
    "    \n",
    "        eta = 2*k12 - k11 - k22\n",
    "        if eta < 0:\n",
    "            a2 = alph2 - y2*(F1-F2)/eta\n",
    "            if a2 < L:\n",
    "                a2 = L\n",
    "            elif a2 > H:\n",
    "                a2 = H\n",
    "        else:\n",
    "            #print('Error: eta == 0')\n",
    "            raise ValueError('Error: eta == 0')\n",
    "    \n",
    "        if abs(a2-alph2) < eps*(a2+alph2+eps):\n",
    "            return 0\n",
    "    \n",
    "        a1 = alph1 + s*(alph2-a2)\n",
    "    \n",
    "   \n",
    "        # update alpha\n",
    "        alpha[i1] = a1\n",
    "        alpha[i2] = a2\n",
    "    \n",
    "        # update I\n",
    "        I[:,i1] =  I_membership(a1,y1)\n",
    "        I[:,i2] =  I_membership(a2,y2)\n",
    "    \n",
    "        # update fcache[i] here for i in I_0: a[0:3][:,4:9]\n",
    "        ind_0 = (np.nonzero(I[0,:]))[0]\n",
    "        \n",
    "        #avoid for loop in case of standard scalar product kernel\n",
    "        if kernel_identifier == 'standard scalar product':\n",
    "            fcache[ind_0] += y1*(a1-alph1)*np.dot(data[:,i1],data[:,ind_0]) + y2*(a2-alph2)*np.dot(data[:,i2],data[:,ind_0])\n",
    "        else:\n",
    "            for i in ind_0:\n",
    "                fcache[i] = fcache[i] + y1*(a1-alph1)*kernel(data[:,i],data[:,i1]) + y2*(a2-alph2)*kernel(data[:,i],data[:,i2])\n",
    "    \n",
    "        # update fcache for indices i1 and i2\n",
    "        fcache[i1] = F1 + y1*(a1-alph1)*k11 + y2*(a2-alph2)*k12\n",
    "        fcache[i2] = F2 + y1*(a1-alph1)*k12 + y2*(a2-alph2)*k22\n",
    "        \n",
    "        \n",
    "        b_low[0] = -float('inf')\n",
    "        b_up[0] = - b_low[0]\n",
    "        \n",
    "        if np.size(ind_0) > 0:\n",
    "            for i in ind_0:\n",
    "                if fcache[i] > b_low[0]:\n",
    "                    b_low[0] = fcache[i]\n",
    "                    i_low[0] = i\n",
    "                if fcache[i] < b_up:\n",
    "                    b_up[0] = fcache[i]\n",
    "                    i_up[0] = i\n",
    "       \n",
    "        memb1 = I_membership_no(a1,y1)\n",
    "        memb2 = I_membership_no(a2,y2)\n",
    "        if memb1 in (1,2) and fcache[i1] < b_up[0]:\n",
    "            b_up[0] = fcache[i1]\n",
    "            i_up[0] = i1\n",
    "        if memb1 in (3,4) and fcache[i1] > b_low[0]:\n",
    "            b_low[0] = fcache[i1]\n",
    "            i_low[0] = i1\n",
    "        if memb2 in (1,2) and fcache[i2] < b_up[0]:\n",
    "            b_up[0] = fcache[i2]\n",
    "            i_up[0] = i2\n",
    "        if memb2 in (3,4) and fcache[i2] > b_low[0]:\n",
    "            b_low[0] = fcache[i2]\n",
    "            i_low[0] = i2\n",
    "\n",
    "        return 1\n",
    "    \n",
    "    ##############################################################################################\n",
    "    \n",
    "    \n",
    "    \n",
    "    \n",
    "    ##############################################################################################\n",
    "    #subprocedure examineExample\n",
    "    \n",
    "    def examineExample(i2):\n",
    "\n",
    "    \n",
    "        y2 = label[i2]\n",
    "        alph2 = alpha[i2]\n",
    "        memb_i2 = I_membership_no(alph2,y2);\n",
    "    \n",
    "        # look up or compute F2:= F_i2\n",
    "        if memb_i2 == 0:\n",
    "            F2 = fcache[i2]\n",
    "        else:\n",
    "            fcache[i2] = F(i2,alpha)\n",
    "            F2 = fcache[i2]\n",
    "        \n",
    "            # in case i2 not in I_0, see if F2 changes or estimate of b_low or b_up\n",
    "            if memb_i2 in (1,2) and F2 < b_up[0]:\n",
    "                b_up[0] = F2\n",
    "                i_up[0] = i2\n",
    "            elif memb_i2 in (3,4) and F2 > b_low[0]:\n",
    "                b_low[0] = F2\n",
    "                i_low[0] = i2\n",
    "    \n",
    "        optimality = 1\n",
    "        if memb_i2 in (0,1,2):\n",
    "            if b_low[0] - F2 > tol:\n",
    "                optimality = 0\n",
    "                i1 = i_low[0]\n",
    "        if memb_i2 in (0,3,4):\n",
    "            if F2 - b_up[0] > tol:\n",
    "                optimality = 0\n",
    "                i1 = i_up[0]\n",
    "        if optimality == 1:\n",
    "            return 0\n",
    "    \n",
    "        if memb_i2 == 0:\n",
    "            if b_low[0] - F2 > F2 - b_up[0]:\n",
    "                i1 = i_low[0]\n",
    "            else:\n",
    "                i1 = i_up[0]\n",
    "            \n",
    "        if takeStep(i1,i2):\n",
    "            return 1\n",
    "        else:\n",
    "            return 0\n",
    "    \n",
    "    ##############################################################################################\n",
    "    \n",
    "    \n",
    "    \n",
    "    \n",
    "    ##############################################################################################\n",
    "    #main routine\n",
    "    \n",
    "    numChanged = 0\n",
    "    examineAll = 1\n",
    "\n",
    "    while numChanged > 0 or examineAll:\n",
    "        numChanged = 0\n",
    "        if examineAll:\n",
    "            for i in range(l):\n",
    "                numChanged = numChanged + examineExample(i)\n",
    "        else:\n",
    "            for i in (np.nonzero(I[0,:]))[0]:\n",
    "                numChanged = numChanged + examineExample(i)\n",
    "                if b_up[0] > b_low[0] - tol:\n",
    "                    numChanged = 0\n",
    "                    break\n",
    "        if examineAll == 1:\n",
    "            examineAll = 0\n",
    "        elif numChanged == 0:\n",
    "            examineAll = 1\n",
    "            \n",
    "            \n",
    "    if violationcheckyesorno == 'yes':\n",
    "        memb = [I_membership_no(alpha[i],label[i]) for i in range(l)]\n",
    "        I_up = [memb[i] in (0,1,2) for i in range(l)]\n",
    "        I_low = [memb[i] in (0,3,4) for i in range(l)]\n",
    "        bs = [F(i,alpha) for i in range(l)]\n",
    "\n",
    "        b_up = float('inf')\n",
    "        b_low = -b_up\n",
    "        for i in range(l):\n",
    "            if I_up[i] == 1 and bs[i] < b_up:\n",
    "                b_up = bs[i]\n",
    "            if I_low[i] == 1 and bs[i] > b_low:\n",
    "                b_low = bs[i]\n",
    "\n",
    "        if b_low - tol <= b_up:\n",
    "            violationstring = 'no tol-violation'\n",
    "        else:\n",
    "            violationstring = 'tol-violations!!'\n",
    "    else:\n",
    "        violationstring = 'no violation requested'\n",
    "\n",
    "    \n",
    "    return {'solution': alpha, 'violationcheck': violationstring}\n",
    "\n",
    "    ##############################################################################################"
   ]
  },
  {
   "cell_type": "code",
   "execution_count": null,
   "metadata": {
    "collapsed": false
   },
   "outputs": [],
   "source": []
  },
  {
   "cell_type": "code",
   "execution_count": null,
   "metadata": {
    "collapsed": true
   },
   "outputs": [],
   "source": []
  }
 ],
 "metadata": {
  "kernelspec": {
   "display_name": "Python 3",
   "language": "python",
   "name": "python3"
  },
  "language_info": {
   "codemirror_mode": {
    "name": "ipython",
    "version": 3
   },
   "file_extension": ".py",
   "mimetype": "text/x-python",
   "name": "python",
   "nbconvert_exporter": "python",
   "pygments_lexer": "ipython3",
   "version": "3.6.0"
  }
 },
 "nbformat": 4,
 "nbformat_minor": 2
}
