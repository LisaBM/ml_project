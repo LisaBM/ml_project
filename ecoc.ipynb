{
 "cells": [
  {
   "cell_type": "code",
   "execution_count": 116,
   "metadata": {
    "collapsed": true
   },
   "outputs": [],
   "source": [
    "import numpy as np\n",
    "import scipy\n",
    "\n",
    "# to save data\n",
    "import pickle\n",
    "\n",
    "import pandas as pd # data processing, CSV file I/O (e.g. pd.read_csv)\n",
    "from sklearn.metrics.pairwise import pairwise_kernels\n",
    "from scipy.optimize import minimize\n",
    "from scipy.spatial.distance import hamming\n",
    "\n",
    "import matplotlib.pyplot as plt\n",
    "%matplotlib inline"
   ]
  },
  {
   "cell_type": "code",
   "execution_count": 117,
   "metadata": {
    "collapsed": false
   },
   "outputs": [],
   "source": [
    "train = pd.read_csv('Data/train.csv')"
   ]
  },
  {
   "cell_type": "code",
   "execution_count": 118,
   "metadata": {
    "collapsed": false
   },
   "outputs": [
    {
     "data": {
      "text/plain": [
       "42000"
      ]
     },
     "execution_count": 118,
     "metadata": {},
     "output_type": "execute_result"
    }
   ],
   "source": [
    "images = [\"%s%s\" %(\"pixel\",pixel_no) for pixel_no in range(0,28**2)]\n",
    "train_images = np.array(train[images], dtype=np.float)/100\n",
    "#dimensionserhoehung, damit am ende b = 0\n",
    "train_images = np.concatenate((train_images, np.ones((len(train_images),1))), axis = 1)\n",
    "\n",
    "train_labels = np.array(train['label'])\n",
    "label0 = np.array([1 if i==0 else -1 for i in train_labels])\n",
    "len(train_images)"
   ]
  },
  {
   "cell_type": "code",
   "execution_count": null,
   "metadata": {
    "collapsed": false
   },
   "outputs": [],
   "source": [
    "\n"
   ]
  },
  {
   "cell_type": "code",
   "execution_count": 119,
   "metadata": {
    "collapsed": false
   },
   "outputs": [],
   "source": [
    "from mySVM_class import *\n"
   ]
  },
  {
   "cell_type": "code",
   "execution_count": 120,
   "metadata": {
    "collapsed": false
   },
   "outputs": [],
   "source": [
    "def ecoc(labeled_data, labels, kernel=scalar_product, penalty=1, list_sigma=[0.1]*15):\n",
    "    # \n",
    "    labels=labels.astype(int);\n",
    "    l=np.shape(labeled_data)[0];\n",
    "    num_classifiers=15;\n",
    "    ecoc_labels=np.zeros((l,15));\n",
    "    \n",
    "    # define code_word matrix, the ith row corresponds to the number i\n",
    "    # each column corresponds to a classifier that will have to be trained\n",
    "    code_words=np.array([\n",
    "        [ 1,  1, -1, -1, -1, -1,  1, -1,  1, -1, -1,  1,  1, -1,  1],\n",
    "        [-1, -1,  1,  1,  1,  1, -1,  1, -1,  1,  1, -1, -1,  1, -1],\n",
    "        [ 1, -1, -1,  1, -1, -1, -1,  1,  1,  1,  1, -1,  1, -1,  1],\n",
    "        [-1, -1,  1,  1, -1,  1,  1,  1, -1, -1, -1, -1,  1, -1,  1],\n",
    "        [ 1,  1,  1, -1,  1, -1,  1,  1, -1, -1,  1, -1, -1, -1,  1],\n",
    "        [-1,  1, -1, -1,  1,  1, -1,  1,  1,  1, -1, -1, -1, -1,  1],\n",
    "        [ 1, -1,  1,  1,  1, -1, -1, -1, -1,  1, -1,  1, -1, -1,  1],\n",
    "        [-1, -1, -1,  1,  1,  1,  1, -1,  1, -1,  1,  1, -1, -1,  1],\n",
    "        [ 1,  1, -1,  1, -1,  1,  1, -1, -1,  1, -1, -1, -1,  1,  1],\n",
    "        [-1,  1,  1,  1, -1, -1, -1, -1,  1, -1,  1, -1, -1,  1,  1]]);\n",
    "    \n",
    "    # up until now training data has labels from 0 to 9\n",
    "    # now these are replaced by the 15 digit string given by code_words\n",
    "    for j in range(l):\n",
    "        ecoc_labels[j]=code_words[labels[j]];\n",
    "    \n",
    "    list_supp_ind = [];\n",
    "    list_alpha =[];\n",
    "    list_b =[];\n",
    "    list_kernel=[];\n",
    "    \n",
    "    # class an svm object for each classifier\n",
    "    # here would be the possibility to parallelize\n",
    "    for classifier in range(15):\n",
    "        svm=mySVM(kernel=kernel, penalty=penalty, sigma=list_sigma[classifier]);\n",
    "        svm.fit(labeled_data, ecoc_labels[:,classifier]);\n",
    "        list_supp_ind.append(svm.supp_indices);\n",
    "        list_alpha.append(svm.alpha);\n",
    "        list_b.append(svm.b);\n",
    "        list_kernel.append(svm.kernel);\n",
    "        \n",
    "    # pickle dump to save and call saved objects    \n",
    "    pickle.dump((ecoc_labels, list_supp_ind, list_alpha, list_b, list_kernel, code_words), \n",
    "                (open( \"trained_ecoc_\"+str(l)+\".dat\"), \"wb\" ))\n",
    "    # now I need to call a binary classifier for each column of ecoc_labels\n",
    "    # from decision functions we get seperating hyperplanes, margin, ... \n",
    "    # return those\n",
    "    \n",
    "    \n",
    "    return ecoc_labels, list_supp_ind, list_alpha, list_b, list_kernel, code_words;"
   ]
  },
  {
   "cell_type": "code",
   "execution_count": null,
   "metadata": {
    "collapsed": false
   },
   "outputs": [],
   "source": []
  },
  {
   "cell_type": "code",
   "execution_count": 121,
   "metadata": {
    "collapsed": true
   },
   "outputs": [],
   "source": [
    "# suppose we have an unlabeled data point\n",
    "def predict_ecoc(unlabeled_data, labeled_data, ecoc_labels, list_supp_ind, list_alpha, list_b, list_kernel, code_words):\n",
    "    # every row is one data point\n",
    "    # number of rows = # of data points\n",
    "    l=np.shape(unlabeled_data)[0];\n",
    "    print(l)\n",
    "    new_labels=np.zeros((l,15));\n",
    "    \n",
    "    temp_label_ind=[];\n",
    "    final_labels = np.array(['NaN']*l);\n",
    "    \n",
    "    for classifier in range(15):\n",
    "        a_supp = list_alpha[classifier][list_supp_ind[classifier]];\n",
    "        ecoc_labels_supp = ecoc_labels[list_supp_ind[classifier],classifier]\n",
    "        a_times_labels=np.multiply(a_supp, ecoc_labels_supp)\n",
    "        \n",
    "        for i in range(l):\n",
    "            # i_th row of kernel matrix k\n",
    "            k=np.array([list_kernel[classifier](unlabeled_data[i],y) for y in labeled_data[list_supp_ind[classifier]]])\n",
    "            \n",
    "            # list of lists with 15 entries, one per classifier\n",
    "            new_labels[i][classifier]=np.sign(np.dot(a_times_labels,k)+list_b[classifier]);\n",
    "    \n",
    "        \n",
    "    for i in range(l):\n",
    "        ham_dist = [hamming(new_labels[i], code_words[j]) for j in range(10)]\n",
    "        temp_label_ind = [j for j in range(len(ham_dist)) if ham_dist[j] == min(ham_dist)]\n",
    "        if len(temp_label_ind)!=1:\n",
    "            print(\"Attention, data point could not be uniquely classified, index \" \n",
    "                  + str(i) + \"possible classification\" + str(temp_label_ind));\n",
    "        else:\n",
    "            final_labels[i] = ham_dist.index(min(ham_dist));\n",
    "        \n",
    "   \n",
    "    return final_labels;\n",
    "    "
   ]
  },
  {
   "cell_type": "markdown",
   "metadata": {},
   "source": [
    "### Train ECOC classifier"
   ]
  },
  {
   "cell_type": "code",
   "execution_count": 122,
   "metadata": {
    "collapsed": false
   },
   "outputs": [
    {
     "data": {
      "text/plain": [
       "500"
      ]
     },
     "execution_count": 122,
     "metadata": {},
     "output_type": "execute_result"
    }
   ],
   "source": [
    "number_of_im = 500;\n",
    "train_images_test = train_images[:number_of_im]\n",
    "train_labels_test = train_labels[:number_of_im]\n",
    "np.shape(train_images_test)[0]"
   ]
  },
  {
   "cell_type": "code",
   "execution_count": 123,
   "metadata": {
    "collapsed": false
   },
   "outputs": [
    {
     "ename": "KeyboardInterrupt",
     "evalue": "",
     "output_type": "error",
     "traceback": [
      "\u001b[0;31m---------------------------------------------------------------------------\u001b[0m",
      "\u001b[0;31mKeyboardInterrupt\u001b[0m                         Traceback (most recent call last)",
      "\u001b[0;32m<ipython-input-123-a0156d47b238>\u001b[0m in \u001b[0;36m<module>\u001b[0;34m()\u001b[0m\n\u001b[1;32m      1\u001b[0m \u001b[1;31m# call classifier\u001b[0m\u001b[1;33m\u001b[0m\u001b[1;33m\u001b[0m\u001b[0m\n\u001b[0;32m----> 2\u001b[0;31m \u001b[0mecoc_labels\u001b[0m\u001b[1;33m,\u001b[0m \u001b[0mlist_supp_ind\u001b[0m\u001b[1;33m,\u001b[0m \u001b[0mlist_alpha\u001b[0m\u001b[1;33m,\u001b[0m \u001b[0mlist_b\u001b[0m\u001b[1;33m,\u001b[0m \u001b[0mlist_kernel\u001b[0m\u001b[1;33m,\u001b[0m \u001b[0mcode_words\u001b[0m\u001b[1;33m=\u001b[0m\u001b[0mecoc\u001b[0m\u001b[1;33m(\u001b[0m\u001b[0mtrain_images_test\u001b[0m\u001b[1;33m,\u001b[0m \u001b[0mtrain_labels_test\u001b[0m\u001b[1;33m)\u001b[0m\u001b[1;33m\u001b[0m\u001b[0m\n\u001b[0m",
      "\u001b[0;32m<ipython-input-120-841efc4be465>\u001b[0m in \u001b[0;36mecoc\u001b[0;34m(labeled_data, labels, kernel, penalty, list_sigma)\u001b[0m\n\u001b[1;32m     34\u001b[0m     \u001b[1;32mfor\u001b[0m \u001b[0mclassifier\u001b[0m \u001b[1;32min\u001b[0m \u001b[0mrange\u001b[0m\u001b[1;33m(\u001b[0m\u001b[1;36m15\u001b[0m\u001b[1;33m)\u001b[0m\u001b[1;33m:\u001b[0m\u001b[1;33m\u001b[0m\u001b[0m\n\u001b[1;32m     35\u001b[0m         \u001b[0msvm\u001b[0m\u001b[1;33m=\u001b[0m\u001b[0mmySVM\u001b[0m\u001b[1;33m(\u001b[0m\u001b[0mkernel\u001b[0m\u001b[1;33m=\u001b[0m\u001b[0mkernel\u001b[0m\u001b[1;33m,\u001b[0m \u001b[0mpenalty\u001b[0m\u001b[1;33m=\u001b[0m\u001b[0mpenalty\u001b[0m\u001b[1;33m,\u001b[0m \u001b[0msigma\u001b[0m\u001b[1;33m=\u001b[0m\u001b[0mlist_sigma\u001b[0m\u001b[1;33m[\u001b[0m\u001b[0mclassifier\u001b[0m\u001b[1;33m]\u001b[0m\u001b[1;33m)\u001b[0m\u001b[1;33m;\u001b[0m\u001b[1;33m\u001b[0m\u001b[0m\n\u001b[0;32m---> 36\u001b[0;31m         \u001b[0msvm\u001b[0m\u001b[1;33m.\u001b[0m\u001b[0mfit\u001b[0m\u001b[1;33m(\u001b[0m\u001b[0mlabeled_data\u001b[0m\u001b[1;33m,\u001b[0m \u001b[0mecoc_labels\u001b[0m\u001b[1;33m[\u001b[0m\u001b[1;33m:\u001b[0m\u001b[1;33m,\u001b[0m\u001b[0mclassifier\u001b[0m\u001b[1;33m]\u001b[0m\u001b[1;33m)\u001b[0m\u001b[1;33m;\u001b[0m\u001b[1;33m\u001b[0m\u001b[0m\n\u001b[0m\u001b[1;32m     37\u001b[0m         \u001b[0mlist_supp_ind\u001b[0m\u001b[1;33m.\u001b[0m\u001b[0mappend\u001b[0m\u001b[1;33m(\u001b[0m\u001b[0msvm\u001b[0m\u001b[1;33m.\u001b[0m\u001b[0msupp_indices\u001b[0m\u001b[1;33m)\u001b[0m\u001b[1;33m;\u001b[0m\u001b[1;33m\u001b[0m\u001b[0m\n\u001b[1;32m     38\u001b[0m         \u001b[0mlist_alpha\u001b[0m\u001b[1;33m.\u001b[0m\u001b[0mappend\u001b[0m\u001b[1;33m(\u001b[0m\u001b[0msvm\u001b[0m\u001b[1;33m.\u001b[0m\u001b[0malpha\u001b[0m\u001b[1;33m)\u001b[0m\u001b[1;33m;\u001b[0m\u001b[1;33m\u001b[0m\u001b[0m\n",
      "\u001b[0;32mC:\\Users\\Lisa\\Documents\\Uni\\SoSe2017\\MachineLearning\\project\\mySVM_class.py\u001b[0m in \u001b[0;36mfit\u001b[0;34m(self, training_data, training_labels)\u001b[0m\n\u001b[1;32m     45\u001b[0m                 \u001b[1;32mreturn\u001b[0m \u001b[0mgaussian_kernel\u001b[0m\u001b[1;33m(\u001b[0m\u001b[0mx\u001b[0m\u001b[1;33m,\u001b[0m \u001b[0my\u001b[0m\u001b[1;33m,\u001b[0m \u001b[0mself\u001b[0m\u001b[1;33m.\u001b[0m\u001b[0msigma\u001b[0m\u001b[1;33m)\u001b[0m\u001b[1;33m\u001b[0m\u001b[0m\n\u001b[1;32m     46\u001b[0m             \u001b[0mself\u001b[0m\u001b[1;33m.\u001b[0m\u001b[0mkernel\u001b[0m \u001b[1;33m=\u001b[0m \u001b[0mkernel_sigma\u001b[0m\u001b[1;33m\u001b[0m\u001b[0m\n\u001b[0;32m---> 47\u001b[0;31m         \u001b[1;32mif\u001b[0m \u001b[0mself\u001b[0m\u001b[1;33m.\u001b[0m\u001b[0mkernel\u001b[0m \u001b[1;33m==\u001b[0m \u001b[0mscalar_product\u001b[0m\u001b[1;33m:\u001b[0m\u001b[1;33m\u001b[0m\u001b[0m\n\u001b[0m\u001b[1;32m     48\u001b[0m             \u001b[0mkernel_identifier\u001b[0m \u001b[1;33m=\u001b[0m \u001b[1;34m'standard scalar product'\u001b[0m\u001b[1;33m\u001b[0m\u001b[0m\n\u001b[1;32m     49\u001b[0m         \u001b[0msolution\u001b[0m \u001b[1;33m=\u001b[0m \u001b[0msmo\u001b[0m\u001b[1;33m(\u001b[0m\u001b[0mnp\u001b[0m\u001b[1;33m.\u001b[0m\u001b[0mtranspose\u001b[0m\u001b[1;33m(\u001b[0m\u001b[0mtraining_data\u001b[0m\u001b[1;33m)\u001b[0m\u001b[1;33m,\u001b[0m\u001b[0mtraining_labels\u001b[0m\u001b[1;33m,\u001b[0m\u001b[0mself\u001b[0m\u001b[1;33m.\u001b[0m\u001b[0mpenalty\u001b[0m\u001b[1;33m,\u001b[0m\u001b[0mself\u001b[0m\u001b[1;33m.\u001b[0m\u001b[0mkernel\u001b[0m\u001b[1;33m,\u001b[0m\u001b[0mself\u001b[0m\u001b[1;33m.\u001b[0m\u001b[0mtolerance\u001b[0m\u001b[1;33m,\u001b[0m\u001b[1;34m'yes'\u001b[0m\u001b[1;33m,\u001b[0m \u001b[0mkernel_identifier\u001b[0m\u001b[1;33m)\u001b[0m\u001b[1;33m\u001b[0m\u001b[0m\n",
      "\u001b[0;32mC:\\Users\\Lisa\\Documents\\Uni\\SoSe2017\\MachineLearning\\project\\smo.py\u001b[0m in \u001b[0;36msmo\u001b[0;34m(data, label, C, kernel, tol, violationcheckyesorno, kernel_identifier)\u001b[0m\n\u001b[1;32m    239\u001b[0m         \u001b[1;32melse\u001b[0m\u001b[1;33m:\u001b[0m\u001b[1;33m\u001b[0m\u001b[0m\n\u001b[1;32m    240\u001b[0m             \u001b[1;32mfor\u001b[0m \u001b[0mi\u001b[0m \u001b[1;32min\u001b[0m \u001b[1;33m(\u001b[0m\u001b[0mnp\u001b[0m\u001b[1;33m.\u001b[0m\u001b[0mnonzero\u001b[0m\u001b[1;33m(\u001b[0m\u001b[0mI\u001b[0m\u001b[1;33m[\u001b[0m\u001b[1;36m0\u001b[0m\u001b[1;33m,\u001b[0m\u001b[1;33m:\u001b[0m\u001b[1;33m]\u001b[0m\u001b[1;33m)\u001b[0m\u001b[1;33m)\u001b[0m\u001b[1;33m[\u001b[0m\u001b[1;36m0\u001b[0m\u001b[1;33m]\u001b[0m\u001b[1;33m:\u001b[0m\u001b[1;33m\u001b[0m\u001b[0m\n\u001b[0;32m--> 241\u001b[0;31m                 \u001b[0mnumChanged\u001b[0m \u001b[1;33m=\u001b[0m \u001b[0mnumChanged\u001b[0m \u001b[1;33m+\u001b[0m \u001b[0mexamineExample\u001b[0m\u001b[1;33m(\u001b[0m\u001b[0mi\u001b[0m\u001b[1;33m)\u001b[0m\u001b[1;33m\u001b[0m\u001b[0m\n\u001b[0m\u001b[1;32m    242\u001b[0m                 \u001b[1;32mif\u001b[0m \u001b[0mb_up\u001b[0m\u001b[1;33m[\u001b[0m\u001b[1;36m0\u001b[0m\u001b[1;33m]\u001b[0m \u001b[1;33m>\u001b[0m \u001b[0mb_low\u001b[0m\u001b[1;33m[\u001b[0m\u001b[1;36m0\u001b[0m\u001b[1;33m]\u001b[0m \u001b[1;33m-\u001b[0m \u001b[0mtol\u001b[0m\u001b[1;33m:\u001b[0m\u001b[1;33m\u001b[0m\u001b[0m\n\u001b[1;32m    243\u001b[0m                     \u001b[0mnumChanged\u001b[0m \u001b[1;33m=\u001b[0m \u001b[1;36m0\u001b[0m\u001b[1;33m\u001b[0m\u001b[0m\n",
      "\u001b[0;32mC:\\Users\\Lisa\\Documents\\Uni\\SoSe2017\\MachineLearning\\project\\smo.py\u001b[0m in \u001b[0;36mexamineExample\u001b[0;34m(i2)\u001b[0m\n\u001b[1;32m    216\u001b[0m                 \u001b[0mi1\u001b[0m \u001b[1;33m=\u001b[0m \u001b[0mi_up\u001b[0m\u001b[1;33m[\u001b[0m\u001b[1;36m0\u001b[0m\u001b[1;33m]\u001b[0m\u001b[1;33m\u001b[0m\u001b[0m\n\u001b[1;32m    217\u001b[0m \u001b[1;33m\u001b[0m\u001b[0m\n\u001b[0;32m--> 218\u001b[0;31m         \u001b[1;32mif\u001b[0m \u001b[0mtakeStep\u001b[0m\u001b[1;33m(\u001b[0m\u001b[0mi1\u001b[0m\u001b[1;33m,\u001b[0m\u001b[0mi2\u001b[0m\u001b[1;33m)\u001b[0m\u001b[1;33m:\u001b[0m\u001b[1;33m\u001b[0m\u001b[0m\n\u001b[0m\u001b[1;32m    219\u001b[0m             \u001b[1;32mreturn\u001b[0m \u001b[1;36m1\u001b[0m\u001b[1;33m\u001b[0m\u001b[0m\n\u001b[1;32m    220\u001b[0m         \u001b[1;32melse\u001b[0m\u001b[1;33m:\u001b[0m\u001b[1;33m\u001b[0m\u001b[0m\n",
      "\u001b[0;32mC:\\Users\\Lisa\\Documents\\Uni\\SoSe2017\\MachineLearning\\project\\smo.py\u001b[0m in \u001b[0;36mtakeStep\u001b[0;34m(i1, i2)\u001b[0m\n\u001b[1;32m    129\u001b[0m         \u001b[1;31m#avoid for loop in case of standard scalar product kernel\u001b[0m\u001b[1;33m\u001b[0m\u001b[1;33m\u001b[0m\u001b[0m\n\u001b[1;32m    130\u001b[0m         \u001b[1;32mif\u001b[0m \u001b[0mkernel_identifier\u001b[0m \u001b[1;33m==\u001b[0m \u001b[1;34m'standard scalar product'\u001b[0m\u001b[1;33m:\u001b[0m\u001b[1;33m\u001b[0m\u001b[0m\n\u001b[0;32m--> 131\u001b[0;31m             \u001b[0mfcache\u001b[0m\u001b[1;33m[\u001b[0m\u001b[0mind_0\u001b[0m\u001b[1;33m]\u001b[0m \u001b[1;33m+=\u001b[0m \u001b[0my1\u001b[0m\u001b[1;33m*\u001b[0m\u001b[1;33m(\u001b[0m\u001b[0ma1\u001b[0m\u001b[1;33m-\u001b[0m\u001b[0malph1\u001b[0m\u001b[1;33m)\u001b[0m\u001b[1;33m*\u001b[0m\u001b[0mnp\u001b[0m\u001b[1;33m.\u001b[0m\u001b[0mdot\u001b[0m\u001b[1;33m(\u001b[0m\u001b[0mdata\u001b[0m\u001b[1;33m[\u001b[0m\u001b[1;33m:\u001b[0m\u001b[1;33m,\u001b[0m\u001b[0mi1\u001b[0m\u001b[1;33m]\u001b[0m\u001b[1;33m,\u001b[0m\u001b[0mdata\u001b[0m\u001b[1;33m[\u001b[0m\u001b[1;33m:\u001b[0m\u001b[1;33m,\u001b[0m\u001b[0mind_0\u001b[0m\u001b[1;33m]\u001b[0m\u001b[1;33m)\u001b[0m \u001b[1;33m+\u001b[0m \u001b[0my2\u001b[0m\u001b[1;33m*\u001b[0m\u001b[1;33m(\u001b[0m\u001b[0ma2\u001b[0m\u001b[1;33m-\u001b[0m\u001b[0malph2\u001b[0m\u001b[1;33m)\u001b[0m\u001b[1;33m*\u001b[0m\u001b[0mnp\u001b[0m\u001b[1;33m.\u001b[0m\u001b[0mdot\u001b[0m\u001b[1;33m(\u001b[0m\u001b[0mdata\u001b[0m\u001b[1;33m[\u001b[0m\u001b[1;33m:\u001b[0m\u001b[1;33m,\u001b[0m\u001b[0mi2\u001b[0m\u001b[1;33m]\u001b[0m\u001b[1;33m,\u001b[0m\u001b[0mdata\u001b[0m\u001b[1;33m[\u001b[0m\u001b[1;33m:\u001b[0m\u001b[1;33m,\u001b[0m\u001b[0mind_0\u001b[0m\u001b[1;33m]\u001b[0m\u001b[1;33m)\u001b[0m\u001b[1;33m\u001b[0m\u001b[0m\n\u001b[0m\u001b[1;32m    132\u001b[0m         \u001b[1;32melse\u001b[0m\u001b[1;33m:\u001b[0m\u001b[1;33m\u001b[0m\u001b[0m\n\u001b[1;32m    133\u001b[0m             \u001b[1;32mfor\u001b[0m \u001b[0mi\u001b[0m \u001b[1;32min\u001b[0m \u001b[0mind_0\u001b[0m\u001b[1;33m:\u001b[0m\u001b[1;33m\u001b[0m\u001b[0m\n",
      "\u001b[0;31mKeyboardInterrupt\u001b[0m: "
     ]
    }
   ],
   "source": [
    "# call classifier with pickle.load\n",
    "ecoc_labels, list_supp_ind, list_alpha, list_b, list_kernel, code_words=pickle.load(open(\"trained_ecoc_\"+str(number_of_im)+\".dat\"), \"rb\")\n",
    "\n"
   ]
  },
  {
   "cell_type": "markdown",
   "metadata": {},
   "source": [
    "### Checking the Output of ECOC predict"
   ]
  },
  {
   "cell_type": "code",
   "execution_count": 81,
   "metadata": {
    "collapsed": false
   },
   "outputs": [
    {
     "name": "stdout",
     "output_type": "stream",
     "text": [
      "20\n",
      "predicted labels:  ['0' '0' '6' '0' '0' '4' '9' '2' '7' '1' '9' '9' '3' '9' '8' '2' '6' '4'\n",
      " '1' '3']\n",
      "<class 'numpy.int64'>\n",
      "<class 'numpy.str_'>\n"
     ]
    },
    {
     "data": {
      "text/plain": [
       "16"
      ]
     },
     "execution_count": 81,
     "metadata": {},
     "output_type": "execute_result"
    }
   ],
   "source": [
    "# \"unknown\" data to be classified\n",
    "number_of_test_data = 50\n",
    "test_data = train_images[number_of_im:number_of_im+number_of_test_data]\n",
    "\n",
    "# call predict function\n",
    "predicted_labels_test=predict_ecoc(train_images[number_of_im:number_of_im+20], train_images[:number_of_im], ecoc_labels, list_supp_ind, list_alpha, list_b, list_kernel, code_words)\n",
    "predicted_labels_test = predicted_labels_test.astype(int)\n",
    "# print(\"predicted labels: \", predicted_labels_test)\n",
    "\n",
    "# get actual labels\n",
    "train_labels_test=train_labels[number_of_im:number_of_im+20]\n",
    "train_labels_test = train_labels_test.astype(int)\n",
    "# print(\"actual labels: \", train_labels_test)\n",
    "\n",
    "print(\"number of correctly classified labels: \", sum(predicted_labels_test.astype(int)==train_labels_test.astype(int)), \n",
    "      \" out of \", number_of_test_data);\n",
    "\n",
    "# check if there is are a couple of classifiers who make more mistakes than others\n",
    "# then we could possibly change some of the parameters\n"
   ]
  },
  {
   "cell_type": "code",
   "execution_count": 19,
   "metadata": {
    "collapsed": true
   },
   "outputs": [],
   "source": []
  },
  {
   "cell_type": "code",
   "execution_count": 13,
   "metadata": {
    "collapsed": true
   },
   "outputs": [],
   "source": []
  },
  {
   "cell_type": "code",
   "execution_count": 112,
   "metadata": {
    "collapsed": false
   },
   "outputs": [],
   "source": []
  },
  {
   "cell_type": "code",
   "execution_count": 113,
   "metadata": {
    "collapsed": false
   },
   "outputs": [],
   "source": [
    "\n"
   ]
  },
  {
   "cell_type": "code",
   "execution_count": null,
   "metadata": {
    "collapsed": false
   },
   "outputs": [],
   "source": []
  },
  {
   "cell_type": "code",
   "execution_count": null,
   "metadata": {
    "collapsed": true
   },
   "outputs": [],
   "source": []
  }
 ],
 "metadata": {
  "kernelspec": {
   "display_name": "Python 3",
   "language": "python",
   "name": "python3"
  },
  "language_info": {
   "codemirror_mode": {
    "name": "ipython",
    "version": 3
   },
   "file_extension": ".py",
   "mimetype": "text/x-python",
   "name": "python",
   "nbconvert_exporter": "python",
   "pygments_lexer": "ipython3",
   "version": "3.6.0"
  }
 },
 "nbformat": 4,
 "nbformat_minor": 2
}
