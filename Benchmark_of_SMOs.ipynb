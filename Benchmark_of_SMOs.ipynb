{
 "cells": [
  {
   "cell_type": "markdown",
   "metadata": {},
   "source": [
    "We let the scikit-learn SVM solver compete with our implementation of Platt's original SMO algorithm, the SMO with WSS 1 and WSS 2. As test data, we take different numbers of images from our data set with labels in $\\{-1,1\\}$ assigned by the first classifier of ECOC. As kernels, we test both the standard scalar product and the Gaussian kernel."
   ]
  },
  {
   "cell_type": "code",
   "execution_count": null,
   "metadata": {
    "collapsed": true
   },
   "outputs": [],
   "source": [
    "import numpy as np\n",
    "import scipy\n",
    "from sklearn.svm import SVC\n",
    "import pickle # to save data\n",
    "import pandas as pd # data processing, CSV file I/O (e.g. pd.read_csv)\n",
    "from sklearn.metrics.pairwise import pairwise_kernels\n",
    "from scipy.optimize import minimize\n",
    "from scipy.spatial.distance import hamming\n",
    "import matplotlib.pyplot as plt\n",
    "%matplotlib inline"
   ]
  },
  {
   "cell_type": "code",
   "execution_count": null,
   "metadata": {
    "collapsed": false
   },
   "outputs": [],
   "source": [
    "train = pd.read_csv('Data/train.csv')\n",
    "#train = pd.read_csv('Data/train.csv', nrows = 42000)\n",
    "images = [\"%s%s\" %(\"pixel\",pixel_no) for pixel_no in range(0,28**2)]\n",
    "train_images = np.array(train[images], dtype=np.float)/100\n",
    "train_labels = np.array(train['label'])"
   ]
  },
  {
   "cell_type": "code",
   "execution_count": null,
   "metadata": {
    "collapsed": true
   },
   "outputs": [],
   "source": [
    "code_words=np.array([\n",
    "        [ 1,  1, -1, -1, -1, -1,  1, -1,  1, -1, -1,  1,  1, -1,  1],\n",
    "        [-1, -1,  1,  1,  1,  1, -1,  1, -1,  1,  1, -1, -1,  1, -1],\n",
    "        [ 1, -1, -1,  1, -1, -1, -1,  1,  1,  1,  1, -1,  1, -1,  1],\n",
    "        [-1, -1,  1,  1, -1,  1,  1,  1, -1, -1, -1, -1,  1, -1,  1],\n",
    "        [ 1,  1,  1, -1,  1, -1,  1,  1, -1, -1,  1, -1, -1, -1,  1],\n",
    "        [-1,  1, -1, -1,  1,  1, -1,  1,  1,  1, -1, -1, -1, -1,  1],\n",
    "        [ 1, -1,  1,  1,  1, -1, -1, -1, -1,  1, -1,  1, -1, -1,  1],\n",
    "        [-1, -1, -1,  1,  1,  1,  1, -1,  1, -1,  1,  1, -1, -1,  1],\n",
    "        [ 1,  1, -1,  1, -1,  1,  1, -1, -1,  1, -1, -1, -1,  1,  1],\n",
    "        [-1,  1,  1,  1, -1, -1, -1, -1,  1, -1,  1, -1, -1,  1,  1]])"
   ]
  },
  {
   "cell_type": "code",
   "execution_count": null,
   "metadata": {
    "collapsed": false
   },
   "outputs": [],
   "source": [
    "classifier = 0\n",
    "bench_labels = np.empty(42000).astype(int)\n",
    "for j in range(42000):\n",
    "    bench_labels[j]=code_words[train_labels[j]][classifier]"
   ]
  },
  {
   "cell_type": "code",
   "execution_count": 13,
   "metadata": {
    "collapsed": false
   },
   "outputs": [],
   "source": [
    "no_train = 100\n",
    "train = train_images[:no_train]\n",
    "train_l = train_labels[:no_train]\n",
    "bench_l = bench_labels[:no_train]\n",
    "lambda_opt = 1./(400*np.array([18,18,18,18,17,18,16,16,16,18,18,20,20,18,18])) #optimal lambdas found via cross validation\n",
    "lambd = lambda_opt[classifier]\n",
    "C_list = 1./(2*len(train)*lambda_opt)  #compute optimal C from optimal lambda\n",
    "C = C_list[classifier]\n",
    "sigma_list = [0.005, 0.005, 0.005, 0.005, 0.005, 0.005, 0.005, 0.005, 0.005, 0.0025, 0.005, 0.005, 0.005, 0.0025, 0.005] #optimal sigmas found via cross validation\n",
    "sigma = sigma_list[classifier]"
   ]
  },
  {
   "cell_type": "code",
   "execution_count": 14,
   "metadata": {
    "collapsed": true
   },
   "outputs": [],
   "source": [
    "tol = 1e-3"
   ]
  },
  {
   "cell_type": "markdown",
   "metadata": {},
   "source": [
    "1.) First the Gaussian kernel."
   ]
  },
  {
   "cell_type": "code",
   "execution_count": 15,
   "metadata": {
    "collapsed": true
   },
   "outputs": [],
   "source": [
    "def kernel(x1, x2):\n",
    "    return np.exp(-sigma*np.linalg.norm(x1-x2)**2)"
   ]
  },
  {
   "cell_type": "markdown",
   "metadata": {},
   "source": [
    "1.1) First Platt's SMO."
   ]
  },
  {
   "cell_type": "code",
   "execution_count": 17,
   "metadata": {
    "collapsed": false
   },
   "outputs": [
    {
     "name": "stdout",
     "output_type": "stream",
     "text": [
      "Wall time: 1.35 s\n"
     ]
    }
   ],
   "source": [
    "%%time\n",
    "from smo_platt import smo\n",
    "smo(np.transpose(train),bench_l,C,kernel,tol,'no', kernel_identifier = 'gaussian kernel')"
   ]
  },
  {
   "cell_type": "markdown",
   "metadata": {},
   "source": [
    "1.2) Now WSS1."
   ]
  },
  {
   "cell_type": "code",
   "execution_count": null,
   "metadata": {
    "collapsed": false
   },
   "outputs": [],
   "source": [
    "%%time\n",
    "from smo_wss1 import smo\n",
    "smo(train,bench_l,C,kernel,tol,'no', kernel_identifier = 'gaussian kernel')"
   ]
  },
  {
   "cell_type": "markdown",
   "metadata": {},
   "source": [
    "1.3) Now WSS1 without K caching."
   ]
  },
  {
   "cell_type": "code",
   "execution_count": null,
   "metadata": {
    "collapsed": false
   },
   "outputs": [],
   "source": [
    "%%time\n",
    "from smo_wss1_noK import smo\n",
    "print(smo(train,bench_l,C,kernel,tol,'no', kernel_identifier = 'gaussian kernel'))"
   ]
  },
  {
   "cell_type": "markdown",
   "metadata": {},
   "source": [
    "1.4) Now WSS2."
   ]
  },
  {
   "cell_type": "code",
   "execution_count": null,
   "metadata": {
    "collapsed": false
   },
   "outputs": [],
   "source": [
    "%%time\n",
    "from smo_wss2 import smo\n",
    "smo(train,bench_l,C,kernel,tol,'no', kernel_identifier = 'gaussian kernel')"
   ]
  },
  {
   "cell_type": "markdown",
   "metadata": {},
   "source": [
    "1.5) Finally, the scikit-learn solver."
   ]
  },
  {
   "cell_type": "code",
   "execution_count": null,
   "metadata": {
    "collapsed": false
   },
   "outputs": [],
   "source": [
    "%%time\n",
    "svm = SVC(C=C, kernel='rbf', gamma=sigma)\n",
    "svm.fit(train, bench_l)\n",
    "alphatimeslabeldense = svm.dual_coef_"
   ]
  },
  {
   "cell_type": "markdown",
   "metadata": {},
   "source": [
    "2.) Now the standard scalar product as kernel."
   ]
  },
  {
   "cell_type": "code",
   "execution_count": null,
   "metadata": {
    "collapsed": true
   },
   "outputs": [],
   "source": [
    "def kernel(x1, x2):\n",
    "    return np.dot(x1,x2)"
   ]
  },
  {
   "cell_type": "markdown",
   "metadata": {},
   "source": [
    "2.1) First Platt's SMO."
   ]
  },
  {
   "cell_type": "code",
   "execution_count": null,
   "metadata": {
    "collapsed": false
   },
   "outputs": [],
   "source": [
    "%%time\n",
    "from smo_platt import smo\n",
    "smo(np.transpose(train),bench_l,C,kernel,tol,'no', kernel_identifier = 'standard scalar product')"
   ]
  },
  {
   "cell_type": "markdown",
   "metadata": {},
   "source": [
    "2.2) Now WSS1 with Gramian caching."
   ]
  },
  {
   "cell_type": "code",
   "execution_count": null,
   "metadata": {
    "collapsed": false
   },
   "outputs": [],
   "source": [
    "%%time\n",
    "from smo_wss1 import smo\n",
    "smo(train,bench_l,C,kernel,tol,'no', kernel_identifier = 'standard scalar product')"
   ]
  },
  {
   "cell_type": "markdown",
   "metadata": {},
   "source": [
    "2.3) Now WSS1 without Gramian caching."
   ]
  },
  {
   "cell_type": "code",
   "execution_count": null,
   "metadata": {
    "collapsed": false
   },
   "outputs": [],
   "source": [
    "%%time\n",
    "from smo_wss1_noK import smo\n",
    "smo(train,bench_l,C,kernel,tol,'no', kernel_identifier = 'standard scalar product')"
   ]
  },
  {
   "cell_type": "markdown",
   "metadata": {},
   "source": [
    "2.3) Now WSS2."
   ]
  },
  {
   "cell_type": "code",
   "execution_count": null,
   "metadata": {
    "collapsed": false
   },
   "outputs": [],
   "source": [
    "%%time\n",
    "from smo_wss2 import smo\n",
    "smo(train,bench_l,C,kernel,tol,'no', kernel_identifier = 'standard scalar product')"
   ]
  },
  {
   "cell_type": "markdown",
   "metadata": {},
   "source": [
    "2.4) Finally, the scikit-learn solver."
   ]
  },
  {
   "cell_type": "code",
   "execution_count": null,
   "metadata": {
    "collapsed": false
   },
   "outputs": [],
   "source": [
    "%%time\n",
    "svm = SVC(C=C, kernel='linear')\n",
    "svm.fit(train, bench_l)\n",
    "alphatimeslabels = svm.dual_coef_"
   ]
  },
  {
   "cell_type": "markdown",
   "metadata": {},
   "source": [
    "## Now we loop the above for no_train from 100 to 2000 to generate a plot."
   ]
  },
  {
   "cell_type": "code",
   "execution_count": 1,
   "metadata": {
    "collapsed": true
   },
   "outputs": [],
   "source": [
    "import numpy as np\n",
    "import scipy\n",
    "from sklearn.svm import SVC\n",
    "import pickle # to save data\n",
    "import pandas as pd # data processing, CSV file I/O (e.g. pd.read_csv)\n",
    "from sklearn.metrics.pairwise import pairwise_kernels\n",
    "from scipy.optimize import minimize\n",
    "from scipy.spatial.distance import hamming\n",
    "import matplotlib.pyplot as plt\n",
    "%matplotlib inline\n",
    "import timeit\n",
    "\n"
   ]
  },
  {
   "cell_type": "code",
   "execution_count": 2,
   "metadata": {
    "collapsed": true
   },
   "outputs": [],
   "source": [
    "train = pd.read_csv('Data/train.csv')\n",
    "images = [\"%s%s\" %(\"pixel\",pixel_no) for pixel_no in range(0,28**2)]\n",
    "train_images = np.array(train[images], dtype=np.float)/100\n",
    "train_labels = np.array(train['label'])"
   ]
  },
  {
   "cell_type": "code",
   "execution_count": 3,
   "metadata": {
    "collapsed": true
   },
   "outputs": [],
   "source": [
    "code_words=np.array([\n",
    "        [ 1,  1, -1, -1, -1, -1,  1, -1,  1, -1, -1,  1,  1, -1,  1],\n",
    "        [-1, -1,  1,  1,  1,  1, -1,  1, -1,  1,  1, -1, -1,  1, -1],\n",
    "        [ 1, -1, -1,  1, -1, -1, -1,  1,  1,  1,  1, -1,  1, -1,  1],\n",
    "        [-1, -1,  1,  1, -1,  1,  1,  1, -1, -1, -1, -1,  1, -1,  1],\n",
    "        [ 1,  1,  1, -1,  1, -1,  1,  1, -1, -1,  1, -1, -1, -1,  1],\n",
    "        [-1,  1, -1, -1,  1,  1, -1,  1,  1,  1, -1, -1, -1, -1,  1],\n",
    "        [ 1, -1,  1,  1,  1, -1, -1, -1, -1,  1, -1,  1, -1, -1,  1],\n",
    "        [-1, -1, -1,  1,  1,  1,  1, -1,  1, -1,  1,  1, -1, -1,  1],\n",
    "        [ 1,  1, -1,  1, -1,  1,  1, -1, -1,  1, -1, -1, -1,  1,  1],\n",
    "        [-1,  1,  1,  1, -1, -1, -1, -1,  1, -1,  1, -1, -1,  1,  1]])"
   ]
  },
  {
   "cell_type": "code",
   "execution_count": 4,
   "metadata": {
    "collapsed": true
   },
   "outputs": [],
   "source": [
    "classifier = 0\n",
    "bench_labels = np.empty(42000).astype(int)\n",
    "for j in range(42000):\n",
    "    bench_labels[j]=code_words[train_labels[j]][classifier]"
   ]
  },
  {
   "cell_type": "code",
   "execution_count": 5,
   "metadata": {
    "collapsed": true
   },
   "outputs": [],
   "source": [
    "tol = 1e-3"
   ]
  },
  {
   "cell_type": "code",
   "execution_count": 22,
   "metadata": {
    "collapsed": false
   },
   "outputs": [],
   "source": [
    "#no_train_arr = np.arange(100,1100,100)\n",
    "no_train_arr = np.arange(100,300,100)\n",
    "\n",
    "plot_array_gauss = np.empty((5,np.size(no_train_arr)))\n",
    "plot_array_ssp = np.empty((5,np.size(no_train_arr)))\n",
    "\n",
    "\n",
    "# Gaussian kernel\n",
    "notraincounter = -1\n",
    "def kernel(x1, x2):\n",
    "        return np.exp(-sigma*np.linalg.norm(x1-x2)**2)\n",
    "    \n",
    "for no_train in no_train_arr:\n",
    "    notraincounter += 1\n",
    "    train = train_images[:no_train]\n",
    "    train_l = train_labels[:no_train]\n",
    "    bench_l = bench_labels[:no_train]\n",
    "    lambda_opt = 1./(400*np.array([18,18,18,18,17,18,16,16,16,18,18,20,20,18,18])) #optimal lambdas found via cross validation\n",
    "    lambd = lambda_opt[classifier]\n",
    "    C_list = 1./(2*len(train)*lambda_opt)  #compute optimal C from optimal lambda\n",
    "    C = C_list[classifier]\n",
    "    sigma_list = [0.005, 0.005, 0.005, 0.005, 0.005, 0.005, 0.005, 0.005, 0.005, 0.0025, 0.005, 0.005, 0.005, 0.0025, 0.005] #optimal sigmas found via cross validation\n",
    "    sigma = sigma_list[classifier]\n",
    "    \n",
    "    \n",
    "    # scikit-learn\n",
    "    svm = SVC(C=C, kernel='rbf', gamma=sigma)\n",
    "    start = timeit.default_timer()\n",
    "    svm.fit(train, bench_l)\n",
    "    alphatimeslabeldense = svm.dual_coef_\n",
    "    stop = timeit.default_timer()\n",
    "    plot_array_gauss[0,notraincounter] = stop - start \n",
    "    \n",
    "    \n",
    "    # wss1\n",
    "    from smo_wss1 import smo\n",
    "    start = timeit.default_timer()\n",
    "    smo(train,bench_l,C,kernel,tol,'no', kernel_identifier = 'gaussian kernel')\n",
    "    stop = timeit.default_timer()\n",
    "    plot_array_gauss[1,notraincounter] = stop - start\n",
    "    \n",
    "    # wss1 without K\n",
    "    from smo_wss1_noK import smo\n",
    "    start = timeit.default_timer()\n",
    "    smo(train,bench_l,C,kernel,tol,'no', kernel_identifier = 'gaussian kernel')\n",
    "    stop = timeit.default_timer()\n",
    "    plot_array_gauss[2,notraincounter] = stop - start\n",
    "    \n",
    "    # wss2\n",
    "    from smo_wss2 import smo\n",
    "    start = timeit.default_timer()\n",
    "    smo(train,bench_l,C,kernel,tol,'no', kernel_identifier = 'gaussian kernel')\n",
    "    stop = timeit.default_timer()\n",
    "    plot_array_gauss[3,notraincounter] = stop - start\n",
    "    \n",
    "    # Platt\n",
    "    from smo_platt import smo\n",
    "    start = timeit.default_timer()\n",
    "    smo(np.transpose(train),bench_l,C,kernel,tol,'no', kernel_identifier = 'gaussian kernel')\n",
    "    stop = timeit.default_timer()\n",
    "    plot_array_gauss[4,notraincounter] = stop - start\n",
    "\n",
    "    \n",
    "# standard scalar product\n",
    "notraincounter = -1\n",
    "def kernel(x1, x2):\n",
    "        return np.dot(x1,x2)\n",
    "    \n",
    "for no_train in no_train_arr:\n",
    "    notraincounter += 1\n",
    "    train = train_images[:no_train]\n",
    "    train_l = train_labels[:no_train]\n",
    "    bench_l = bench_labels[:no_train]\n",
    "    lambda_opt = 1./(400*np.array([18,18,18,18,17,18,16,16,16,18,18,20,20,18,18])) #optimal lambdas found via cross validation\n",
    "    lambd = lambda_opt[classifier]\n",
    "    C_list = 1./(2*len(train)*lambda_opt)  #compute optimal C from optimal lambda\n",
    "    C = C_list[classifier]\n",
    "    \n",
    "    \n",
    "    # scikit-learn\n",
    "    svm = SVC(C=C, kernel='linear')\n",
    "    start = timeit.default_timer()\n",
    "    svm.fit(train, bench_l)\n",
    "    alphatimeslabels = svm.dual_coef_\n",
    "    stop = timeit.default_timer()\n",
    "    plot_array_ssp[0,notraincounter] = stop - start\n",
    "    \n",
    "    # wss1\n",
    "    from smo_wss1 import smo\n",
    "    start = timeit.default_timer()\n",
    "    smo(train,bench_l,C,kernel,tol,'no', kernel_identifier = 'standard scalar product')\n",
    "    stop = timeit.default_timer()\n",
    "    plot_array_ssp[1,notraincounter] = stop - start\n",
    "    \n",
    "    # wss1 without K\n",
    "    from smo_wss1_noK import smo\n",
    "    start = timeit.default_timer()\n",
    "    smo(train,bench_l,C,kernel,tol,'no', kernel_identifier = 'standard scalar product')\n",
    "    stop = timeit.default_timer()\n",
    "    plot_array_ssp[2,notraincounter] = stop - start\n",
    "    \n",
    "    # wss2\n",
    "    from smo_wss2 import smo\n",
    "    start = timeit.default_timer()\n",
    "    smo(train,bench_l,C,kernel,tol,'no', kernel_identifier = 'standard scalar product')\n",
    "    stop = timeit.default_timer()\n",
    "    plot_array_ssp[3,notraincounter] = stop - start\n",
    "    \n",
    "    # Platt\n",
    "    from smo_platt import smo\n",
    "    start = timeit.default_timer()\n",
    "    smo(np.transpose(train),bench_l,C,kernel,tol,'no', kernel_identifier = 'standard scalar product')\n",
    "    stop = timeit.default_timer()\n",
    "    plot_array_ssp[4,notraincounter] = stop - start\n",
    "    \n",
    "np.savetxt('plot_array_gauss.txt', plot_array_gauss, delimiter=',')\n",
    "np.savetxt('plot_array_ssp.txt', plot_array_ssp, delimiter=',')"
   ]
  },
  {
   "cell_type": "code",
   "execution_count": null,
   "metadata": {
    "collapsed": true
   },
   "outputs": [],
   "source": []
  }
 ],
 "metadata": {
  "kernelspec": {
   "display_name": "Python 3",
   "language": "python",
   "name": "python3"
  },
  "language_info": {
   "codemirror_mode": {
    "name": "ipython",
    "version": 3
   },
   "file_extension": ".py",
   "mimetype": "text/x-python",
   "name": "python",
   "nbconvert_exporter": "python",
   "pygments_lexer": "ipython3",
   "version": "3.6.0"
  }
 },
 "nbformat": 4,
 "nbformat_minor": 2
}
