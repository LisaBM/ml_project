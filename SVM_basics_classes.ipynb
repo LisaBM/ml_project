{
 "cells": [
  {
   "cell_type": "code",
   "execution_count": 1,
   "metadata": {},
   "outputs": [],
   "source": [
    "import numpy as np\n",
    "import scipy\n",
    "import pandas as pd # data processing, CSV file I/O (e.g. pd.read_csv)\n",
    "from sklearn.metrics.pairwise import pairwise_kernels\n",
    "from scipy.optimize import minimize\n",
    "import cvxopt\n",
    "from cvxopt import matrix, solvers\n",
    "import matplotlib.pyplot as plt\n",
    "%matplotlib inline"
   ]
  },
  {
   "cell_type": "code",
   "execution_count": 2,
   "metadata": {
    "collapsed": true
   },
   "outputs": [],
   "source": [
    "train = pd.read_csv('C:/Users/LMatt/OneDrive/Dokumente/Mathe/Machine Learning/Projekt/digits_train.csv')"
   ]
  },
  {
   "cell_type": "code",
   "execution_count": 3,
   "metadata": {},
   "outputs": [
    {
     "data": {
      "text/plain": [
       "42000"
      ]
     },
     "execution_count": 3,
     "metadata": {},
     "output_type": "execute_result"
    }
   ],
   "source": [
    "images = [\"%s%s\" %(\"pixel\",pixel_no) for pixel_no in range(0,28**2)]\n",
    "train_images = np.array(train[images], dtype=np.float)/100\n",
    "#dimensionserhoehung, damit am ende b = 0\n",
    "train_images = np.concatenate((train_images, np.ones((len(train_images),1))), axis = 1)\n",
    "\n",
    "train_labels = np.array(train['label'])\n",
    "label0 = np.array([1 if i==0 else -1 for i in train_labels])\n",
    "len(train_images)"
   ]
  },
  {
   "cell_type": "code",
   "execution_count": 4,
   "metadata": {
    "scrolled": true
   },
   "outputs": [
    {
     "data": {
      "text/plain": [
       "28.478958899510353"
      ]
     },
     "execution_count": 4,
     "metadata": {},
     "output_type": "execute_result"
    }
   ],
   "source": [
    "#mal gucken, wie weit die Datenpunkte so ungefähr auseinander liegen, damit wir wissen wie groß sigma sein muss\n",
    "np.linalg.norm(train_images[130] - train_images[6])"
   ]
  },
  {
   "cell_type": "code",
   "execution_count": 5,
   "metadata": {},
   "outputs": [],
   "source": [
    "def gaussian_kernel(x1, x2, sigma):\n",
    "    return np.exp(-sigma*np.linalg.norm(x1-x2)**2)\n",
    "\n",
    "def gk(x1,x2):\n",
    "    sigma = float(1)/100\n",
    "    return gaussian_kernel(x1, x2, sigma)\n",
    "\n",
    "def scalar_product(x1, x2):\n",
    "    return np.dot(x1, x2)"
   ]
  },
  {
   "cell_type": "code",
   "execution_count": 6,
   "metadata": {},
   "outputs": [
    {
     "data": {
      "text/plain": [
       "[<matplotlib.lines.Line2D at 0x30680208>]"
      ]
     },
     "execution_count": 6,
     "metadata": {},
     "output_type": "execute_result"
    },
    {
     "data": {
      "image/png": "[encoded data removed]",
      "text/plain": [
       "<matplotlib.figure.Figure at 0xad71828>"
      ]
     },
     "metadata": {},
     "output_type": "display_data"
    }
   ],
   "source": [
    "plt.figure()\n",
    "x = np.linspace(-50, 50, 100)\n",
    "y = [gk(0,i) for i in x]\n",
    "plt.plot(x, y)"
   ]
  },
  {
   "cell_type": "code",
   "execution_count": 7,
   "metadata": {},
   "outputs": [],
   "source": [
    "def minimize_Lagrangian(training_data, training_labels, penalty, kernel):\n",
    "    no_samples = len(training_data)\n",
    "    t = np.diag(training_labels[:no_samples])\n",
    "    tm = -t\n",
    "    K = matrix(pairwise_kernels(training_data, metric = kernel),tc='d')\n",
    "    p = matrix(training_labels,tc='d')\n",
    "    A = matrix(1., ( 1,no_samples),tc='d')\n",
    "    b = matrix(0.,(1,1),tc='d')\n",
    "    G = matrix(np.concatenate((tm,t)),tc='d')\n",
    "    h = matrix(np.concatenate((matrix(0.,(no_samples,1 )), matrix(float(penalty),(no_samples,1)))),tc='d')\n",
    "    sol = solvers.qp(-K, p, G, h, A, b)\n",
    "    x = np.reshape(np.array(sol['x']), no_samples)\n",
    "    a = np.array([x[i]*training_labels[i] for i in range(no_samples)])\n",
    "    return a"
   ]
  },
  {
   "cell_type": "code",
   "execution_count": 8,
   "metadata": {},
   "outputs": [],
   "source": [
    "def assemble_kernelmatrix(data, data2 = None, kernel = scalar_product):\n",
    "    if data2 == None:\n",
    "        K = pairwise_kernels(data, metric = kernel)\n",
    "    else:\n",
    "        K = pairwise_kernels(data2, data, metric = kernel)\n",
    "    return K\n",
    "\n",
    "def minimize_Lagrangian2(training_data, training_labels, penalty, kernel, kernelmatrix):\n",
    "    no_samples = len(training_data)\n",
    "    training_labels = matrix(training_labels, (no_samples, 1))\n",
    "    K = kernelmatrix\n",
    "    T = np.dot(training_labels, np.transpose(training_labels))\n",
    "    Q = matrix(np.multiply(K, T), (no_samples, no_samples), tc='d')\n",
    "    A = matrix(training_labels, ( 1, no_samples),tc='d')\n",
    "    print(np.shape(A))\n",
    "    p = matrix(-1., ( no_samples, 1),tc='d')\n",
    "    b = matrix(0.,(1,1),tc='d')\n",
    "    G = matrix(np.concatenate((-np.identity(no_samples),np.identity(no_samples))),tc='d')\n",
    "    h = matrix(np.concatenate((matrix(0.,(no_samples,1 )), matrix(float(penalty),(no_samples,1)))),tc='d')\n",
    "    sol = solvers.qp(Q, p, G, h, A, b)\n",
    "    a = np.reshape(np.array(sol['x']), no_samples)\n",
    "    return a "
   ]
  },
  {
   "cell_type": "code",
   "execution_count": 9,
   "metadata": {
    "collapsed": true
   },
   "outputs": [],
   "source": [
    "def minimize_Lagrangian3(training_data, training_labels, penalty, kernel):\n",
    "\n",
    "    no_samples = len(training_data)\n",
    "    K = pairwise_kernels(training_data, metric = kernel)\n",
    "    def Lagrangian(x):\n",
    "        return 0.5*np.dot(np.dot(np.transpose(x),Q),x) - np.dot(np.transpose(p),x)\n",
    "    T = np.dot(training_labels, np.transpose(training_labels))\n",
    "    Q = np.multiply(K, T)\n",
    "    A = training_labels\n",
    "    p = np.ones(no_samples)\n",
    "    b = np.array(0.)\n",
    "    G = np.concatenate((-np.identity(no_samples),np.identity(no_samples)))\n",
    "    h = np.concatenate((np.zeros(no_samples), penalty*np.ones(no_samples)))\n",
    "    '''K = np.array(K)\n",
    "    q = np.array(q)\n",
    "    A = np.array(A)\n",
    "    b = np.array(b)\n",
    "    G = np.array(G)\n",
    "    h = np.array(h)'''\n",
    "    a0 = np.zeros((no_samples, 1))\n",
    "    constraint1 = {'type': 'ineq',\n",
    "                  'fun': lambda x: -np.dot(G,x)+h,\n",
    "                  'jac': lambda x: -G}\n",
    "    constraint2 ={'type': 'eq',\n",
    "                 'fun': lambda x: np.dot(A,x)+b,\n",
    "                 'jac': lambda x: A}\n",
    "    options = {'maxiter': 100000}\n",
    "    a=scipy.optimize.minimize(Lagrangian, a0, constraints=[constraint1, constraint2], jac = lambda x: np.dot(Q,x), hess = lambda x: Q,method = 'Powell', options = options)\n",
    "    return a\n"
   ]
  }
 ],
 "metadata": {
  "anaconda-cloud": {},
  "kernelspec": {
   "display_name": "Python 3",
   "language": "python",
   "name": "python3"
  },
  "language_info": {
   "codemirror_mode": {
    "name": "ipython",
    "version": 3
   },
   "file_extension": ".py",
   "mimetype": "text/x-python",
   "name": "python",
   "nbconvert_exporter": "python",
   "pygments_lexer": "ipython3",
   "version": "3.6.1"
  }
 },
 "nbformat": 4,
 "nbformat_minor": 1
}
