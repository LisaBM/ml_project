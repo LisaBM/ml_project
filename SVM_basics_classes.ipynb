{
 "cells": [
  {
   "cell_type": "code",
   "execution_count": 1,
   "metadata": {
    "collapsed": false
   },
   "outputs": [],
   "source": [
    "import numpy as np\n",
    "import scipy\n",
    "import pandas as pd # data processing, CSV file I/O (e.g. pd.read_csv)\n",
    "from sklearn.metrics.pairwise import pairwise_kernels\n",
    "from scipy.optimize import minimize\n",
    "import cvxopt\n",
    "from cvxopt import matrix, solvers\n",
    "import matplotlib.pyplot as plt\n",
    "%matplotlib inline"
   ]
  },
  {
   "cell_type": "code",
   "execution_count": 2,
   "metadata": {
    "collapsed": true
   },
   "outputs": [],
   "source": [
    "train = pd.read_csv('C:/Users/LMatt/OneDrive/Dokumente/Mathe/Machine Learning/Projekt/digits_train.csv')"
   ]
  },
  {
   "cell_type": "code",
   "execution_count": 3,
   "metadata": {
    "collapsed": false
   },
   "outputs": [
    {
     "data": {
      "text/plain": [
       "42000"
      ]
     },
     "execution_count": 3,
     "metadata": {},
     "output_type": "execute_result"
    }
   ],
   "source": [
    "images = [\"%s%s\" %(\"pixel\",pixel_no) for pixel_no in range(0,28**2)]\n",
    "train_images = np.array(train[images], dtype=np.float)/100\n",
    "#dimensionserhoehung, damit am ende b = 0\n",
    "train_images = np.concatenate((train_images, np.ones((len(train_images),1))), axis = 1)\n",
    "\n",
    "train_labels = np.array(train['label'])\n",
    "label0 = np.array([1 if i==0 else -1 for i in train_labels])\n",
    "len(train_images)"
   ]
  },
  {
   "cell_type": "code",
   "execution_count": 4,
   "metadata": {
    "collapsed": false,
    "scrolled": true
   },
   "outputs": [
    {
     "data": {
      "text/plain": [
       "28.478958899510353"
      ]
     },
     "execution_count": 4,
     "metadata": {},
     "output_type": "execute_result"
    }
   ],
   "source": [
    "#mal gucken, wie weit die Datenpunkte so ungefähr auseinander liegen, damit wir wissen wie groß sigma sein muss\n",
    "np.linalg.norm(train_images[130] - train_images[6])"
   ]
  },
  {
   "cell_type": "code",
   "execution_count": 59,
   "metadata": {
    "collapsed": false
   },
   "outputs": [],
   "source": [
    "def gaussian_kernel(x1, x2, sigma):\n",
    "    return np.exp(-sigma*np.linalg.norm(x1-x2)**2)\n",
    "\n",
    "def gk(x1,x2):\n",
    "    sigma = float(1)/100\n",
    "    return gaussian_kernel(x1, x2, sigma)\n",
    "\n",
    "def scalar_product(x1, x2):\n",
    "    return np.dot(x1, x2)"
   ]
  },
  {
   "cell_type": "code",
   "execution_count": 60,
   "metadata": {
    "collapsed": false
   },
   "outputs": [
    {
     "data": {
      "text/plain": [
       "[<matplotlib.lines.Line2D at 0x28f1eb38>]"
      ]
     },
     "execution_count": 60,
     "metadata": {},
     "output_type": "execute_result"
    },
    {
     "data": {
      "image/png": "[encoded data removed]",
      "text/plain": [
       "<matplotlib.figure.Figure at 0x2917ab00>"
      ]
     },
     "metadata": {},
     "output_type": "display_data"
    }
   ],
   "source": [
    "plt.figure()\n",
    "x = np.linspace(-50, 50, 100)\n",
    "y = [gk(0,i) for i in x]\n",
    "plt.plot(x, y)"
   ]
  },
  {
   "cell_type": "code",
   "execution_count": 7,
   "metadata": {
    "collapsed": false
   },
   "outputs": [],
   "source": [
    "def minimize_Lagrangian(training_data, training_labels, penalty, kernel):\n",
    "    no_samples = len(training_data)\n",
    "    t = np.diag(training_labels[:no_samples])\n",
    "    tm = -t\n",
    "    K = matrix(pairwise_kernels(training_data, metric = kernel),tc='d')\n",
    "    p = matrix(training_labels,tc='d')\n",
    "    A = matrix(1., ( 1,no_samples),tc='d')\n",
    "    b = matrix(0.,(1,1),tc='d')\n",
    "    G = matrix(np.concatenate((tm,t)),tc='d')\n",
    "    h = matrix(np.concatenate((matrix(0.,(no_samples,1 )), matrix(float(penalty),(no_samples,1)))),tc='d')\n",
    "    sol = solvers.qp(-K, p, G, h, A, b)\n",
    "    x = np.reshape(np.array(sol['x']), no_samples)\n",
    "    a = np.array([x[i]*training_labels[i] for i in range(no_samples)])\n",
    "    return a"
   ]
  },
  {
   "cell_type": "code",
   "execution_count": 8,
   "metadata": {
    "collapsed": false
   },
   "outputs": [],
   "source": [
    "def assemble_kernelmatrix(data, data2 = None, kernel = scalar_product):\n",
    "    if data2 == None:\n",
    "        K = pairwise_kernels(data, metric = kernel)\n",
    "    else:\n",
    "        K = pairwise_kernels(data2, data, metric = kernel)\n",
    "    return K\n",
    "\n",
    "def minimize_Lagrangian2(training_data, training_labels, penalty, kernel, kernelmatrix):\n",
    "    no_samples = len(training_data)\n",
    "    training_labels = matrix(training_labels, (no_samples, 1))\n",
    "    K = kernelmatrix\n",
    "    T = np.dot(training_labels, np.transpose(training_labels))\n",
    "    Q = matrix(np.multiply(K, T), (no_samples, no_samples), tc='d')\n",
    "    A = matrix(training_labels, ( 1, no_samples),tc='d')\n",
    "    print(np.shape(A))\n",
    "    p = matrix(-1., ( no_samples, 1),tc='d')\n",
    "    b = matrix(0.,(1,1),tc='d')\n",
    "    G = matrix(np.concatenate((-np.identity(no_samples),np.identity(no_samples))),tc='d')\n",
    "    h = matrix(np.concatenate((matrix(0.,(no_samples,1 )), matrix(float(penalty),(no_samples,1)))),tc='d')\n",
    "    sol = solvers.qp(Q, p, G, h, A, b)\n",
    "    a = np.reshape(np.array(sol['x']), no_samples)\n",
    "    return a "
   ]
  },
  {
   "cell_type": "code",
   "execution_count": 9,
   "metadata": {
    "collapsed": true
   },
   "outputs": [],
   "source": [
    "def minimize_Lagrangian3(training_data, training_labels, penalty, kernel):\n",
    "\n",
    "    no_samples = len(training_data)\n",
    "    K = pairwise_kernels(training_data, metric = kernel)\n",
    "    def Lagrangian(x):\n",
    "        return 0.5*np.dot(np.dot(np.transpose(x),Q),x) - np.dot(np.transpose(p),x)\n",
    "    T = np.dot(training_labels, np.transpose(training_labels))\n",
    "    Q = np.multiply(K, T)\n",
    "    A = training_labels\n",
    "    p = np.ones(no_samples)\n",
    "    b = np.array(0.)\n",
    "    G = np.concatenate((-np.identity(no_samples),np.identity(no_samples)))\n",
    "    h = np.concatenate((np.zeros(no_samples), penalty*np.ones(no_samples)))\n",
    "    '''K = np.array(K)\n",
    "    q = np.array(q)\n",
    "    A = np.array(A)\n",
    "    b = np.array(b)\n",
    "    G = np.array(G)\n",
    "    h = np.array(h)'''\n",
    "    a0 = np.zeros((no_samples, 1))\n",
    "    constraint1 = {'type': 'ineq',\n",
    "                  'fun': lambda x: -np.dot(G,x)+h,\n",
    "                  'jac': lambda x: -G}\n",
    "    constraint2 ={'type': 'eq',\n",
    "                 'fun': lambda x: np.dot(A,x)+b,\n",
    "                 'jac': lambda x: A}\n",
    "    options = {'maxiter': 100000}\n",
    "    a=scipy.optimize.minimize(Lagrangian, a0, constraints=[constraint1, constraint2], jac = lambda x: np.dot(Q,x), hess = lambda x: Q,method = 'Powell', options = options)\n",
    "    return a\n"
   ]
  },
  {
   "cell_type": "code",
   "execution_count": 10,
   "metadata": {
    "collapsed": false
   },
   "outputs": [
    {
     "ename": "TypeError",
     "evalue": "minimize_Lagrangian2() takes exactly 5 arguments (4 given)",
     "output_type": "error",
     "traceback": [
      "\u001b[0;31m---------------------------------------------------------------------------\u001b[0m",
      "\u001b[0;31mTypeError\u001b[0m                                 Traceback (most recent call last)",
      "\u001b[0;32m<ipython-input-10-c732ec96fcbe>\u001b[0m in \u001b[0;36m<module>\u001b[0;34m()\u001b[0m\n\u001b[1;32m      2\u001b[0m \u001b[0mdaten\u001b[0m \u001b[1;33m=\u001b[0m \u001b[0mnp\u001b[0m\u001b[1;33m.\u001b[0m\u001b[0marray\u001b[0m\u001b[1;33m(\u001b[0m\u001b[1;33m[\u001b[0m\u001b[1;33m[\u001b[0m\u001b[1;36m0\u001b[0m\u001b[1;33m,\u001b[0m\u001b[1;36m1\u001b[0m\u001b[1;33m]\u001b[0m\u001b[1;33m,\u001b[0m \u001b[1;33m[\u001b[0m\u001b[1;36m1\u001b[0m\u001b[1;33m,\u001b[0m \u001b[1;36m0\u001b[0m\u001b[1;33m]\u001b[0m\u001b[1;33m,\u001b[0m\u001b[1;33m[\u001b[0m\u001b[1;36m2\u001b[0m\u001b[1;33m,\u001b[0m\u001b[1;36m0\u001b[0m\u001b[1;33m]\u001b[0m\u001b[1;33m,\u001b[0m \u001b[1;33m[\u001b[0m\u001b[1;36m1\u001b[0m\u001b[1;33m,\u001b[0m\u001b[1;36m2\u001b[0m\u001b[1;33m]\u001b[0m\u001b[1;33m,\u001b[0m \u001b[1;33m[\u001b[0m\u001b[1;36m0\u001b[0m\u001b[1;33m,\u001b[0m \u001b[1;36m0.9\u001b[0m\u001b[1;33m]\u001b[0m\u001b[1;33m]\u001b[0m\u001b[1;33m)\u001b[0m\u001b[1;33m\u001b[0m\u001b[0m\n\u001b[1;32m      3\u001b[0m \u001b[0mlabels\u001b[0m \u001b[1;33m=\u001b[0m \u001b[0mnp\u001b[0m\u001b[1;33m.\u001b[0m\u001b[0marray\u001b[0m\u001b[1;33m(\u001b[0m\u001b[1;33m[\u001b[0m\u001b[1;33m-\u001b[0m\u001b[1;36m1\u001b[0m\u001b[1;33m,\u001b[0m \u001b[1;36m1\u001b[0m\u001b[1;33m,\u001b[0m \u001b[1;36m1\u001b[0m\u001b[1;33m,\u001b[0m \u001b[1;33m-\u001b[0m\u001b[1;36m1\u001b[0m\u001b[1;33m,\u001b[0m \u001b[1;36m1\u001b[0m\u001b[1;33m]\u001b[0m\u001b[1;33m)\u001b[0m\u001b[1;33m\u001b[0m\u001b[0m\n\u001b[0;32m----> 4\u001b[0;31m \u001b[0ma\u001b[0m \u001b[1;33m=\u001b[0m \u001b[0mminimize_Lagrangian2\u001b[0m\u001b[1;33m(\u001b[0m\u001b[0mdaten\u001b[0m\u001b[1;33m,\u001b[0m \u001b[0mlabels\u001b[0m\u001b[1;33m,\u001b[0m \u001b[0mC\u001b[0m\u001b[1;33m,\u001b[0m \u001b[0mscalar_product\u001b[0m\u001b[1;33m)\u001b[0m\u001b[1;33m\u001b[0m\u001b[0m\n\u001b[0m\u001b[1;32m      5\u001b[0m \u001b[0ma\u001b[0m\u001b[1;33m\u001b[0m\u001b[0m\n",
      "\u001b[0;31mTypeError\u001b[0m: minimize_Lagrangian2() takes exactly 5 arguments (4 given)"
     ]
    }
   ],
   "source": [
    "C = 1000\n",
    "daten = np.array([[0,1], [1, 0],[2,0], [1,2], [0, 0.9]])\n",
    "labels = np.array([-1, 1, 1, -1, 1])\n",
    "a = minimize_Lagrangian2(daten, labels, C, scalar_product)\n",
    "a"
   ]
  },
  {
   "cell_type": "code",
   "execution_count": 12,
   "metadata": {
    "collapsed": false,
    "scrolled": false
   },
   "outputs": [
    {
     "ename": "TypeError",
     "evalue": "minimize_Lagrangian2() takes exactly 5 arguments (4 given)",
     "output_type": "error",
     "traceback": [
      "\u001b[0;31m---------------------------------------------------------------------------\u001b[0m",
      "\u001b[0;31mTypeError\u001b[0m                                 Traceback (most recent call last)",
      "\u001b[0;32m<ipython-input-12-b2756c466e22>\u001b[0m in \u001b[0;36m<module>\u001b[0;34m()\u001b[0m\n\u001b[1;32m      3\u001b[0m \u001b[0mdata\u001b[0m \u001b[1;33m=\u001b[0m \u001b[0mtrain_images\u001b[0m\u001b[1;33m[\u001b[0m\u001b[1;33m:\u001b[0m\u001b[0mno_samples\u001b[0m\u001b[1;33m]\u001b[0m\u001b[1;33m\u001b[0m\u001b[0m\n\u001b[1;32m      4\u001b[0m \u001b[0mlabel\u001b[0m \u001b[1;33m=\u001b[0m \u001b[0mnp\u001b[0m\u001b[1;33m.\u001b[0m\u001b[0marray\u001b[0m\u001b[1;33m(\u001b[0m\u001b[0mlabel0\u001b[0m\u001b[1;33m[\u001b[0m\u001b[1;33m:\u001b[0m\u001b[0mno_samples\u001b[0m\u001b[1;33m]\u001b[0m\u001b[1;33m)\u001b[0m\u001b[1;33m\u001b[0m\u001b[0m\n\u001b[0;32m----> 5\u001b[0;31m \u001b[0ma\u001b[0m \u001b[1;33m=\u001b[0m \u001b[0mminimize_Lagrangian2\u001b[0m\u001b[1;33m(\u001b[0m\u001b[0mdata\u001b[0m\u001b[1;33m,\u001b[0m \u001b[0mlabel\u001b[0m\u001b[1;33m,\u001b[0m \u001b[0mC\u001b[0m\u001b[1;33m,\u001b[0m \u001b[0mscalar_product\u001b[0m\u001b[1;33m)\u001b[0m\u001b[1;33m\u001b[0m\u001b[0m\n\u001b[0m\u001b[1;32m      6\u001b[0m \u001b[0ma\u001b[0m\u001b[1;33m\u001b[0m\u001b[0m\n",
      "\u001b[0;31mTypeError\u001b[0m: minimize_Lagrangian2() takes exactly 5 arguments (4 given)"
     ]
    }
   ],
   "source": [
    "no_samples = 100\n",
    "C = 1000\n",
    "data = train_images[:no_samples]\n",
    "label = np.array(label0[:no_samples])\n",
    "a = minimize_Lagrangian2(data, label, C, scalar_product)\n",
    "a\n"
   ]
  },
  {
   "cell_type": "code",
   "execution_count": 120,
   "metadata": {
    "collapsed": false
   },
   "outputs": [],
   "source": [
    "class mySVM:\n",
    "    \n",
    "    def __init__(self, kernel = gk, penalty = 1, sigma = 0.01):\n",
    "        self.sigma = sigma\n",
    "        self.kernel = kernel\n",
    "        self.penalty = penalty\n",
    "        self.kernelmatrix_for_fit = None\n",
    "        self.kernelmatrix_for_predict = None\n",
    "        \n",
    "    def fit(self,training_data, training_labels):\n",
    "        if self.kernelmatrix_for_fit == None:\n",
    "            self.kernelmatrix_for_fit  = assemble_kernelmatrix(training_data, kernel = self.kernel)\n",
    "        a = minimize_Lagrangian2(training_data, training_labels,self.penalty, self.kernel, kernelmatrix = self.kernelmatrix_for_fit)    \n",
    "        self.a = a\n",
    "        self.training_data = training_data\n",
    "        self.training_labels = training_labels\n",
    "\n",
    "        \n",
    "    def predict(self, newdata):\n",
    "        if self.kernelmatrix_for_predict == None:\n",
    "            self.kernelmatrix_for_predict = assemble_kernelmatrix(self.training_data, data2 = newdata, kernel = self.kernel)\n",
    "        k = self.kernelmatrix_for_predict\n",
    "        alphatimeslabel = np.multiply(self.a, self.training_labels)\n",
    "        prediction = np.array([np.dot(k[i,:], alphatimeslabel) for i in range(len(newdata))])\n",
    "        return np.sign(prediction)\n",
    "    \n",
    "        "
   ]
  },
  {
   "cell_type": "code",
   "execution_count": 122,
   "metadata": {
    "collapsed": false,
    "scrolled": true
   },
   "outputs": [
    {
     "name": "stdout",
     "output_type": "stream",
     "text": [
      "(1L, 100L)\n",
      "     pcost       dcost       gap    pres   dres\n",
      " 0: -1.0996e+01 -1.2263e+02  4e+02  1e+00  5e-16\n",
      " 1: -9.2065e+00 -5.0377e+01  5e+01  8e-02  5e-16\n",
      " 2: -1.0147e+01 -2.8436e+01  3e+01  3e-02  1e-15\n",
      " 3: -9.3626e+00 -1.3769e+01  7e+00  7e-03  7e-15\n",
      " 4: -9.0281e+00 -9.2392e+00  4e-01  3e-04  3e-15\n",
      " 5: -9.0003e+00 -9.0024e+00  4e-03  3e-06  4e-15\n",
      " 6: -9.0000e+00 -9.0000e+00  4e-05  3e-08  3e-15\n",
      " 7: -9.0000e+00 -9.0000e+00  4e-07  3e-10  3e-15\n",
      "Optimal solution found.\n"
     ]
    },
    {
     "name": "stderr",
     "output_type": "stream",
     "text": [
      "C:\\Users\\LMatt\\Anaconda3\\envs\\py27\\lib\\site-packages\\ipykernel\\__main__.py:2: FutureWarning: comparison to `None` will result in an elementwise object comparison in the future.\n",
      "  from ipykernel import kernelapp as app\n"
     ]
    },
    {
     "data": {
      "text/plain": [
       "(68, 45)"
      ]
     },
     "execution_count": 122,
     "metadata": {},
     "output_type": "execute_result"
    }
   ],
   "source": [
    "C=1\n",
    "no = 100 #Anzahl an Trainingsdaten, die zum fitten verwendet werden\n",
    "no2 = 100 #Anzahl an Trainingsdaten, die nicht zum fitten verwendet wurden, mit denen wir unsere SVM testen\n",
    "s = 0.0001\n",
    "svm = mySVM(kernel = gk, penalty=C, sigma = s )\n",
    "svm.fit(train_images[:no], train_labels[:no])\n",
    "pred = svm.predict(train_images[:no+no2])\n",
    "x = list(pred == label0[:no+no2])\n",
    "sum(x[:no]), sum(x[-no2:])\n",
    "#[svm.a[i] for i in range(no) if label0[i]==-1]"
   ]
  },
  {
   "cell_type": "code",
   "execution_count": 144,
   "metadata": {
    "collapsed": false
   },
   "outputs": [
    {
     "data": {
      "text/plain": [
       "(array([37, 54,  0,  0,  0,  0,  0,  0,  0,  9], dtype=int64),\n",
       " array([ 0.00171607,  0.10154446,  0.20137285,  0.30120124,  0.40102964,\n",
       "         0.50085803,  0.60068642,  0.70051481,  0.80034321,  0.9001716 ,\n",
       "         0.99999999]))"
      ]
     },
     "execution_count": 144,
     "metadata": {},
     "output_type": "execute_result"
    },
    {
     "data": {
      "image/png": "[encoded data removed]",
      "text/plain": [
       "<matplotlib.figure.Figure at 0x2bfc5780>"
      ]
     },
     "metadata": {},
     "output_type": "display_data"
    }
   ],
   "source": [
    "plt.hist(svm2.a)\n",
    "np.histogram(svm2.a)"
   ]
  },
  {
   "cell_type": "code",
   "execution_count": 140,
   "metadata": {
    "collapsed": false
   },
   "outputs": [
    {
     "name": "stdout",
     "output_type": "stream",
     "text": [
      "(1L, 100L)\n",
      "     pcost       dcost       gap    pres   dres\n",
      " 0: -1.3653e+01 -1.4967e+02  6e+02  2e+00  5e-16\n",
      " 1: -1.2523e+01 -6.9010e+01  6e+01  2e-02  5e-16\n",
      " 2: -1.2495e+01 -1.3673e+01  1e+00  3e-04  5e-16\n",
      " 3: -1.2585e+01 -1.2642e+01  6e-02  7e-06  1e-16\n",
      " 4: -1.2590e+01 -1.2594e+01  3e-03  3e-07  7e-17\n",
      " 5: -1.2591e+01 -1.2591e+01  2e-04  1e-08  8e-17\n",
      " 6: -1.2591e+01 -1.2591e+01  1e-05  2e-10  1e-16\n",
      "Optimal solution found.\n"
     ]
    }
   ],
   "source": [
    "svm2 = mySVM(kernel = gk, penalty=C, sigma = s )\n",
    "svm2.fit(train_images[:no], label0[:no])\n"
   ]
  },
  {
   "cell_type": "code",
   "execution_count": 145,
   "metadata": {
    "collapsed": false
   },
   "outputs": [
    {
     "name": "stdout",
     "output_type": "stream",
     "text": [
      "[-1.  1. -1. -1.  1.  1. -1. -1. -1. -1. -1. -1. -1. -1. -1. -1. -1.  1.\n",
      " -1. -1. -1. -1. -1.  1. -1. -1. -1. -1. -1. -1. -1. -1. -1. -1. -1. -1.\n",
      " -1. -1. -1. -1. -1. -1. -1. -1. -1. -1. -1. -1. -1. -1. -1. -1. -1. -1.\n",
      "  1. -1. -1. -1. -1. -1. -1. -1. -1.  1. -1. -1. -1. -1. -1.  1. -1. -1.\n",
      " -1. -1. -1. -1. -1. -1. -1. -1. -1. -1. -1. -1. -1. -1. -1. -1. -1. -1.\n",
      " -1. -1. -1. -1. -1. -1. -1. -1.  1. -1. -1. -1. -1. -1. -1. -1. -1. -1.\n",
      "  1. -1.  1.  1. -1. -1.  1. -1. -1. -1. -1. -1. -1. -1. -1. -1. -1. -1.\n",
      " -1. -1.  1.  1. -1. -1. -1. -1. -1. -1. -1. -1. -1. -1. -1.  1. -1. -1.\n",
      " -1. -1.  1.  1. -1.  1.  1.  1. -1.  1. -1. -1. -1.  1. -1. -1. -1. -1.\n",
      " -1. -1. -1. -1. -1. -1. -1. -1. -1. -1. -1. -1.  1. -1. -1. -1. -1. -1.\n",
      " -1. -1. -1.  1. -1. -1. -1. -1.  1. -1. -1. -1. -1.  1.  1.  1.  1. -1.\n",
      " -1. -1.]\n"
     ]
    },
    {
     "name": "stderr",
     "output_type": "stream",
     "text": [
      "C:\\Users\\LMatt\\Anaconda3\\envs\\py27\\lib\\site-packages\\ipykernel\\__main__.py:20: FutureWarning: comparison to `None` will result in an elementwise object comparison in the future.\n"
     ]
    },
    {
     "data": {
      "text/plain": [
       "[-1,\n",
       " 1,\n",
       " -1,\n",
       " -1,\n",
       " 1,\n",
       " 1,\n",
       " -1,\n",
       " -1,\n",
       " -1,\n",
       " -1,\n",
       " -1,\n",
       " -1,\n",
       " -1,\n",
       " -1,\n",
       " -1,\n",
       " -1,\n",
       " 1,\n",
       " -1,\n",
       " -1,\n",
       " -1,\n",
       " -1,\n",
       " -1,\n",
       " 1,\n",
       " -1,\n",
       " -1,\n",
       " -1,\n",
       " -1,\n",
       " -1,\n",
       " -1,\n",
       " -1,\n",
       " -1,\n",
       " -1,\n",
       " -1,\n",
       " -1,\n",
       " -1,\n",
       " -1,\n",
       " -1,\n",
       " -1,\n",
       " -1,\n",
       " -1,\n",
       " -1,\n",
       " -1,\n",
       " -1,\n",
       " -1,\n",
       " -1,\n",
       " -1,\n",
       " -1,\n",
       " -1,\n",
       " -1,\n",
       " -1,\n",
       " -1,\n",
       " -1,\n",
       " -1,\n",
       " 1,\n",
       " -1,\n",
       " -1,\n",
       " -1,\n",
       " -1,\n",
       " -1,\n",
       " -1,\n",
       " -1,\n",
       " -1,\n",
       " 1,\n",
       " -1,\n",
       " -1,\n",
       " -1,\n",
       " -1,\n",
       " -1,\n",
       " 1,\n",
       " -1,\n",
       " -1,\n",
       " -1,\n",
       " -1,\n",
       " -1,\n",
       " -1,\n",
       " -1,\n",
       " -1,\n",
       " -1,\n",
       " -1,\n",
       " -1,\n",
       " -1,\n",
       " -1,\n",
       " -1,\n",
       " -1,\n",
       " -1,\n",
       " -1,\n",
       " -1,\n",
       " -1,\n",
       " -1,\n",
       " -1,\n",
       " -1,\n",
       " -1,\n",
       " -1,\n",
       " -1,\n",
       " -1,\n",
       " -1,\n",
       " -1,\n",
       " 1,\n",
       " -1]"
      ]
     },
     "execution_count": 145,
     "metadata": {},
     "output_type": "execute_result"
    }
   ],
   "source": [
    "a= np.array([0 if alpha<10**(-2) else alpha for alpha in svm2.a])\n",
    "\n",
    "svm2.a = a\n",
    "pred = svm2.predict(train_images[:no+no2])\n",
    "x = list(pred == label0[:no+no2])\n",
    "sum(x[:no]), sum(x[-no2:])\n",
    "print(pred)\n",
    "[label0[i] for i in range(100) if not a[i]==0]"
   ]
  },
  {
   "cell_type": "code",
   "execution_count": 136,
   "metadata": {
    "collapsed": false
   },
   "outputs": [
    {
     "data": {
      "text/plain": [
       "array([[  1.00000000e+00,   1.77260721e-05,   7.31712345e-03, ...,\n",
       "          1.90201980e-04,   5.19817900e-04,   7.06048302e-05],\n",
       "       [  1.77260721e-05,   1.00000000e+00,   3.05014602e-05, ...,\n",
       "          7.82559970e-04,   8.25062921e-05,   1.92963019e-04],\n",
       "       [  7.31712345e-03,   3.05014602e-05,   1.00000000e+00, ...,\n",
       "          2.33936698e-04,   4.21375583e-04,   7.62116668e-05],\n",
       "       ..., \n",
       "       [  1.32510059e-04,   2.68179264e-05,   4.32307248e-04, ...,\n",
       "          9.59979232e-05,   5.22001077e-05,   3.29848564e-05],\n",
       "       [  3.00030026e-04,   1.83875805e-04,   4.60813109e-04, ...,\n",
       "          1.26363738e-04,   1.51239648e-05,   3.20720029e-04],\n",
       "       [  6.05561705e-03,   4.49723366e-05,   1.12655497e-03, ...,\n",
       "          5.91032825e-04,   9.98584375e-05,   1.71068756e-04]])"
      ]
     },
     "execution_count": 136,
     "metadata": {},
     "output_type": "execute_result"
    }
   ],
   "source": [
    "\n",
    "svm2.kernelmatrix_for_predict\n"
   ]
  },
  {
   "cell_type": "code",
   "execution_count": 175,
   "metadata": {
    "collapsed": false
   },
   "outputs": [
    {
     "name": "stdout",
     "output_type": "stream",
     "text": [
      "500\n"
     ]
    }
   ],
   "source": [
    "no = 1000\n",
    "images0 = []\n",
    "imagesnot0 = []\n",
    "i = 0\n",
    "while len(images0)<no/2. or len(imagesnot0) < no/2.:\n",
    "    if label0[i]==1 and len(images0)<no/2.:\n",
    "        images0.append(train_images[i])\n",
    "    elif label0[i]==-1 and len(imagesnot0) < no/2.: \n",
    "        imagesnot0.append(train_images[i])\n",
    "    i=i+1\n",
    "print(len(images0))\n",
    "trainingdata_even = np.concatenate((np.array(images0), np.array(imagesnot0)))\n",
    "traininglabels_even = np.concatenate((np.ones(len(images0)), -np.ones(len(imagesnot0))))"
   ]
  },
  {
   "cell_type": "code",
   "execution_count": 178,
   "metadata": {
    "collapsed": false
   },
   "outputs": [
    {
     "name": "stdout",
     "output_type": "stream",
     "text": [
      "(1L, 1000L)\n",
      "     pcost       dcost       gap    pres   dres\n",
      " 0: -1.8275e+02 -1.7319e+03  5e+03  2e+00  1e-15\n",
      " 1: -1.7000e+02 -9.2010e+02  8e+02  3e-13  5e-16\n",
      " 2: -1.9212e+02 -2.6820e+02  8e+01  1e-13  5e-16\n",
      " 3: -1.9912e+02 -2.0761e+02  8e+00  7e-14  4e-16\n",
      " 4: -2.0009e+02 -2.0147e+02  1e+00  1e-13  3e-16\n",
      " 5: -2.0026e+02 -2.0057e+02  3e-01  2e-13  3e-16\n",
      " 6: -2.0030e+02 -2.0035e+02  5e-02  2e-14  3e-16\n",
      " 7: -2.0031e+02 -2.0031e+02  3e-03  2e-13  3e-16\n",
      " 8: -2.0031e+02 -2.0031e+02  9e-05  2e-13  3e-16\n",
      "Optimal solution found.\n"
     ]
    }
   ],
   "source": [
    "\n",
    "svm3=mySVM(kernel = gk, penalty=C, sigma = s )\n",
    "svm3.fit(trainingdata_even, traininglabels_even)"
   ]
  },
  {
   "cell_type": "code",
   "execution_count": 181,
   "metadata": {
    "collapsed": false
   },
   "outputs": [
    {
     "name": "stdout",
     "output_type": "stream",
     "text": [
      "[ 0.14852741  0.10761196  0.75563507  0.          0.35504448  0.\n",
      "  0.19501527  0.71335371  0.40388899  0.25922856  0.40162857  0.23366651\n",
      "  0.32560425  0.94098657  0.57510225  0.43394686  0.82295792  0.23111014\n",
      "  0.05528104  0.86596139  0.          0.27683956  0.36228964  0.12955513\n",
      "  0.02141471  0.8933276   0.06539517  0.44510457  0.56350914  0.99999927\n",
      "  0.38811404  0.39178541  0.16021827  0.          0.06290882  0.\n",
      "  0.76978805  0.37878446  0.56912868  0.49910508  0.          0.20274561\n",
      "  0.7743776   0.43242211  0.22066152  0.2835847   0.          0.27339149\n",
      "  0.70915287  0.          0.65847064  0.          0.24278906  0.3139659\n",
      "  0.02346468  0.16795367  0.00700537  0.69310127  0.19948181  0.3503308\n",
      "  0.31985193  0.71025483  0.79268244  0.09804262  0.82773451  0.25022565\n",
      "  0.          0.49172355  0.66373345  0.26733185  0.73459374  0.73717449\n",
      "  0.34885283  0.65556657  0.80719062  0.456559    0.          0.          0.1615302\n",
      "  0.63673793  0.54519339  0.436833    0.06699522  0.3120906   0.\n",
      "  0.15815239  0.30256463  0.25717077  0.67273355  0.          0.\n",
      "  0.69275124  0.21187361  0.49049441  0.11634066  0.6471262   0.26769128\n",
      "  0.42885257  0.1572467   0.07556982  0.68399593  0.26828093  0.49940586\n",
      "  0.54410169  0.73631559  0.13336842  0.317484    0.27083031  0.80357612\n",
      "  0.66884918  0.          0.01842164  0.25830347  0.          0.64602433\n",
      "  0.          0.13896227  0.42578681  0.          0.87025877  0.\n",
      "  0.14599793  0.99999927  0.79623491  0.80090626  0.61685564  0.\n",
      "  0.99998661  0.33991324  0.27111537  0.47634636  0.09846282  0.38212301\n",
      "  0.99999974  0.86983809  0.          0.30469041  0.35616139  0.31302405\n",
      "  0.45642424  0.          0.07129358  0.90831764  0.68444343  0.03567036\n",
      "  0.08357694  0.73884812  0.27924595  0.71061437  0.72392873  0.16890373\n",
      "  0.17145597  0.07211428  0.          0.00666077  0.19139471  0.\n",
      "  0.89023328  0.77895761  0.45992059  0.99999883  0.69853726  0.09410258\n",
      "  0.51800971  0.29306883  0.99991605  0.          0.5647075   0.62224035\n",
      "  0.57743912  0.3344176   0.3781835   0.50108374  0.18010465  0.28644334\n",
      "  0.80341256  0.80950464  0.3028766   0.          0.          0.\n",
      "  0.90348784  0.01434158  0.2779899   0.88539433  0.61470867  0.58577838\n",
      "  0.68389515  0.04293091  0.35919021  0.57426267  0.3090082   0.20783863\n",
      "  0.55308784  0.          0.40938694  0.29325521  0.06532811  0.41736561\n",
      "  0.16712139  0.20574197  0.34269543  0.          0.          0.79854282\n",
      "  0.87041818  0.64176432  0.9850087   0.18361091  0.41551067  0.54836313\n",
      "  0.48418231  0.27542422  0.35849594  0.02408033  0.97636061  0.69433322\n",
      "  0.93628429  0.77043177  0.20258473  0.          0.          0.93741838\n",
      "  0.49076194  0.86250544  0.          0.29545591  0.          0.33352775\n",
      "  0.31579122  0.16815659  0.28165438  0.74193534  0.96140518  0.9999998\n",
      "  0.53369834  0.62988239  0.62554635  0.27498972  0.37015863  0.26525277\n",
      "  0.90258282  0.74610298  0.05625587  0.99993236  0.          0.89784862\n",
      "  0.49797833  0.          0.12929869  0.72029367  0.1929793   0.\n",
      "  0.45414794  0.          0.02712933  0.          0.27100683  0.27759647\n",
      "  0.40547971  0.65512472  0.90813356  0.04790337  0.7645864   0.38539936\n",
      "  0.37080493  0.61614104  0.          0.          0.42718721  0.45662735\n",
      "  0.          0.          0.76145808  0.36414812  0.          0.52116026\n",
      "  0.28557342  0.5267747   0.17982477  0.92451395  0.26524029  0.71843002\n",
      "  0.84264506  0.99999851  0.66690065  0.          0.51359402  0.52543298\n",
      "  0.57739857  0.29943666  0.51063079  0.23486805  0.36732632  0.99999844\n",
      "  0.99999993  0.          0.74314126  0.85776172  0.18956131  0.9999939\n",
      "  0.27723982  0.44718954  0.          0.47291641  0.81753165  0.2481724\n",
      "  0.93351627  0.99999906  0.09534394  0.86471669  0.          0.65160584\n",
      "  0.32372877  0.96121611  0.72698419  0.66387974  0.59157271  0.58608059\n",
      "  0.13608247  0.21733736  0.37750956  0.2540509   0.16987405  0.0698593   0.\n",
      "  0.17139915  0.86252883  0.03634892  0.29252181  0.16249891  0.97049761\n",
      "  0.65942853  0.          0.2124337   0.79399999  0.4924461   0.36635434\n",
      "  0.38685434  0.17419548  0.          0.39701549  0.          0.19656767\n",
      "  0.64700694  0.11512065  0.0141565   0.68341561  0.36816972  0.35453097\n",
      "  0.99999914  0.99999979  0.88919998  0.9755896   0.40632839  0.18524801\n",
      "  0.05645726  0.25521571  0.70649371  0.34712702  0.05739012  0.01459701\n",
      "  0.41812135  0.26946062  0.          0.1872026   0.00800732  0.\n",
      "  0.24803072  0.53030063  0.27373812  0.69603937  0.          0.02699811\n",
      "  0.55631085  0.41393238  0.54362459  0.          0.37011793  0.9068745\n",
      "  0.3141817   0.08255429  0.86687685  0.          0.83162417  0.29793985\n",
      "  0.          0.31977401  0.20322743  0.          0.47544232  0.33519782\n",
      "  0.38950124  0.24550231  0.143451    0.29315242  0.11934654  0.28563939\n",
      "  0.03812226  0.          0.36191545  0.          0.58341706  0.83721503\n",
      "  0.26380316  0.41727744  0.72551178  0.50841933  0.36237111  0.99999994\n",
      "  0.39401323  0.          0.98707515  0.          0.66114189  0.30473238\n",
      "  0.37672292  0.          0.          0.99999636  0.          0.99999985\n",
      "  0.61631613  0.78039432  0.          0.19791655  0.32967345  0.62794121\n",
      "  0.11729494  0.49476498  0.72529911  0.          0.3417175   0.53383917\n",
      "  0.39153813  0.94979534  0.          0.04423089  0.69606419  0.81159477\n",
      "  0.85296607  0.52465751  0.41912022  0.97307943  0.61915769  0.31642659\n",
      "  0.21533229  0.37508559  0.41060271  0.82032025  0.38762287  0.30213818\n",
      "  0.07609003  0.27242364  0.44339829  0.84339614  0.          0.4933051\n",
      "  0.30770494  0.92591056  0.29604193  0.26612669  0.81488338  0.81258672\n",
      "  0.17364176  0.57089439  0.          0.          0.          0.26022855\n",
      "  0.2518417   0.86344916  0.91114602  0.50923667  0.99999943  0.65752395\n",
      "  0.          0.91629128  0.99999937  0.27036394  0.31449011  0.46352781\n",
      "  0.46108387  0.07652365  0.41634774  0.40169196  0.          0.\n",
      "  0.16621484  0.87262951  0.23592969  0.          0.14932583  0.48143988\n",
      "  0.45602841  0.39364902  0.97588602  0.2345769   0.21979902  0.22530438\n",
      "  0.23166594  0.          0.63318342  0.14677026  0.64693613  0.55184526\n",
      "  0.58448472  0.66790763  0.1007786   0.          0.66596947  0.62287169\n",
      "  0.          0.61366871  0.04227579  0.69587856  0.18417437  0.83826848\n",
      "  0.33218759  0.48179388  0.61219925  0.32639696  0.16172984  0.0970975\n",
      "  0.3747912   0.46582749  0.51063784  0.67310072  0.07058123  0.54459603\n",
      "  0.0876673   0.31909997  0.          0.          0.15561698  0.46531899\n",
      "  0.          0.33841552  0.66530877  0.51188442  0.42081447  0.46065998\n",
      "  0.27521914  0.28237987  0.41344093  0.13840859  0.71094953  0.\n",
      "  0.36905382  0.22596665  0.46192003  0.46908497  0.          0.00121547\n",
      "  0.4923097   0.44044579  0.65759279  0.54550426  0.20363856  0.40165352\n",
      "  0.68737885  0.14009728  0.34406885  0.          0.71592955  0.75491075\n",
      "  0.23707887  0.32477625  0.27766339  0.          0.3583611   0.06542279\n",
      "  0.41858334  0.46255631  0.263911    0.037405    0.40535007  0.18424035\n",
      "  0.0642314   0.60519884  0.35133858  0.64644836  0.69808914  0.69791129\n",
      "  0.02307521  0.2941189   0.66894504  0.30341216  0.02998101  0.74329476\n",
      "  0.63536799  0.32314397  0.51075101  0.48773843  0.          0.684652\n",
      "  0.25499237  0.29813414  0.65342869  0.28303761  0.62505324  0.26269668\n",
      "  0.37685458  0.65537686  0.27597158  0.1398292   0.41918769  0.67760952\n",
      "  0.53481525  0.41890134  0.4429092   0.28515512  0.60899702  0.03804601\n",
      "  0.57121539  0.7817807   0.57439537  0.63994188  0.67486416  0.79388773\n",
      "  0.          0.          0.17154003  0.38939915  0.38128727  0.48053261\n",
      "  0.          0.07238803  0.44863235  0.24182748  0.495635    0.67033132\n",
      "  0.52176639  0.97744976  0.58442325  0.          0.21339994  0.48680638\n",
      "  0.30436824  0.10315649  0.63607513  0.19603054  0.05986872  0.55142233\n",
      "  0.01671169  0.03976081  0.06504332  0.09167423  0.44037305  0.64323978\n",
      "  0.63025859  0.63841772  0.38023166  0.37135891  0.19251308  0.47454401\n",
      "  0.36741136  0.70815786  0.62592365  0.56432281  0.73833653  0.02495494\n",
      "  0.53028699  0.01799892  0.46442445  0.02715871  0.5821576   0.59594439\n",
      "  0.55671065  0.15897201  0.54951521  0.          0.81170719  0.70495069\n",
      "  0.59479524  0.41731738  0.34909359  0.60572288  0.15946683  0.77648008\n",
      "  0.31648754  0.          0.05196394  0.06638108  0.08775572  0.1997126\n",
      "  0.66449649  0.57032781  0.17581377  0.77443022  0.32343329  0.46265219\n",
      "  0.52645286  0.          0.19240129  0.17137385  0.0106911   0.21098069\n",
      "  0.42292774  0.44167787  0.5494905   0.81775591  0.24955625  0.68363373\n",
      "  0.3108309   0.14280653  0.11114059  0.63370821  0.35487805  0.65432703\n",
      "  0.27418354  0.67424476  0.79591133  0.42773824  0.13900522  0.3137054\n",
      "  0.45050113  0.57317907  0.49249024  0.51615671  0.13226263  0.58692656\n",
      "  0.80273916  0.69073528  0.11924558  0.          0.          0.02119285\n",
      "  0.37523638  0.18611694  0.55417277  0.27208271  0.60269626  0.57920091\n",
      "  0.53124876  0.57518777  0.47383576  0.54341556  0.23621047  0.18481878\n",
      "  0.64894034  0.57033243  0.60349542  0.11931889  0.          0.55073524\n",
      "  0.00272332  0.45086442  0.20695586  0.38821697  0.18336252  0.72384076\n",
      "  0.51213665  0.3297827   0.          0.10072516  0.62399363  0.90849897\n",
      "  0.52824891  0.28921142  0.74607986  0.44861556  0.34038445  0.310009\n",
      "  0.59655151  0.60934739  0.          0.26321782  0.48160927  0.43018759\n",
      "  0.62294757  0.80354808  0.08960198  0.34856043  0.26066275  0.54254038\n",
      "  0.59396647  0.59355366  0.63926576  0.5836892   0.16691622  0.17626989\n",
      "  0.62700144  0.62945249  0.11978785  0.20608921  0.26500372  0.61068554\n",
      "  0.42026315  0.31212448  0.45323363  0.63201096  0.          0.          0.5642077\n",
      "  0.20760397  0.          0.24694499  0.64447968  0.04506223  0.34964642\n",
      "  0.61762661  0.32105667  0.89394687  0.40517458  0.63302932  0.94232279\n",
      "  0.18127187  0.84722162  0.81757394  0.75249805  0.49790502  0.29149957\n",
      "  0.57632521  0.22582599  0.18303058  0.61732298  0.6811833   0.34543967\n",
      "  0.55318957  0.59899231  0.14931665  0.12108687  0.85945835  0.52760143\n",
      "  0.          0.          0.68285584  0.          0.627794    0.3519023\n",
      "  0.59450147  0.06721442  0.38799665  0.37064028  0.57349582  0.21635944\n",
      "  0.89436188  0.40383666  0.52863881  0.          0.40211929  0.20523401\n",
      "  0.25326872  0.47168147  0.07628482  0.57339115  0.24789471  0.58003585\n",
      "  0.65033156  0.41770028  0.39128843  0.19792556  0.          0.05604005\n",
      "  0.61278246  0.47443103  0.51792701  0.68302319  0.47293359  0.60313496\n",
      "  0.52300444  0.54167416  0.66710775  0.25968003  0.63116523  0.68083134\n",
      "  0.07885451  0.40660357  0.57410423  0.63525788  0.07292205  0.11292512\n",
      "  0.39668107  0.          0.54982636  0.57409611  0.23861698  0.53725253\n",
      "  0.50881611  0.40263994  0.55210622  0.73451891  0.17630961  0.48177392\n",
      "  0.00523751  0.60721602  0.15309578  0.66777635  0.73815689  0.64378743\n",
      "  0.22371898  0.37631357  0.26679764  0.04850353  0.26665022  0.34994721\n",
      "  0.00824101  0.60847944  0.63891837  0.36601825  0.20607417  0.60539067\n",
      "  0.76627535  0.38249659  0.5689246   0.39735324  0.20773694  0.68717857\n",
      "  0.60427539  0.50836962  0.59560128  0.41818242  0.04567202  0.00824853\n",
      "  0.1211954   0.16895589  0.28153966  0.70725508  0.28539638  0.4771487\n",
      "  0.02550994  0.64329086  0.10577975  0.52840733  0.02382518  0.06781232\n",
      "  0.37933585  0.3173859   0.          0.43907286  0.59568401  0.76940058\n",
      "  0.26084208  0.55700336  0.          0.62166964  0.          0.28088761\n",
      "  0.26456524  0.64960314  0.          0.6676052   0.86858861  0.80270191\n",
      "  0.16181541  0.99951978  0.22384839  0.49959421  0.64034581  0.36888984\n",
      "  0.21270105  0.35246101  0.71098397  0.30984398  0.69170139  0.19863446\n",
      "  0.61584334  0.26282495  0.53051902  0.60437642  0.2136904   0.66629372\n",
      "  0.2135551   0.          0.363851    0.58688358  0.76041275  0.79232441\n",
      "  0.          0.61431562  0.00573387  0.37814157  0.65411588  0.53306835\n",
      "  0.61234796  0.66767147  0.52475636  0.49594611  0.67290446  0.24318172\n",
      "  0.          0.32877117  0.47504367  0.          0.58837454  0.6391172\n",
      "  0.50463484  0.79330427  0.4007925   0.62235462  0.38400997  0.6646847\n",
      "  0.22526806  0.64347205  0.05502834  0.72026459  0.28367808  0.43520799\n",
      "  0.18082623]\n"
     ]
    },
    {
     "name": "stderr",
     "output_type": "stream",
     "text": [
      "C:\\Users\\LMatt\\Anaconda3\\envs\\py27\\lib\\site-packages\\ipykernel\\__main__.py:20: FutureWarning: comparison to `None` will result in an elementwise object comparison in the future.\n"
     ]
    },
    {
     "data": {
      "text/plain": [
       "983"
      ]
     },
     "execution_count": 181,
     "metadata": {},
     "output_type": "execute_result"
    }
   ],
   "source": [
    "a= np.array([0 if alpha<10**(-3) else alpha for alpha in svm3.a])\n",
    "svm3.a = a\n",
    "pred = svm3.predict(train_images[:no])\n",
    "x = list(pred == label0[:no])\n",
    "print(a)\n",
    "sum(x[:no])\n"
   ]
  },
  {
   "cell_type": "code",
   "execution_count": 167,
   "metadata": {
    "collapsed": false
   },
   "outputs": [
    {
     "data": {
      "text/plain": [
       "(100L, 785L)"
      ]
     },
     "execution_count": 167,
     "metadata": {},
     "output_type": "execute_result"
    }
   ],
   "source": [
    "np.shape(trainingdata_even)"
   ]
  },
  {
   "cell_type": "code",
   "execution_count": null,
   "metadata": {
    "collapsed": true
   },
   "outputs": [],
   "source": []
  }
 ],
 "metadata": {
  "anaconda-cloud": {},
  "kernelspec": {
   "display_name": "Python [conda env:py27]",
   "language": "python",
   "name": "conda-env-py27-py"
  },
  "language_info": {
   "codemirror_mode": {
    "name": "ipython",
    "version": 2
   },
   "file_extension": ".py",
   "mimetype": "text/x-python",
   "name": "python",
   "nbconvert_exporter": "python",
   "pygments_lexer": "ipython2",
   "version": "2.7.12"
  }
 },
 "nbformat": 4,
 "nbformat_minor": 1
}
