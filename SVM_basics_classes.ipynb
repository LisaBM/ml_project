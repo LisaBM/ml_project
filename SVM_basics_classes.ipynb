{
 "cells": [
  {
   "cell_type": "code",
<<<<<<< HEAD
   "execution_count": 203,
=======
   "execution_count": 4,
>>>>>>> bb9e9a5df568438049d0e028e08f888f61cbab45
   "metadata": {
    "collapsed": false
   },
   "outputs": [],
   "source": [
    "import numpy as np\n",
    "import scipy\n",
    "import pandas as pd # data processing, CSV file I/O (e.g. pd.read_csv)\n",
    "from sklearn.metrics.pairwise import pairwise_kernels\n",
    "from scipy.optimize import minimize\n",
    "import cvxopt\n",
    "from cvxopt import matrix, solvers\n",
    "import matplotlib.pyplot as plt\n",
    "%matplotlib inline"
   ]
  },
  {
   "cell_type": "code",
<<<<<<< HEAD
   "execution_count": 204,
=======
   "execution_count": 5,
>>>>>>> bb9e9a5df568438049d0e028e08f888f61cbab45
   "metadata": {
    "collapsed": true
   },
   "outputs": [],
   "source": [
    "train = pd.read_csv('C:/Users/LMatt/OneDrive/Dokumente/Mathe/Machine Learning/Projekt/digits_train.csv')"
   ]
  },
  {
   "cell_type": "code",
<<<<<<< HEAD
   "execution_count": 205,
   "metadata": {
    "collapsed": false
   },
   "outputs": [
    {
     "data": {
      "text/plain": [
       "42000"
      ]
     },
     "execution_count": 205,
     "metadata": {},
     "output_type": "execute_result"
    }
   ],
   "source": [
    "images = [\"%s%s\" %(\"pixel\",pixel_no) for pixel_no in range(0,28**2)]\n",
    "train_images = np.array(train[images], dtype=np.float)/100\n",
    "#dimensionserhoehung, damit am ende b = 0\n",
    "train_images = np.concatenate((train_images, np.ones((len(train_images),1))), axis = 1)\n",
    "\n",
    "train_labels = np.array(train['label'])\n",
    "label0 = np.array([1 if i==0 else -1 for i in train_labels])\n",
    "len(train_images)"
=======
   "execution_count": 42,
   "metadata": {
    "collapsed": false
   },
   "outputs": [],
   "source": [
    "images = [\"%s%s\" %(\"pixel\",pixel_no) for pixel_no in range(0,28**2)]\n",
    "train_images = np.array(train[images], dtype=np.float)/100\n",
    "train_labels = np.array(train['label'])\n",
    "label0 = np.array([1 if i==0 else -1 for i in train_labels])  "
>>>>>>> bb9e9a5df568438049d0e028e08f888f61cbab45
   ]
  },
  {
   "cell_type": "code",
<<<<<<< HEAD
   "execution_count": 206,
=======
   "execution_count": 43,
>>>>>>> bb9e9a5df568438049d0e028e08f888f61cbab45
   "metadata": {
    "collapsed": false,
    "scrolled": true
   },
   "outputs": [
    {
     "data": {
      "text/plain": [
       "28.478958899510353"
      ]
     },
<<<<<<< HEAD
     "execution_count": 206,
=======
     "execution_count": 43,
>>>>>>> bb9e9a5df568438049d0e028e08f888f61cbab45
     "metadata": {},
     "output_type": "execute_result"
    }
   ],
   "source": [
    "#mal gucken, wie weit die Datenpunkte so ungefähr auseinander liegen, damit wir wissen wie groß sigma sein muss\n",
    "np.linalg.norm(train_images[130] - train_images[6])"
   ]
  },
  {
   "cell_type": "code",
<<<<<<< HEAD
   "execution_count": 207,
=======
   "execution_count": 8,
>>>>>>> bb9e9a5df568438049d0e028e08f888f61cbab45
   "metadata": {
    "collapsed": false
   },
   "outputs": [],
   "source": [
    "def gaussian_kernel(x1, x2, sigma):\n",
    "    return np.exp(-sigma*np.linalg.norm(x1-x2)**2)\n",
    "\n",
    "def gk(x1,x2):\n",
<<<<<<< HEAD
    "    sigma = float(1)/10\n",
    "    return gaussian_kernel(x1, x2, sigma)\n",
    "\n",
    "def scalar_product(x1, x2):\n",
    "    return np.dot(x1, x2)"
=======
    "    sigma = float(1)/100\n",
    "    return gaussian_kernel(x1, x2, sigma)"
>>>>>>> bb9e9a5df568438049d0e028e08f888f61cbab45
   ]
  },
  {
   "cell_type": "code",
<<<<<<< HEAD
   "execution_count": 208,
=======
   "execution_count": 44,
>>>>>>> bb9e9a5df568438049d0e028e08f888f61cbab45
   "metadata": {
    "collapsed": false
   },
   "outputs": [
    {
     "data": {
      "text/plain": [
<<<<<<< HEAD
       "[<matplotlib.lines.Line2D at 0xb13a080>]"
      ]
     },
     "execution_count": 208,
=======
       "[<matplotlib.lines.Line2D at 0x2dd95a90>]"
      ]
     },
     "execution_count": 44,
>>>>>>> bb9e9a5df568438049d0e028e08f888f61cbab45
     "metadata": {},
     "output_type": "execute_result"
    },
    {
     "data": {
<<<<<<< HEAD
      "image/png": "iVBORw0KGgoAAAANSUhEUgAAAgkAAAFkCAYAAACq4KjhAAAABHNCSVQICAgIfAhkiAAAAAlwSFlz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\nSWrJkCBJkloyJEiSpJYMCZIkqaX/D55FfbH5U4MBAAAAAElFTkSuQmCC\n",
      "text/plain": [
       "<matplotlib.figure.Figure at 0x32856f28>"
=======
      "image/png": "iVBORw0KGgoAAAANSUhEUgAAAgkAAAFkCAYAAACq4KjhAAAABHNCSVQICAgIfAhkiAAAAAlwSFlz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\ndMLxutNcAAAAAElFTkSuQmCC\n",
      "text/plain": [
       "<matplotlib.figure.Figure at 0x310db860>"
>>>>>>> bb9e9a5df568438049d0e028e08f888f61cbab45
      ]
     },
     "metadata": {},
     "output_type": "display_data"
    }
   ],
   "source": [
    "plt.figure()\n",
    "x = np.linspace(-50, 50, 100)\n",
    "y = [gk(0,i) for i in x]\n",
    "plt.plot(x, y)"
   ]
  },
  {
   "cell_type": "code",
<<<<<<< HEAD
   "execution_count": 209,
=======
   "execution_count": 20,
>>>>>>> bb9e9a5df568438049d0e028e08f888f61cbab45
   "metadata": {
    "collapsed": false
   },
   "outputs": [],
   "source": [
    "def minimize_Lagrangian(training_data, training_labels, penalty, kernel):\n",
    "    no_samples = len(training_data)\n",
    "    t = np.diag(training_labels[:no_samples])\n",
    "    tm = -t\n",
    "    K = matrix(pairwise_kernels(training_data, metric = kernel),tc='d')\n",
    "    p = matrix(training_labels,tc='d')\n",
    "    A = matrix(1., ( 1,no_samples),tc='d')\n",
    "    b = matrix(0.,(1,1),tc='d')\n",
    "    G = matrix(np.concatenate((tm,t)),tc='d')\n",
    "    h = matrix(np.concatenate((matrix(0.,(no_samples,1 )), matrix(float(penalty),(no_samples,1)))),tc='d')\n",
    "    sol = solvers.qp(-K, p, G, h, A, b)\n",
    "    x = np.reshape(np.array(sol['x']), no_samples)\n",
    "    a = np.array([x[i]*training_labels[i] for i in range(no_samples)])\n",
    "    return a"
   ]
  },
  {
   "cell_type": "code",
<<<<<<< HEAD
   "execution_count": 302,
=======
   "execution_count": 14,
>>>>>>> bb9e9a5df568438049d0e028e08f888f61cbab45
   "metadata": {
    "collapsed": false
   },
   "outputs": [],
   "source": [
<<<<<<< HEAD
    "def assemble_kernelmatrix(data, data2 = None, kernel = scalar_product):\n",
    "    if data2 == None:\n",
    "        K = pairwise_kernels(data, metric = kernel)\n",
    "    else:\n",
    "        K = pairwise_kernels(data2, data, metric = kernel)\n",
    "    return K\n",
    "\n",
    "def minimize_Lagrangian2(training_data, training_labels, penalty, kernel, kernelmatrix):\n",
    "    no_samples = len(training_data)\n",
    "    training_labels = matrix(training_labels, (no_samples, 1))\n",
    "    K = kernelmatrix\n",
    "    T = np.dot(training_labels, np.transpose(training_labels))\n",
    "    Q = matrix(np.multiply(K, T), (no_samples, no_samples), tc='d')\n",
    "    A = matrix(training_labels, ( 1, no_samples),tc='d')\n",
    "    print(np.shape(A))\n",
    "    p = matrix(-1., ( no_samples, 1),tc='d')\n",
    "    b = matrix(0.,(1,1),tc='d')\n",
    "    G = matrix(np.concatenate((-np.identity(no_samples),np.identity(no_samples))),tc='d')\n",
    "    h = matrix(np.concatenate((matrix(0.,(no_samples,1 )), matrix(float(penalty),(no_samples,1)))),tc='d')\n",
    "    sol = solvers.qp(Q, p, G, h, A, b)\n",
    "    a = np.reshape(np.array(sol['x']), no_samples)\n",
    "    return a "
   ]
  },
  {
   "cell_type": "code",
   "execution_count": 211,
   "metadata": {
    "collapsed": true
   },
   "outputs": [],
   "source": [
    "def minimize_Lagrangian3(training_data, training_labels, penalty, kernel):\n",
    "\n",
    "    no_samples = len(training_data)\n",
    "    K = pairwise_kernels(training_data, metric = kernel)\n",
    "    def Lagrangian(x):\n",
    "        return 0.5*np.dot(np.dot(np.transpose(x),Q),x) - np.dot(np.transpose(p),x)\n",
    "    T = np.dot(training_labels, np.transpose(training_labels))\n",
    "    Q = np.multiply(K, T)\n",
    "    A = training_labels\n",
    "    p = np.ones(no_samples)\n",
    "    b = np.array(0.)\n",
    "    G = np.concatenate((-np.identity(no_samples),np.identity(no_samples)))\n",
    "    h = np.concatenate((np.zeros(no_samples), penalty*np.ones(no_samples)))\n",
    "    '''K = np.array(K)\n",
    "    q = np.array(q)\n",
    "    A = np.array(A)\n",
    "    b = np.array(b)\n",
    "    G = np.array(G)\n",
    "    h = np.array(h)'''\n",
    "    a0 = np.zeros((no_samples, 1))\n",
    "    constraint1 = {'type': 'ineq',\n",
    "                  'fun': lambda x: -np.dot(G,x)+h,\n",
    "                  'jac': lambda x: -G}\n",
    "    constraint2 ={'type': 'eq',\n",
    "                 'fun': lambda x: np.dot(A,x)+b,\n",
    "                 'jac': lambda x: A}\n",
    "    options = {'maxiter': 100000}\n",
    "    a=scipy.optimize.minimize(Lagrangian, a0, constraints=[constraint1, constraint2], jac = lambda x: np.dot(Q,x), hess = lambda x: Q,method = 'Powell', options = options)\n",
    "    return a\n"
=======
    "def minimize_Lagrangian2(training_data, training_labels, penalty, kernel):\n",
    "    no_samples = len(training_data)\n",
    "    training_labels = matrix(training_labels, (no_samples, 1))\n",
    "    K = matrix(pairwise_kernels(training_data, metric = kernel),tc='d')\n",
    "    T = np.dot(training_labels, np.transpose(training_labels))\n",
    "    K = np.multiply(K, T)\n",
    "    A = matrix(training_labels,tc='d')\n",
    "    p = matrix(1., ( 1,no_samples),tc='d')\n",
    "    b = matrix(0.,(1,1),tc='d')\n",
    "    G = matrix(np.concatenate((-np.identity(no_samples),np.identity(no_samples))),tc='d')\n",
    "    h = matrix(np.concatenate((matrix(0.,(no_samples,1 )), matrix(float(penalty),(no_samples,1)))),tc='d')\n",
    "    sol = solvers.qp(-K, p, G, h, A, b)\n",
    "    x = np.reshape(np.array(sol['x']), no_samples)\n",
    "    a = np.array([x[i]*training_labels[i] for i in range(no_samples)])\n",
    "    return a"
>>>>>>> bb9e9a5df568438049d0e028e08f888f61cbab45
   ]
  },
  {
   "cell_type": "code",
<<<<<<< HEAD
   "execution_count": 212,
=======
   "execution_count": 15,
>>>>>>> bb9e9a5df568438049d0e028e08f888f61cbab45
   "metadata": {
    "collapsed": false
   },
   "outputs": [
    {
<<<<<<< HEAD
     "name": "stdout",
     "output_type": "stream",
     "text": [
      "(1L, 5L)\n",
      "     pcost       dcost       gap    pres   dres\n",
      " 0:  1.7192e+05 -1.1505e+06  1e+06  2e-13  2e-13\n",
      " 1:  3.4083e+04 -5.5332e+04  9e+04  1e-13  7e-14\n",
      " 2:  5.9498e+03 -7.6589e+03  1e+04  1e-16  1e-13\n",
      " 3:  7.3697e+02 -1.3397e+03  2e+03  2e-16  5e-14\n",
      " 4: -2.1569e+01 -2.4751e+02  2e+02  3e-14  2e-14\n",
      " 5: -1.9006e+02 -2.1113e+02  2e+01  3e-14  6e-14\n",
      " 6: -1.9982e+02 -2.0012e+02  3e-01  7e-17  6e-14\n",
      " 7: -2.0000e+02 -2.0000e+02  3e-03  3e-14  2e-14\n",
      " 8: -2.0000e+02 -2.0000e+02  3e-05  1e-16  2e-14\n",
      "Optimal solution found.\n"
     ]
    },
    {
     "data": {
      "text/plain": [
       "array([  1.99999994e+02,   4.10853600e-07,   5.28566790e-07,\n",
       "         4.37073684e-08,   1.99999993e+02])"
      ]
     },
     "execution_count": 212,
=======
     "data": {
      "text/plain": [
       "(100L, 100L)"
      ]
     },
     "execution_count": 15,
>>>>>>> bb9e9a5df568438049d0e028e08f888f61cbab45
     "metadata": {},
     "output_type": "execute_result"
    }
   ],
   "source": [
<<<<<<< HEAD
    "C = 1000\n",
    "daten = np.array([[0,1], [1, 0],[2,0], [1,2], [0, 0.9]])\n",
    "labels = np.array([-1, 1, 1, -1, 1])\n",
    "a = minimize_Lagrangian2(daten, labels, C, scalar_product)\n",
    "a"
=======
    "label = matrix(label, (100, 1))\n",
    "X = np.dot(label, np.transpose(label))\n",
    "np.shape(X)"
>>>>>>> bb9e9a5df568438049d0e028e08f888f61cbab45
   ]
  },
  {
   "cell_type": "code",
<<<<<<< HEAD
   "execution_count": 223,
   "metadata": {
    "collapsed": false,
    "scrolled": false
=======
   "execution_count": 21,
   "metadata": {
    "collapsed": false,
    "scrolled": true
>>>>>>> bb9e9a5df568438049d0e028e08f888f61cbab45
   },
   "outputs": [
    {
     "name": "stdout",
     "output_type": "stream",
     "text": [
<<<<<<< HEAD
      "(1L, 100L)\n",
      "     pcost       dcost       gap    pres   dres\n",
      " 0:  7.8143e+04 -1.9916e+06  4e+06  2e-02  4e-12\n",
      " 1:  2.5243e+04 -3.1858e+05  6e+05  3e-03  3e-12\n",
      " 2:  9.0026e+03 -2.4061e+04  4e+04  1e-04  1e-12\n",
      " 3:  1.8402e+03 -2.0437e+03  4e+03  1e-06  4e-13\n",
      " 4:  2.6444e+02 -2.9632e+02  6e+02  2e-16  2e-13\n",
      " 5:  3.7262e+01 -4.3087e+01  8e+01  4e-16  8e-14\n",
      " 6:  5.0909e+00 -6.4182e+00  1e+01  2e-16  3e-14\n",
      " 7:  6.2566e-01 -1.0187e+00  2e+00  2e-16  1e-14\n",
      " 8:  3.9649e-02 -1.9089e-01  2e-01  2e-16  5e-15\n",
      " 9: -2.6537e-02 -5.4438e-02  3e-02  2e-16  2e-15\n",
      "10: -3.3741e-02 -3.9955e-02  6e-03  2e-16  9e-16\n",
      "11: -3.6566e-02 -3.7249e-02  7e-04  2e-16  1e-15\n",
      "12: -3.6948e-02 -3.6973e-02  3e-05  2e-16  1e-15\n",
      "13: -3.6963e-02 -3.6963e-02  3e-07  2e-16  1e-15\n",
      "14: -3.6963e-02 -3.6963e-02  3e-09  2e-16  9e-16\n",
=======
      "     pcost       dcost       gap    pres   dres\n",
      " 0:  0.0000e+00 -1.0000e+02  4e+02  1e+00  0e+00\n",
      " 1:  7.7684e+00 -2.9561e+01  4e+01  6e-14  2e-16\n",
      " 2:  8.9940e-02 -1.0445e+00  1e+00  4e-16  8e-16\n",
      " 3:  9.0297e-04 -1.0457e-02  1e-02  7e-17  2e-16\n",
      " 4:  9.0298e-06 -1.0457e-04  1e-04  3e-17  4e-16\n",
      " 5:  9.0298e-08 -1.0457e-06  1e-06  3e-16  2e-16\n",
      " 6:  9.0298e-10 -1.0457e-08  1e-08  9e-17  2e-16\n",
>>>>>>> bb9e9a5df568438049d0e028e08f888f61cbab45
      "Optimal solution found.\n"
     ]
    },
    {
     "data": {
      "text/plain": [
<<<<<<< HEAD
       "array([  3.22499355e-11,   6.97388097e-04,   6.28323856e-11,\n",
       "         9.04689696e-04,   8.39562494e-11,   1.14019132e-02,\n",
       "         2.13654136e-11,   2.25498889e-11,   2.10151379e-03,\n",
       "         5.84690810e-04,   5.94698405e-11,   2.30148308e-11,\n",
       "         1.59096953e-11,   1.33423684e-11,   3.69645860e-11,\n",
       "         6.02015608e-11,   1.48437331e-11,   7.06501019e-03,\n",
       "         2.22508687e-08,   1.27750702e-11,   1.37422413e-10,\n",
       "         2.95234980e-03,   1.57135249e-09,   1.49049297e-03,\n",
       "         3.00743902e-11,   3.02184428e-03,   1.85770897e-11,\n",
       "         1.77098789e-11,   1.84890518e-11,   5.80841629e-11,\n",
       "         3.20354131e-10,   1.37633274e-10,   3.75681129e-03,\n",
       "         6.05738169e-11,   1.42623920e-11,   1.48617079e-10,\n",
       "         1.37554013e-11,   9.57070683e-11,   3.09150862e-11,\n",
       "         5.65454762e-11,   5.97166991e-04,   4.42684778e-11,\n",
       "         2.61433013e-11,   1.03083797e-10,   1.15207865e-11,\n",
       "         1.20656605e-03,   2.53407809e-11,   1.13937615e-11,\n",
       "         2.86287037e-03,   8.26021103e-11,   3.78070410e-11,\n",
       "         6.18375583e-11,   5.15315850e-11,   8.39648782e-12,\n",
       "         1.95605163e-11,   7.78033554e-11,   9.09882067e-12,\n",
       "         1.46780863e-11,   1.17574115e-11,   4.16446921e-11,\n",
       "         1.11169319e-11,   4.25482736e-11,   2.01552742e-03,\n",
       "         4.95643059e-03,   1.42964305e-10,   2.07775097e-11,\n",
       "         1.00447861e-11,   4.51870760e-12,   2.53837531e-11,\n",
       "         1.13519658e-02,   1.48002113e-10,   1.44125432e-11,\n",
       "         1.00375676e-11,   3.17030327e-03,   1.44274242e-11,\n",
       "         3.99352654e-11,   1.40360123e-11,   7.62603987e-11,\n",
       "         1.73242217e-11,   1.79279612e-11,   5.47154399e-11,\n",
       "         7.11408417e-11,   9.28003272e-10,   4.17764745e-11,\n",
       "         7.79661531e-04,   1.84867396e-11,   1.83402195e-11,\n",
       "         2.41560261e-03,   3.06426999e-03,   3.22700551e-11,\n",
       "         7.61227334e-11,   3.81157182e-03,   1.91959024e-11,\n",
       "         1.35645336e-10,   6.61606258e-11,   3.61948240e-11,\n",
       "         3.30839143e-11,   1.91159180e-03,   6.47260161e-10,\n",
       "         1.80614195e-03])"
      ]
     },
     "execution_count": 223,
=======
       "array([  4.96142330e-12,   5.01655022e-11,   4.96142330e-12,\n",
       "         4.96142330e-12,   5.01655022e-11,   5.01655022e-11,\n",
       "         4.96142330e-12,   4.96142330e-12,   4.96142330e-12,\n",
       "         4.96142330e-12,   4.96142330e-12,   4.96142330e-12,\n",
       "         4.96142330e-12,   4.96142330e-12,   4.96142330e-12,\n",
       "         4.96142330e-12,   4.96142330e-12,   5.01655022e-11,\n",
       "         4.96142330e-12,   4.96142330e-12,   4.96142330e-12,\n",
       "         4.96142330e-12,   4.96142330e-12,   5.01655022e-11,\n",
       "         4.96142330e-12,   4.96142330e-12,   4.96142330e-12,\n",
       "         4.96142330e-12,   4.96142330e-12,   4.96142330e-12,\n",
       "         4.96142330e-12,   4.96142330e-12,   4.96142330e-12,\n",
       "         4.96142330e-12,   4.96142330e-12,   4.96142330e-12,\n",
       "         4.96142330e-12,   4.96142330e-12,   4.96142330e-12,\n",
       "         4.96142330e-12,   4.96142330e-12,   4.96142330e-12,\n",
       "         4.96142330e-12,   4.96142330e-12,   4.96142330e-12,\n",
       "         4.96142330e-12,   4.96142330e-12,   4.96142330e-12,\n",
       "         4.96142330e-12,   4.96142330e-12,   4.96142330e-12,\n",
       "         4.96142330e-12,   4.96142330e-12,   4.96142330e-12,\n",
       "         5.01655022e-11,   4.96142330e-12,   4.96142330e-12,\n",
       "         4.96142330e-12,   4.96142330e-12,   4.96142330e-12,\n",
       "         4.96142330e-12,   4.96142330e-12,   4.96142330e-12,\n",
       "         5.01655022e-11,   4.96142330e-12,   4.96142330e-12,\n",
       "         4.96142330e-12,   4.96142330e-12,   4.96142330e-12,\n",
       "         5.01655022e-11,   4.96142330e-12,   4.96142330e-12,\n",
       "         4.96142330e-12,   4.96142330e-12,   4.96142330e-12,\n",
       "         4.96142330e-12,   4.96142330e-12,   4.96142330e-12,\n",
       "         4.96142330e-12,   4.96142330e-12,   4.96142330e-12,\n",
       "         4.96142330e-12,   4.96142330e-12,   4.96142330e-12,\n",
       "         4.96142330e-12,   4.96142330e-12,   4.96142330e-12,\n",
       "         4.96142330e-12,   4.96142330e-12,   4.96142330e-12,\n",
       "         4.96142330e-12,   4.96142330e-12,   4.96142330e-12,\n",
       "         4.96142330e-12,   4.96142330e-12,   4.96142330e-12,\n",
       "         4.96142330e-12,   4.96142330e-12,   5.01655022e-11,\n",
       "         4.96142330e-12])"
      ]
     },
     "execution_count": 21,
>>>>>>> bb9e9a5df568438049d0e028e08f888f61cbab45
     "metadata": {},
     "output_type": "execute_result"
    }
   ],
   "source": [
    "no_samples = 100\n",
<<<<<<< HEAD
    "C = 1000\n",
    "data = train_images[:no_samples]\n",
    "label = np.array(label0[:no_samples])\n",
    "a = minimize_Lagrangian2(data, label, C, scalar_product)\n",
=======
    "C = 1\n",
    "data = train_images[:no_samples]\n",
    "label = np.array(label0[:no_samples])\n",
    "a = minimize_Lagrangian(data, label, C, gk)\n",
>>>>>>> bb9e9a5df568438049d0e028e08f888f61cbab45
    "a\n"
   ]
  },
  {
   "cell_type": "code",
<<<<<<< HEAD
   "execution_count": 305,
=======
   "execution_count": 39,
>>>>>>> bb9e9a5df568438049d0e028e08f888f61cbab45
   "metadata": {
    "collapsed": false
   },
   "outputs": [],
   "source": [
    "class mySVM:\n",
    "    \n",
<<<<<<< HEAD
    "    def __init__(self, kernel = gk, penalty = 1, sigma = 0.01):\n",
    "        self.sigma = sigma\n",
    "        self.kernel = kernel\n",
    "        self.penalty = penalty\n",
    "        self.kernelmatrix_for_fit = None\n",
    "        self.kernelmatrix_for_predict = None\n",
    "        \n",
    "    def fit(self,training_data, training_labels):\n",
    "        if self.kernelmatrix_for_fit == None:\n",
    "            self.kernelmatrix_for_fit  = assemble_kernelmatrix(training_data, kernel = self.kernel)\n",
    "        \n",
    "        a = minimize_Lagrangian2(training_data, training_labels,self.penalty, self.kernel, kernelmatrix = self.kernelmatrix_for_fit)\n",
    "\n",
    "            \n",
    "        self.a = a\n",
    "        self.training_data = training_data\n",
    "        self.training_labels = training_labels\n",
    "\n",
    "        \n",
    "    def predict(self, newdata):\n",
    "        if self.kernelmatrix_for_predict == None:\n",
    "            self.kernelmatrix_for_predict = assemble_kernelmatrix(newdata, data2 = self.training_data, kernel = self.kernel)\n",
    "        k = self.kernelmatrix_for_predict\n",
    "        alphatimeslabel = np.multiply(self.a, self.training_labels)\n",
    "        prediction = np.array([np.dot(k[:,i], alphatimeslabel) for i in range(len(newdata))])\n",
    "        return np.sign(prediction)\n",
=======
    "    def __init__(self):\n",
    "        self.kernel = gk\n",
    "        self.sigma = 0.01\n",
    "        self.penalty = 1\n",
    "        \n",
    "    def fit(self,training_data, training_labels):\n",
    "        kernel = self.kernel\n",
    "        a = minimize_Lagrangian(training_data, training_labels,self.penalty, kernel)\n",
    "        self.a = a\n",
    "    #def predict(newdata):\n",
    "        \n",
>>>>>>> bb9e9a5df568438049d0e028e08f888f61cbab45
    "    \n",
    "        "
   ]
  },
  {
   "cell_type": "code",
<<<<<<< HEAD
   "execution_count": 308,
=======
   "execution_count": 40,
>>>>>>> bb9e9a5df568438049d0e028e08f888f61cbab45
   "metadata": {
    "collapsed": false
   },
   "outputs": [
    {
     "name": "stdout",
     "output_type": "stream",
     "text": [
<<<<<<< HEAD
      "(1L, 1000L)\n",
      "     pcost       dcost       gap    pres   dres\n",
      " 0: -1.3383e+02 -1.2260e+03  4e+03  1e+00  5e-16\n",
      " 1: -1.1334e+02 -4.9931e+02  5e+02  6e-02  5e-16\n",
      " 2: -1.1503e+02 -2.5507e+02  2e+02  2e-02  2e-15\n",
      " 3: -1.0840e+02 -1.1675e+02  1e+01  2e-03  6e-15\n",
      " 4: -1.0702e+02 -1.0710e+02  2e-01  2e-05  3e-15\n",
      " 5: -1.0700e+02 -1.0700e+02  2e-03  2e-07  3e-15\n",
      " 6: -1.0700e+02 -1.0700e+02  2e-05  2e-09  2e-15\n",
=======
      "     pcost       dcost       gap    pres   dres\n",
      " 0:  0.0000e+00 -1.0000e+02  4e+02  1e+00  0e+00\n",
      " 1:  7.7684e+00 -2.9561e+01  4e+01  6e-14  2e-16\n",
      " 2:  8.9940e-02 -1.0445e+00  1e+00  4e-16  8e-16\n",
      " 3:  9.0297e-04 -1.0457e-02  1e-02  7e-17  2e-16\n",
      " 4:  9.0298e-06 -1.0457e-04  1e-04  3e-17  4e-16\n",
      " 5:  9.0298e-08 -1.0457e-06  1e-06  3e-16  2e-16\n",
      " 6:  9.0298e-10 -1.0457e-08  1e-08  9e-17  2e-16\n",
>>>>>>> bb9e9a5df568438049d0e028e08f888f61cbab45
      "Optimal solution found.\n"
     ]
    },
    {
<<<<<<< HEAD
     "name": "stderr",
     "output_type": "stream",
     "text": [
      "C:\\Users\\LMatt\\Anaconda3\\envs\\py27\\lib\\site-packages\\ipykernel\\__main__.py:2: FutureWarning: comparison to `None` will result in an elementwise object comparison in the future.\n",
      "  from ipykernel import kernelapp as app\n"
     ]
    },
    {
     "name": "stdout",
     "output_type": "stream",
     "text": [
      "(2000L,)\n"
     ]
    },
    {
     "data": {
      "text/plain": [
       "(797, 757)"
      ]
     },
     "execution_count": 308,
     "metadata": {},
     "output_type": "execute_result"
    }
   ],
   "source": [
    "C=1\n",
    "no = 1000 #Anzahl an Trainingsdaten, die zum fitten verwendet werden\n",
    "no2 = 1000 #Anzahl an Trainingsdaten, die nicht zum fitten verwendet wurden, mit denen wir unsere SVM testen\n",
    "s = 0.0001\n",
    "svm = mySVM(kernel = gk, penalty=C, sigma = s )\n",
    "svm.fit(train_images[:no], train_labels[:no])\n",
    "pred = svm.predict(train_images[:no+no2])\n",
    "print(np.shape(train_labels[:no+no2]))\n",
    "x = list(pred == label0[:no+no2])\n",
    "sum(x[:no]), sum(x[-no2:])"
   ]
  },
  {
   "cell_type": "code",
   "execution_count": null,
   "metadata": {
    "collapsed": false
   },
   "outputs": [],
   "source": []
  },
  {
   "cell_type": "code",
   "execution_count": 263,
   "metadata": {
    "collapsed": false
   },
   "outputs": [
    {
     "data": {
      "text/plain": [
       "2"
      ]
     },
     "execution_count": 263,
=======
     "data": {
      "text/plain": [
       "array([  4.96142330e-12,   5.01655022e-11,   4.96142330e-12,\n",
       "         4.96142330e-12,   5.01655022e-11,   5.01655022e-11,\n",
       "         4.96142330e-12,   4.96142330e-12,   4.96142330e-12,\n",
       "         4.96142330e-12,   4.96142330e-12,   4.96142330e-12,\n",
       "         4.96142330e-12,   4.96142330e-12,   4.96142330e-12,\n",
       "         4.96142330e-12,   4.96142330e-12,   5.01655022e-11,\n",
       "         4.96142330e-12,   4.96142330e-12,   4.96142330e-12,\n",
       "         4.96142330e-12,   4.96142330e-12,   5.01655022e-11,\n",
       "         4.96142330e-12,   4.96142330e-12,   4.96142330e-12,\n",
       "         4.96142330e-12,   4.96142330e-12,   4.96142330e-12,\n",
       "         4.96142330e-12,   4.96142330e-12,   4.96142330e-12,\n",
       "         4.96142330e-12,   4.96142330e-12,   4.96142330e-12,\n",
       "         4.96142330e-12,   4.96142330e-12,   4.96142330e-12,\n",
       "         4.96142330e-12,   4.96142330e-12,   4.96142330e-12,\n",
       "         4.96142330e-12,   4.96142330e-12,   4.96142330e-12,\n",
       "         4.96142330e-12,   4.96142330e-12,   4.96142330e-12,\n",
       "         4.96142330e-12,   4.96142330e-12,   4.96142330e-12,\n",
       "         4.96142330e-12,   4.96142330e-12,   4.96142330e-12,\n",
       "         5.01655022e-11,   4.96142330e-12,   4.96142330e-12,\n",
       "         4.96142330e-12,   4.96142330e-12,   4.96142330e-12,\n",
       "         4.96142330e-12,   4.96142330e-12,   4.96142330e-12,\n",
       "         5.01655022e-11,   4.96142330e-12,   4.96142330e-12,\n",
       "         4.96142330e-12,   4.96142330e-12,   4.96142330e-12,\n",
       "         5.01655022e-11,   4.96142330e-12,   4.96142330e-12,\n",
       "         4.96142330e-12,   4.96142330e-12,   4.96142330e-12,\n",
       "         4.96142330e-12,   4.96142330e-12,   4.96142330e-12,\n",
       "         4.96142330e-12,   4.96142330e-12,   4.96142330e-12,\n",
       "         4.96142330e-12,   4.96142330e-12,   4.96142330e-12,\n",
       "         4.96142330e-12,   4.96142330e-12,   4.96142330e-12,\n",
       "         4.96142330e-12,   4.96142330e-12,   4.96142330e-12,\n",
       "         4.96142330e-12,   4.96142330e-12,   4.96142330e-12,\n",
       "         4.96142330e-12,   4.96142330e-12,   4.96142330e-12,\n",
       "         4.96142330e-12,   4.96142330e-12,   5.01655022e-11,\n",
       "         4.96142330e-12])"
      ]
     },
     "execution_count": 40,
>>>>>>> bb9e9a5df568438049d0e028e08f888f61cbab45
     "metadata": {},
     "output_type": "execute_result"
    }
   ],
   "source": [
<<<<<<< HEAD
    "t = [True, True, False]\n",
    "sum(t)"
=======
    "svm = mySVM()\n",
    "svm.fit(data, label)\n",
    "svm.a"
>>>>>>> bb9e9a5df568438049d0e028e08f888f61cbab45
   ]
  },
  {
   "cell_type": "code",
   "execution_count": null,
   "metadata": {
    "collapsed": true
   },
   "outputs": [],
   "source": []
  }
 ],
 "metadata": {
  "anaconda-cloud": {},
  "kernelspec": {
   "display_name": "Python [conda env:py27]",
   "language": "python",
   "name": "conda-env-py27-py"
  },
  "language_info": {
   "codemirror_mode": {
    "name": "ipython",
    "version": 2
   },
   "file_extension": ".py",
   "mimetype": "text/x-python",
   "name": "python",
   "nbconvert_exporter": "python",
   "pygments_lexer": "ipython2",
   "version": "2.7.12"
  }
 },
 "nbformat": 4,
 "nbformat_minor": 1
}
