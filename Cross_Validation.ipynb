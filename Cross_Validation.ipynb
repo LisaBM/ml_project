{
 "cells": [
  {
   "cell_type": "code",
   "execution_count": 1,
   "metadata": {
    "collapsed": false
   },
   "outputs": [],
   "source": [
    "import numpy as np\n",
    "import scipy\n",
    "import pandas as pd # data processing, CSV file I/O (e.g. pd.read_csv)\n",
    "\n",
    "from sklearn.svm import SVC\n",
    "#from sklearn.model_selection import KFold\n",
    "import sklearn as sk\n",
    "import matplotlib.pyplot as plt\n",
    "%matplotlib inline\n",
    "\n",
    "from smo import *\n",
    "from mySVM_class import *"
   ]
  },
  {
   "cell_type": "code",
   "execution_count": 2,
   "metadata": {
    "collapsed": false
   },
   "outputs": [],
   "source": [
    "train = pd.read_csv('C:/Users/LMatt/OneDrive/Dokumente/Mathe/Machine Learning/Projekt/digits_train.csv', nrows = 2000)"
   ]
  },
  {
   "cell_type": "code",
   "execution_count": 3,
   "metadata": {
    "collapsed": false
   },
   "outputs": [],
   "source": [
    "images = [\"%s%s\" %(\"pixel\",pixel_no) for pixel_no in range(0,28**2)]\n",
    "train_images = np.array(train[images], dtype=np.float)/100\n",
    "train_labels = np.array(train['label'])\n",
    "label_even = np.array([1 if i%2==0 else -1 for i in train_labels]) #All even numbers get the label 1, the odd ones get -1"
   ]
  },
  {
   "cell_type": "markdown",
   "metadata": {},
   "source": [
    "In order to find out which C yields the qualitatively best classifiert, we determine for several values of C a score ($score=\\frac{\\#correct}{\\#all}$).\n",
    "For each of these values, we separate the data randomly into trainings data and test data multiple times, and cross-validate each time using this partition. Afterwards, we average over these multiple scores and compare the outcome for the different values of C."
   ]
  },
  {
   "cell_type": "code",
   "execution_count": 7,
   "metadata": {
    "collapsed": false
   },
   "outputs": [
    {
     "name": "stdout",
     "output_type": "stream",
     "text": [
      "[[0.80200000000000005, 0.80800000000000005, 0.81200000000000006, 0.80400000000000005, 0.78200000000000003, 0.81400000000000006, 0.81400000000000006, 0.80800000000000005, 0.81599999999999995, 0.84199999999999997, 0.78400000000000003, 0.78800000000000003, 0.81000000000000005], [0.81400000000000006, 0.80000000000000004, 0.80600000000000005, 0.82200000000000006, 0.78800000000000003, 0.81800000000000006, 0.83200000000000007, 0.83599999999999997, 0.82400000000000007, 0.81400000000000006, 0.82999999999999996, 0.81600000000000006, 0.79600000000000004], [0.82199999999999995, 0.79600000000000004, 0.82200000000000006, 0.81200000000000006, 0.83599999999999997, 0.82799999999999996, 0.80800000000000005, 0.82000000000000006, 0.82599999999999996, 0.82200000000000006, 0.81200000000000006, 0.82600000000000007, 0.81000000000000005]]\n",
      "Wall time: 9min 33s\n"
     ]
    }
   ],
   "source": [
    "%%time\n",
    "C_list = [1.,2., 10.,50.,75., 100.,125., 200., 300.,500.,  750., 1000., 2000.]\n",
    "no_samples = 500\n",
    "sigma_list = [.1, 1. ]\n",
    "scores_list = []\n",
    "for i in range(3):\n",
    "    scores_list.append([])\n",
    "    for C in C_list:\n",
    "        scores_list[i].append(cross_validation(train_images[:no_samples],label_even[:no_samples], C, scalar_product))\n",
    "print(scores_list)"
   ]
  },
  {
   "cell_type": "code",
   "execution_count": 32,
   "metadata": {
    "collapsed": false,
    "scrolled": true
   },
   "outputs": [],
   "source": [
    "S = np.mean(scores_list, axis = 0)"
   ]
  },
  {
   "cell_type": "code",
   "execution_count": 31,
   "metadata": {
    "collapsed": false
   },
   "outputs": [
    {
     "data": {
      "image/png": "[encoded data removed]",
      "text/plain": [
       "<matplotlib.figure.Figure at 0x172ed756f28>"
      ]
     },
     "metadata": {},
     "output_type": "display_data"
    }
   ],
   "source": [
    "figure_parameterC = plt.figure();\n",
    "plt.plot(C_list, S);\n",
    "plt.xscale('log');\n",
    "plt.ylim([0.5,1]);\n",
    "plt.xlim([0,2000]);\n",
    "\n",
    "plt.title('Analysis of the effect of C on the quality of the linear classifier \\n');\n",
    "plt.xlabel('C');\n",
    "plt.ylabel('score');\n",
    "plt.savefig('CAnalysis_linear.pdf')"
   ]
  },
  {
   "cell_type": "markdown",
   "metadata": {},
   "source": [
    "Observation: C has no noticeable effect on the quality of a linear classifier.\n"
   ]
  },
  {
   "cell_type": "code",
   "execution_count": null,
   "metadata": {
    "collapsed": true
   },
   "outputs": [],
   "source": []
  },
  {
   "cell_type": "code",
   "execution_count": null,
   "metadata": {
    "collapsed": true
   },
   "outputs": [],
   "source": []
  }
 ],
 "metadata": {
  "anaconda-cloud": {},
  "kernelspec": {
   "display_name": "Python [conda env:py35]",
   "language": "python",
   "name": "conda-env-py35-py"
  },
  "language_info": {
   "codemirror_mode": {
    "name": "ipython",
    "version": 3
   },
   "file_extension": ".py",
   "mimetype": "text/x-python",
   "name": "python",
   "nbconvert_exporter": "python",
   "pygments_lexer": "ipython3",
   "version": "3.5.2"
  }
 },
 "nbformat": 4,
 "nbformat_minor": 1
}
